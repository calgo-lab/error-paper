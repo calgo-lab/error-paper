{
 "cells": [
  {
   "cell_type": "markdown",
   "id": "8cbee6df-af4e-4994-93ef-d5e478a3e8c6",
   "metadata": {},
   "source": [
    "# Dataset Generation\n",
    "Generate erroneous datasets."
   ]
  },
  {
   "cell_type": "code",
   "execution_count": 1,
   "id": "244095fd-05f7-4533-abbc-a41e4051e561",
   "metadata": {},
   "outputs": [],
   "source": [
    "import numpy as np\n",
    "import pandas as pd\n",
    "import error_generation\n",
    "from utils import get_differences"
   ]
  },
  {
   "cell_type": "code",
   "execution_count": 2,
   "id": "f7926446-9904-413c-b0c0-ddba880d4abb",
   "metadata": {},
   "outputs": [],
   "source": [
    "from error_generation.api import mid_level\n",
    "from error_generation.utils import ErrorModel, ErrorTypeConfig, MidLevelConfig\n",
    "from error_generation.error_mechanism import EAR, ENAR, ECAR\n",
    "from error_generation.utils import ErrorTypeConfig\n",
    "from error_generation import error_type"
   ]
  },
  {
   "cell_type": "code",
   "execution_count": 3,
   "id": "5f3e9f3e-0392-416b-8dce-10e178f42bdc",
   "metadata": {},
   "outputs": [],
   "source": [
    "def read_csv_dataset(dataset_path):\n",
    "    \"\"\"\n",
    "    This method reads a dataset from a csv file path.\n",
    "    \"\"\"\n",
    "    dataframe = pd.read_csv(dataset_path, sep=\",\", header=\"infer\", encoding=\"utf-8\", dtype=str,\n",
    "                                keep_default_na=False, low_memory=False)\n",
    "    return dataframe"
   ]
  },
  {
   "cell_type": "markdown",
   "id": "653b7582-3420-4e61-b6f5-36f4067a7094",
   "metadata": {},
   "source": [
    "## Hospital"
   ]
  },
  {
   "cell_type": "code",
   "execution_count": 4,
   "id": "ed0f1caa-e36e-4048-9f79-20626779f33a",
   "metadata": {},
   "outputs": [],
   "source": [
    "df_clean = read_csv_dataset('../data/hospital/clean.csv')\n",
    "df_dirty = read_csv_dataset('../data/hospital/dirty.csv')\n",
    "\n",
    "df_clean_str = read_csv_dataset('../data/hospital/clean.csv').astype(str)\n",
    "df_dirty_str = read_csv_dataset('../data/hospital/dirty.csv').astype(str)"
   ]
  },
  {
   "cell_type": "markdown",
   "id": "5a6e9caf-981b-4604-a962-d7f5b63567bb",
   "metadata": {},
   "source": [
    "Make some changes such that the HOSP dataset from Baran matches the dataset from Xu et al."
   ]
  },
  {
   "cell_type": "code",
   "execution_count": 5,
   "id": "38dd6bcb-f0b0-418f-a57c-37388cd9526f",
   "metadata": {},
   "outputs": [],
   "source": [
    "df_clean = df_clean.rename(columns={'StateAverage': 'Stateavg'})\n",
    "df_dirty = df_dirty.rename(columns={'StateAverage': 'Stateavg'})\n",
    "df_clean_str = df_clean_str.rename(columns={'StateAverage': 'Stateavg'})\n",
    "df_dirty_str = df_dirty_str.rename(columns={'StateAverage': 'Stateavg'})\n",
    "\n",
    "df_clean = df_clean.drop('index', axis=1)\n",
    "df_dirty = df_dirty.drop('index', axis=1)\n",
    "df_clean_str = df_clean_str.drop('index', axis=1)\n",
    "df_dirty_str = df_dirty_str.drop('index', axis=1)"
   ]
  },
  {
   "cell_type": "code",
   "execution_count": 6,
   "id": "1cef833f-2b6d-40f9-b25a-f97f1b26fc3c",
   "metadata": {},
   "outputs": [],
   "source": [
    "def find_replacement_rules(df, column):\n",
    "    # Initialize a Counter to store rules and their counts\n",
    "    replacement_rules = Counter()\n",
    "    \n",
    "    # Iterate over each row in the DataFrame\n",
    "    for _, row in df.iterrows():\n",
    "        clean = row[f'{column}_clean']\n",
    "        dirty = row[f'{column}_dirty']\n",
    "        \n",
    "        # Check character-by-character for differences\n",
    "        i = 0\n",
    "        while i <= len(clean):\n",
    "            if dirty[i] == 'x' and clean[i] != 'x':  # Found a character in clean replaced by 'x'\n",
    "                replacement_rules[clean[i]] += 1\n",
    "                i = len(clean)\n",
    "            i += 1\n",
    "    \n",
    "    return replacement_rules"
   ]
  },
  {
   "cell_type": "code",
   "execution_count": 7,
   "id": "a16b26c3-d074-4bfe-b3dd-2f59231cd141",
   "metadata": {},
   "outputs": [],
   "source": [
    "from collections import Counter\n",
    "\n",
    "rules = {}\n",
    "\n",
    "for column in df_clean.columns:\n",
    "    df_diff = get_differences(df_clean_str, df_dirty_str, column)\n",
    "    r = find_replacement_rules(df_diff, column)\n",
    "    rules[column] = r"
   ]
  },
  {
   "cell_type": "markdown",
   "id": "78ee1ede-95ae-4881-abb4-7c1822448d59",
   "metadata": {},
   "source": [
    "**Realistic dtypes**\n",
    "The first step to generating realistic errors is assuming realistic dtypes."
   ]
  },
  {
   "cell_type": "code",
   "execution_count": 8,
   "id": "d7459d85-1f01-4a97-bb00-46c2e7a176ce",
   "metadata": {},
   "outputs": [],
   "source": [
    "df_clean['ProviderNumber'] = df_clean['ProviderNumber'].astype('int')\n",
    "df_clean['HospitalName'] = df_clean['HospitalName'].astype('str')\n",
    "df_clean['Address1'] = df_clean['Address1'].astype('str')\n",
    "df_clean['Address2'] = df_clean['Address2'].astype('str')\n",
    "df_clean['Address3'] = df_clean['Address3'].astype('str')\n",
    "df_clean['City'] = df_clean['City'].astype('str')\n",
    "df_clean['State'] = df_clean['State'].astype('category')\n",
    "df_clean['ZipCode'] = df_clean['ZipCode'].astype('category')\n",
    "df_clean['CountyName'] = df_clean['CountyName'].astype('str')\n",
    "df_clean['PhoneNumber'] = df_clean['PhoneNumber'].astype('int')\n",
    "df_clean['HospitalType'] = df_clean['HospitalType'].astype('category')\n",
    "df_clean['HospitalOwner'] = df_clean['HospitalOwner'].astype('category')\n",
    "df_clean['EmergencyService'] = df_clean['EmergencyService'].astype('category')\n",
    "df_clean['Condition'] = df_clean['Condition'].astype('category')\n",
    "df_clean['MeasureCode'] = df_clean['MeasureCode'].astype('category')\n",
    "df_clean['MeasureName'] = df_clean['MeasureName'].astype('str')\n",
    "df_clean['Score'] = df_clean['Score'].astype('str')\n",
    "df_clean['Sample'] = df_clean['Sample'].astype('str')\n",
    "df_clean['Stateavg'] = df_clean['Stateavg'].astype('str')"
   ]
  },
  {
   "cell_type": "markdown",
   "id": "eed34c17-d23a-4f1a-bf84-29e8ffe4e677",
   "metadata": {},
   "source": [
    "## Replica"
   ]
  },
  {
   "cell_type": "code",
   "execution_count": 9,
   "id": "42006770-20ac-4f2c-9cb8-19096c77ba88",
   "metadata": {
    "scrolled": true
   },
   "outputs": [],
   "source": [
    "n_rows, _ = df_clean.shape\n",
    "mid_lvl_config = {k: [(ErrorModel(ECAR(), error_type.Replace({'replace_what': v, 'replace_with': 'x'}), rules[k][v]/n_rows)) for v in rules[k]] for k in rules}"
   ]
  },
  {
   "cell_type": "code",
   "execution_count": 10,
   "id": "6dc4db26-dc8d-43e8-857e-e2456036c137",
   "metadata": {},
   "outputs": [],
   "source": [
    "config = MidLevelConfig(mid_lvl_config)"
   ]
  },
  {
   "cell_type": "code",
   "execution_count": 11,
   "id": "934f6e9b-da17-420f-9488-58079ca43eb2",
   "metadata": {},
   "outputs": [],
   "source": [
    "for i in range(10):\n",
    "    df_corrupted, error_mask = mid_level.create_errors(df_clean_str, config)\n",
    "    df_corrupted.to_csv(f'../export_data/hospital/hospital_replica_{i}.csv', index=False)\n",
    "df_clean_str.to_csv('../export_data/hospital/hospital_replica_clean.csv', index=False)"
   ]
  },
  {
   "cell_type": "markdown",
   "id": "4adcd313-bec0-4aa2-906f-76eeae9d4089",
   "metadata": {},
   "source": [
    "### Realistic Error Scenarios"
   ]
  },
  {
   "cell_type": "markdown",
   "id": "44689663-cebc-4bd8-ae13-fda5ab9baca0",
   "metadata": {},
   "source": [
    "### 1) Realistic Errors Completely At Random in HOSP"
   ]
  },
  {
   "cell_type": "code",
   "execution_count": 12,
   "id": "495f5572-df6f-4079-aa46-d2d7de2c0517",
   "metadata": {},
   "outputs": [],
   "source": [
    "error_percentages = (df_dirty_str != df_clean_str).sum() / df_dirty_str.shape[0]  # percentage of errors per column\n",
    "mid_lvl_config_butter_ecar = {column: [ErrorModel(ECAR(), error_type.Butterfinger(), float(error_percentages[column]))] for column in df_clean_str.columns}\n",
    "config_butter_ecar = MidLevelConfig(mid_lvl_config_butter_ecar)"
   ]
  },
  {
   "cell_type": "code",
   "execution_count": 13,
   "id": "d6cd21d9-c3a5-4060-8949-4dba0b6c3ee5",
   "metadata": {},
   "outputs": [],
   "source": [
    "for i in range(10):\n",
    "    df_corrupted, error_mask = mid_level.create_errors(df_clean_str, config_butter_ecar)\n",
    "    df_corrupted.to_csv(f'../export_data/hospital/hospital_butter_ecar_{i}.csv', index=False)\n",
    "df_clean_str.to_csv('../export_data/hospital/hospital_butter_ecar_clean.csv', index=False)"
   ]
  },
  {
   "cell_type": "markdown",
   "id": "9140a906-5a92-4b01-b7ae-af98aefc5867",
   "metadata": {},
   "source": [
    "### 2) Realistic Erroneous At Random in HOSP"
   ]
  },
  {
   "cell_type": "code",
   "execution_count": 14,
   "id": "dbe53815-19e9-4695-847f-f2265210b7bc",
   "metadata": {},
   "outputs": [],
   "source": [
    "for i in range(10):\n",
    "    base_seed = i * 1000  # Using 1000 ensures no overlap between iterations\n",
    "    seeds = [base_seed + 1, base_seed + 2, base_seed + 3]\n",
    "    \n",
    "    mid_lvl_config_ear_realistic = {\n",
    "        'Address1': [ErrorModel(EAR(condition_to_column='HospitalOwner', seed=seeds[0]), error_type.Butterfinger(), 0.1696666)],\n",
    "        'ZipCode': [ErrorModel(EAR(condition_to_column='HospitalOwner', seed=seeds[1]), error_type.Mislabel(), 0.1696666)],\n",
    "        'State': [ErrorModel(EAR(condition_to_column='HospitalOwner', seed=seeds[2]), error_type.Mislabel(), 0.1696666)],\n",
    "    }\n",
    "    ear_realistic = MidLevelConfig(mid_lvl_config_ear_realistic)\n",
    "    df_corrupted, error_mask = mid_level.create_errors(df_clean, ear_realistic)\n",
    "    df_corrupted.to_csv(f'../export_data/hospital/hospital_ear_realistic_{i}.csv', index=False)\n",
    "df_clean_str.to_csv('../export_data/hospital/hospital_ear_realistic_clean.csv', index=False)"
   ]
  },
  {
   "cell_type": "code",
   "execution_count": 15,
   "id": "8155fe42-1b23-46b2-b991-17640035ab38",
   "metadata": {},
   "outputs": [
    {
     "data": {
      "text/plain": [
       "np.int64(507)"
      ]
     },
     "execution_count": 15,
     "metadata": {},
     "output_type": "execute_result"
    }
   ],
   "source": [
    "(df_corrupted != df_clean).sum().sum()"
   ]
  },
  {
   "cell_type": "markdown",
   "id": "4b7e33f2-1c69-4c1a-8a53-261e9ef1a189",
   "metadata": {},
   "source": [
    "### 3) Realistic Erroneous Not At Random in HOSP"
   ]
  },
  {
   "cell_type": "code",
   "execution_count": 16,
   "id": "02e3c464-0ae3-4f1d-8354-ae9b049fd61a",
   "metadata": {},
   "outputs": [],
   "source": [
    "def parse_numbers(df):\n",
    "    # Parse columns Score and Sample to integers\n",
    "    df['Score'] = df['Score'].replace('empty', '-99%').apply(lambda x: int(x.split('%')[0])).astype('Int64').replace(-99, None)\n",
    "    df['Sample'] = df['Sample'].replace('empty', '-99 patients').apply(lambda x: int(x.split(' patients')[0])).astype('Int64').replace(-99, None)\n",
    "    return df\n",
    "\n",
    "def serialize_strings(df):\n",
    "    # Serialize columns Score and Sample to strings\n",
    "    df['Score'] = df['Score'].apply(lambda x: f'{int(x)}%' if not np.isnan(x) else x).fillna('empty')\n",
    "    df['Sample'] = df['Sample'].apply(lambda x: f'{int(x)} patients' if not np.isnan(x) else x).fillna('empty')\n",
    "    return df"
   ]
  },
  {
   "cell_type": "code",
   "execution_count": 17,
   "id": "503e67ba-c9c0-4987-9785-72941c8c0c71",
   "metadata": {},
   "outputs": [],
   "source": [
    "df_clean_realistic_assumptions = df_clean.copy()"
   ]
  },
  {
   "cell_type": "code",
   "execution_count": 18,
   "id": "9dd17d4b-8acb-4095-89d4-106fca29af41",
   "metadata": {},
   "outputs": [],
   "source": [
    "df_clean_realistic_assumptions = parse_numbers(df_clean_realistic_assumptions)"
   ]
  },
  {
   "cell_type": "code",
   "execution_count": 19,
   "id": "a424a73b-5c18-409c-aae4-cf62221d8d82",
   "metadata": {},
   "outputs": [],
   "source": [
    "for i in range(10):\n",
    "    base_seed = i * 1000  # Using 1000 ensures no overlap between iterations\n",
    "    seeds = [base_seed + 1, base_seed + 2, base_seed + 3]\n",
    "    \n",
    "    mid_lvl_config_enar = {\n",
    "        'Score': [ErrorModel(ENAR(seed=seeds[0]), error_type.Outlier({'outlier_coefficient': 0.2}), 0.1696666)],\n",
    "        'Sample': [ErrorModel(ENAR(seed=seeds[1]), error_type.Outlier({'outlier_coefficient': 0.1}), 0.1696666)],\n",
    "        'MeasureCode': [ErrorModel(EAR(condition_to_column='Condition', seed=seeds[2]), error_type.Mislabel(), 0.1696666)],\n",
    "    }\n",
    "    enar_realistic = MidLevelConfig(mid_lvl_config_enar)\n",
    "    df_corrupted, error_mask = mid_level.create_errors(df_clean_realistic_assumptions, enar_realistic)\n",
    "\n",
    "    # serialize numbers when saving\n",
    "    serialize_strings(df_corrupted).to_csv(f'../export_data/hospital/hospital_enar_realistic_{i}.csv', index=False)\n",
    "\n",
    "# serialize numbers when saving\n",
    "serialize_strings(df_clean_realistic_assumptions).to_csv('../export_data/hospital/hospital_enar_realistic_clean.csv', index=False)"
   ]
  }
 ],
 "metadata": {
  "kernelspec": {
   "display_name": "Python 3 (ipykernel)",
   "language": "python",
   "name": "python3"
  },
  "language_info": {
   "codemirror_mode": {
    "name": "ipython",
    "version": 3
   },
   "file_extension": ".py",
   "mimetype": "text/x-python",
   "name": "python",
   "nbconvert_exporter": "python",
   "pygments_lexer": "ipython3",
   "version": "3.10.12"
  }
 },
 "nbformat": 4,
 "nbformat_minor": 5
}
