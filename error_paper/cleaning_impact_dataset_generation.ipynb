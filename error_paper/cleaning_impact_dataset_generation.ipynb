{
 "cells": [
  {
   "cell_type": "code",
   "execution_count": 84,
   "id": "89862937-b3e1-404d-8647-57003155fd6f",
   "metadata": {},
   "outputs": [
    {
     "name": "stdout",
     "output_type": "stream",
     "text": [
      "The autoreload extension is already loaded. To reload it, use:\n",
      "  %reload_ext autoreload\n"
     ]
    }
   ],
   "source": [
    "%load_ext autoreload\n",
    "%autoreload 2"
   ]
  },
  {
   "cell_type": "code",
   "execution_count": 85,
   "id": "542be6a5-8dc4-4a92-9371-3d0bc289d395",
   "metadata": {},
   "outputs": [],
   "source": [
    "import numpy as np\n",
    "import pandas as pd\n",
    "from collections import Counter\n",
    "\n",
    "from utils import get_differences, read_csv_dataset, create_mcar"
   ]
  },
  {
   "cell_type": "code",
   "execution_count": 86,
   "id": "813e644c-95b3-410d-891b-41bab847e9a7",
   "metadata": {},
   "outputs": [],
   "source": [
    "from tab_err import ErrorModel, error_type\n",
    "from tab_err.error_mechanism import EAR, ENAR, ECAR\n",
    "from tab_err.error_type import ErrorTypeConfig\n",
    "from tab_err.api import mid_level, MidLevelConfig"
   ]
  },
  {
   "cell_type": "markdown",
   "id": "b3f7a7ed-3be6-417f-a412-57f4b6a3d078",
   "metadata": {},
   "source": [
    "## beers"
   ]
  },
  {
   "cell_type": "markdown",
   "id": "1186f31e-f07b-4a62-90e2-f240d429a2e2",
   "metadata": {},
   "source": [
    "#### Loading & Cleaning"
   ]
  },
  {
   "cell_type": "code",
   "execution_count": 131,
   "id": "9251a9d3-f62f-49f1-b805-19604e23e90d",
   "metadata": {},
   "outputs": [],
   "source": [
    "df_clean = read_csv_dataset('../data/beers/clean.csv')\n",
    "df_dirty = read_csv_dataset('../data/beers/dirty.csv')\n",
    "\n",
    "df_clean_str = df_clean.copy().astype(str)\n",
    "df_dirty_str = df_dirty.copy().astype(str)\n",
    "\n",
    "error_percentages = (df_dirty_str != df_clean_str).sum() / df_dirty_str.shape[0]\n",
    "\n",
    "df_clean['ounces'] = df_clean['ounces'].astype('category')\n",
    "df_clean['city'] = df_clean['city'].astype('category')\n",
    "df_clean['state'] = df_clean['state'].astype('category')\n",
    "\n",
    "df_clean['abv'] = df_clean['abv'].replace('', np.nan)\n",
    "df_clean['ibu'] = df_clean['ibu'].replace('', np.nan)\n",
    "\n",
    "df_clean['abv'] = df_clean['abv'].astype('float64')\n",
    "df_clean['ibu'] = df_clean['ibu'].astype('float64')"
   ]
  },
  {
   "cell_type": "markdown",
   "id": "4a036ae0-79e6-4269-ad6a-b1c0b224b93b",
   "metadata": {},
   "source": [
    "#### MCAR"
   ]
  },
  {
   "cell_type": "code",
   "execution_count": 132,
   "id": "79418310-a6ca-418c-b90e-0abf7faafc3b",
   "metadata": {},
   "outputs": [
    {
     "name": "stdout",
     "output_type": "stream",
     "text": [
      "Saved MCAR dataset beers iteration 0\n",
      "Saved MCAR dataset beers iteration 1\n",
      "Saved MCAR dataset beers iteration 2\n",
      "Saved MCAR dataset beers iteration 3\n",
      "Saved MCAR dataset beers iteration 4\n",
      "Saved MCAR dataset beers iteration 5\n",
      "Saved MCAR dataset beers iteration 6\n",
      "Saved MCAR dataset beers iteration 7\n",
      "Saved MCAR dataset beers iteration 8\n",
      "Saved MCAR dataset beers iteration 9\n"
     ]
    }
   ],
   "source": [
    "create_mcar('beers', df_clean, error_percentages)"
   ]
  },
  {
   "cell_type": "markdown",
   "id": "ed518599-cbf9-426c-ae65-1d73182373cf",
   "metadata": {},
   "source": [
    "#### Scenario"
   ]
  },
  {
   "cell_type": "code",
   "execution_count": 133,
   "id": "95e3e28d-c092-4dbc-9d97-fcc64f59fef1",
   "metadata": {},
   "outputs": [],
   "source": [
    "scenario_name = 'beers_scenario'\n",
    "\n",
    "for i in range(10):\n",
    "    base_seed = i * 1000  # Using 1000 ensures no overlap between iterations\n",
    "    seeds = [base_seed + 1, base_seed + 2, base_seed + 3, base_seed + 4, base_seed + 5]\n",
    "    \n",
    "    mid_lvl_config = {\n",
    "        'ounces': [ErrorModel(ECAR(seed=seeds[0]), error_type.CategorySwap(), error_percentages['ounces'])],  # ECAR because error_percentage is 1.0 in 'ounces', mechanism doesn't matter\n",
    "        'abv': [ErrorModel(EAR(condition_to_column='brewery-name', seed=seeds[1]), error_type.Outlier(), error_percentages['abv'])],\n",
    "        'ibu': [ErrorModel(EAR(condition_to_column='brewery-name', seed=seeds[2]), error_type.Outlier(), error_percentages['ibu'])],\n",
    "        'city': [ErrorModel(EAR(condition_to_column='brewery-name', seed=seeds[3]), error_type.CategorySwap(), error_percentages['city'])],\n",
    "        'state': [ErrorModel(EAR(condition_to_column='brewery-name', seed=seeds[4]), error_type.CategorySwap(), error_percentages['state'])],\n",
    "    }\n",
    "    scenario = MidLevelConfig(mid_lvl_config)\n",
    "    df_corrupted, error_mask = mid_level.create_errors(df_clean, scenario)\n",
    "    df_corrupted.to_csv(f'../export_data/beers/{scenario_name}_{i}.csv', index=False)\n",
    "df_clean_str.to_csv(f'../export_data/beers/{scenario_name}_clean.csv', index=False)"
   ]
  },
  {
   "cell_type": "markdown",
   "id": "c33bbe1e-fdfb-40d4-b4ca-15967ed72a07",
   "metadata": {},
   "source": [
    "## bridges"
   ]
  },
  {
   "cell_type": "code",
   "execution_count": 134,
   "id": "4e4f1868-0fe2-4b3b-9d9b-7fa9c7475c04",
   "metadata": {},
   "outputs": [
    {
     "name": "stdout",
     "output_type": "stream",
     "text": [
      "Saved MCAR dataset bridges iteration 0\n",
      "Saved MCAR dataset bridges iteration 1\n",
      "Saved MCAR dataset bridges iteration 2\n",
      "Saved MCAR dataset bridges iteration 3\n",
      "Saved MCAR dataset bridges iteration 4\n",
      "Saved MCAR dataset bridges iteration 5\n",
      "Saved MCAR dataset bridges iteration 6\n",
      "Saved MCAR dataset bridges iteration 7\n",
      "Saved MCAR dataset bridges iteration 8\n",
      "Saved MCAR dataset bridges iteration 9\n"
     ]
    }
   ],
   "source": [
    "df_clean = read_csv_dataset('../data/bridges/clean.csv')\n",
    "df_dirty = read_csv_dataset('../data/bridges/bridges_3_1.csv')\n",
    "\n",
    "\n",
    "df_clean_str = df_clean.copy().astype(str)\n",
    "df_dirty_str = df_dirty.copy().astype(str)\n",
    "\n",
    "error_percentages = (df_dirty_str != df_clean_str).sum() / df_dirty_str.shape[0]\n",
    "\n",
    "df_clean['ERECTED'] = df_clean['ERECTED'].replace('?', np.nan)\n",
    "df_clean['LENGTH'] = df_clean['LENGTH'].replace('?', np.nan)\n",
    "df_clean[\"ERECTED\"] = df_clean[\"ERECTED\"].astype('Int64')\n",
    "df_clean[\"LENGTH\"] = df_clean[\"LENGTH\"].astype('Int64')\n",
    "\n",
    "df_clean[\"LOCATION\"] = df_clean[\"LOCATION\"].astype('category')\n",
    "df_clean[\"PURPOSE\"] = df_clean[\"PURPOSE\"].astype('category')\n",
    "df_clean[\"LANES\"] = df_clean[\"LANES\"].astype('category')\n",
    "df_clean[\"CLEAR-G\"] = df_clean[\"CLEAR-G\"].astype('string')\n",
    "df_clean[\"T-OR-D\"] = df_clean[\"T-OR-D\"].astype('category')\n",
    "df_clean[\"MATERIAL\"] = df_clean[\"MATERIAL\"].astype('category')\n",
    "df_clean[\"SPAN\"] = df_clean[\"SPAN\"].astype('category')\n",
    "df_clean[\"REL-L\"] = df_clean[\"REL-L\"].astype('category')\n",
    "df_clean[\"TYPE\"] = df_clean[\"TYPE\"].astype('category')\n",
    "\n",
    "\n",
    "create_mcar('bridges', df_clean, error_percentages)"
   ]
  },
  {
   "cell_type": "code",
   "execution_count": 135,
   "id": "3d6c9c00-c7ca-4aed-a5b3-7a6c61d619c7",
   "metadata": {},
   "outputs": [],
   "source": [
    "scenario_name = 'bridges_scenario'\n",
    "\n",
    "for i in range(10):\n",
    "    base_seed = i * 1000  # Using 1000 ensures no overlap between iterations\n",
    "    seeds = [base_seed + (j+1) for j in range(len(df_clean.columns))]\n",
    "    \n",
    "    mid_lvl_config = {\n",
    "        \"LOCATION\": [ErrorModel(ENAR(seed=seeds[0]), error_type.CategorySwap(), error_percentages['LOCATION'])],\n",
    "        \"ERECTED\": [ErrorModel(EAR(condition_to_column='LOCATION', seed=seeds[1]), error_type.Outlier(), error_percentages['ERECTED'])],\n",
    "        \"PURPOSE\": [ErrorModel(EAR(condition_to_column='LOCATION', seed=seeds[2]), error_type.Extraneous({'extraneous_value_template': 'Purpose: {value}'}), error_percentages['PURPOSE'])],\n",
    "        \"LENGTH\": [ErrorModel(ENAR(seed=seeds[3]), error_type.Outlier(), error_percentages['LENGTH'])],\n",
    "        \"LANES\": [ErrorModel(EAR(condition_to_column='PURPOSE', seed=seeds[4]), error_type.CategorySwap(), error_percentages['LANES'])],\n",
    "        \"CLEAR-G\": [ErrorModel(ENAR(seed=seeds[5]), error_type.MissingValue({'missing_value': 'N/A'}), error_percentages['CLEAR-G'])],\n",
    "        \"T-OR-D\": [ErrorModel(EAR(condition_to_column='PURPOSE', seed=seeds[6]), error_type.CategorySwap(), error_percentages['T-OR-D'])],\n",
    "        \"MATERIAL\": [ErrorModel(EAR(condition_to_column='ERECTED', seed=seeds[7]), error_type.CategorySwap(), error_percentages['MATERIAL'])],\n",
    "        \"SPAN\": [ErrorModel(EAR(condition_to_column='PURPOSE', seed=seeds[8]), error_type.CategorySwap(), error_percentages['SPAN'])],\n",
    "        \"REL-L\": [ErrorModel(EAR(condition_to_column='PURPOSE', seed=seeds[9]), error_type.CategorySwap(), error_percentages['REL-L'])],\n",
    "        \"TYPE\": [ErrorModel(EAR(condition_to_column='PURPOSE', seed=seeds[10]), error_type.CategorySwap(), error_percentages['TYPE'])],\n",
    "    }\n",
    "\n",
    "    scenario = MidLevelConfig(mid_lvl_config)\n",
    "    df_corrupted, error_mask = mid_level.create_errors(df_clean, scenario)\n",
    "    df_corrupted.to_csv(f'../export_data/bridges/{scenario_name}_{i}.csv', index=False)\n",
    "df_clean_str.to_csv(f'../export_data/bridges/{scenario_name}_clean.csv', index=False)"
   ]
  },
  {
   "cell_type": "markdown",
   "id": "99d3adae-e962-49e6-9586-17441e12b465",
   "metadata": {},
   "source": [
    "## cars"
   ]
  },
  {
   "cell_type": "code",
   "execution_count": 137,
   "id": "567730a6-af59-4708-9d45-ca674c0e8a11",
   "metadata": {},
   "outputs": [
    {
     "name": "stdout",
     "output_type": "stream",
     "text": [
      "Saved MCAR dataset cars iteration 0\n",
      "Saved MCAR dataset cars iteration 1\n",
      "Saved MCAR dataset cars iteration 2\n",
      "Saved MCAR dataset cars iteration 3\n",
      "Saved MCAR dataset cars iteration 4\n",
      "Saved MCAR dataset cars iteration 5\n",
      "Saved MCAR dataset cars iteration 6\n",
      "Saved MCAR dataset cars iteration 7\n",
      "Saved MCAR dataset cars iteration 8\n",
      "Saved MCAR dataset cars iteration 9\n"
     ]
    }
   ],
   "source": [
    "df_clean = read_csv_dataset('../data/cars/clean.csv')\n",
    "df_dirty = read_csv_dataset('../data/cars/cars_3_1.csv')\n",
    "\n",
    "df_clean_str = df_clean.copy().astype(str)\n",
    "df_dirty_str = df_dirty.copy().astype(str)\n",
    "\n",
    "error_percentages = (df_dirty_str != df_clean_str).sum() / df_dirty_str.shape[0]\n",
    "\n",
    "df_clean['Cylinders'] = df_clean['Cylinders'].astype('category')\n",
    "df_clean['Acceleration'] = df_clean['Acceleration'].astype('category')\n",
    "df_clean['Model'] = df_clean['Model'].astype('category')\n",
    "df_clean['Origin'] = df_clean['Origin'].astype('category')\n",
    "df_clean['Displacement'] = df_clean['Displacement'].astype('Float64')\n",
    "df_clean['Horsepower'] = df_clean['Horsepower'].astype('Float64')\n",
    "df_clean['Weight'] = df_clean['Weight'].astype('Float64')\n",
    "\n",
    "create_mcar('cars', df_clean, error_percentages)"
   ]
  },
  {
   "cell_type": "code",
   "execution_count": 138,
   "id": "638c4d77-fe45-4f38-bf15-8f2b0fc566a0",
   "metadata": {},
   "outputs": [
    {
     "data": {
      "text/html": [
       "<div>\n",
       "<style scoped>\n",
       "    .dataframe tbody tr th:only-of-type {\n",
       "        vertical-align: middle;\n",
       "    }\n",
       "\n",
       "    .dataframe tbody tr th {\n",
       "        vertical-align: top;\n",
       "    }\n",
       "\n",
       "    .dataframe thead th {\n",
       "        text-align: right;\n",
       "    }\n",
       "</style>\n",
       "<table border=\"1\" class=\"dataframe\">\n",
       "  <thead>\n",
       "    <tr style=\"text-align: right;\">\n",
       "      <th></th>\n",
       "      <th>Car</th>\n",
       "      <th>MPG</th>\n",
       "      <th>Cylinders</th>\n",
       "      <th>Displacement</th>\n",
       "      <th>Horsepower</th>\n",
       "      <th>Weight</th>\n",
       "      <th>Acceleration</th>\n",
       "      <th>Model</th>\n",
       "      <th>Origin</th>\n",
       "    </tr>\n",
       "  </thead>\n",
       "  <tbody>\n",
       "    <tr>\n",
       "      <th>0</th>\n",
       "      <td>Chevrolet Chevelle Malibu</td>\n",
       "      <td>18.0</td>\n",
       "      <td>8</td>\n",
       "      <td>307.0</td>\n",
       "      <td>130.0</td>\n",
       "      <td>3504.0</td>\n",
       "      <td>12.0</td>\n",
       "      <td>70</td>\n",
       "      <td>US</td>\n",
       "    </tr>\n",
       "    <tr>\n",
       "      <th>1</th>\n",
       "      <td>Buick Skylark 320</td>\n",
       "      <td>15.0</td>\n",
       "      <td>8</td>\n",
       "      <td>350.0</td>\n",
       "      <td>165.0</td>\n",
       "      <td>3693.0</td>\n",
       "      <td>11.5</td>\n",
       "      <td>70</td>\n",
       "      <td>US</td>\n",
       "    </tr>\n",
       "    <tr>\n",
       "      <th>2</th>\n",
       "      <td>Plymouth Satellite</td>\n",
       "      <td>18.0</td>\n",
       "      <td>8</td>\n",
       "      <td>318.0</td>\n",
       "      <td>150.0</td>\n",
       "      <td>3436.0</td>\n",
       "      <td>11.0</td>\n",
       "      <td>70</td>\n",
       "      <td>US</td>\n",
       "    </tr>\n",
       "    <tr>\n",
       "      <th>3</th>\n",
       "      <td>AMC Rebel SST</td>\n",
       "      <td>16.0</td>\n",
       "      <td>8</td>\n",
       "      <td>304.0</td>\n",
       "      <td>150.0</td>\n",
       "      <td>3433.0</td>\n",
       "      <td>12.0</td>\n",
       "      <td>70</td>\n",
       "      <td>US</td>\n",
       "    </tr>\n",
       "    <tr>\n",
       "      <th>4</th>\n",
       "      <td>Ford Torino</td>\n",
       "      <td>17.0</td>\n",
       "      <td>8</td>\n",
       "      <td>302.0</td>\n",
       "      <td>140.0</td>\n",
       "      <td>3449.0</td>\n",
       "      <td>10.5</td>\n",
       "      <td>70</td>\n",
       "      <td>US</td>\n",
       "    </tr>\n",
       "  </tbody>\n",
       "</table>\n",
       "</div>"
      ],
      "text/plain": [
       "                         Car   MPG Cylinders  Displacement  Horsepower  \\\n",
       "0  Chevrolet Chevelle Malibu  18.0         8         307.0       130.0   \n",
       "1          Buick Skylark 320  15.0         8         350.0       165.0   \n",
       "2         Plymouth Satellite  18.0         8         318.0       150.0   \n",
       "3              AMC Rebel SST  16.0         8         304.0       150.0   \n",
       "4                Ford Torino  17.0         8         302.0       140.0   \n",
       "\n",
       "   Weight Acceleration Model Origin  \n",
       "0  3504.0         12.0    70     US  \n",
       "1  3693.0         11.5    70     US  \n",
       "2  3436.0         11.0    70     US  \n",
       "3  3433.0         12.0    70     US  \n",
       "4  3449.0         10.5    70     US  "
      ]
     },
     "execution_count": 138,
     "metadata": {},
     "output_type": "execute_result"
    }
   ],
   "source": [
    "df_clean.head()"
   ]
  },
  {
   "cell_type": "code",
   "execution_count": 139,
   "id": "2b902845-074c-4630-907b-2693ae1cc484",
   "metadata": {},
   "outputs": [],
   "source": [
    "scenario_name = 'cars_scenario'\n",
    "\n",
    "for i in range(10):\n",
    "    base_seed = i * 1000  # Using 1000 ensures no overlap between iterations\n",
    "    seeds = [base_seed + (j+1) for j in range(len(df_clean.columns))]\n",
    "    \n",
    "    mid_lvl_config = {\n",
    "        \"Cylinders\": [ErrorModel(ENAR(seed=seeds[0]), error_type.CategorySwap(), error_percentages['Cylinders'])],\n",
    "        \"Displacement\": [ErrorModel(EAR(condition_to_column='Horsepower', seed=seeds[1]), error_type.Outlier(), error_percentages['Displacement'])],\n",
    "        \"Horsepower\": [ErrorModel(ENAR(seed=seeds[2]), error_type.Outlier(), error_percentages['Horsepower'])],\n",
    "        \"Weight\": [ErrorModel(EAR(condition_to_column=\"Horsepower\", seed=seeds[3]), error_type.Outlier(), error_percentages['Weight'])],\n",
    "        \"Acceleration\": [ErrorModel(EAR(condition_to_column=\"Horsepower\", seed=seeds[4]), error_type.CategorySwap(), error_percentages['Acceleration'])],\n",
    "        \"Model\": [ErrorModel(EAR(condition_to_column=\"Origin\", seed=seeds[5]), error_type.CategorySwap(), error_percentages['Model'])],\n",
    "        \"Origin\": [ErrorModel(ENAR(seed=seeds[6]), error_type.CategorySwap(), error_percentages['Origin'])],\n",
    "    }\n",
    "\n",
    "    scenario = MidLevelConfig(mid_lvl_config)\n",
    "    df_corrupted, error_mask = mid_level.create_errors(df_clean, scenario)\n",
    "    df_corrupted.to_csv(f'../export_data/cars/{scenario_name}_{i}.csv', index=False)\n",
    "df_clean_str.to_csv(f'../export_data/cars/{scenario_name}_clean.csv', index=False)"
   ]
  },
  {
   "cell_type": "markdown",
   "id": "4ee1b0c2-4aaf-4ccd-bf08-bc255ac203b8",
   "metadata": {},
   "source": [
    "## flights"
   ]
  },
  {
   "cell_type": "code",
   "execution_count": 146,
   "id": "19734b08-00dc-40b9-b152-6b307e5d1547",
   "metadata": {},
   "outputs": [
    {
     "name": "stdout",
     "output_type": "stream",
     "text": [
      "Saved MCAR dataset flights iteration 0\n",
      "Saved MCAR dataset flights iteration 1\n",
      "Saved MCAR dataset flights iteration 2\n",
      "Saved MCAR dataset flights iteration 3\n",
      "Saved MCAR dataset flights iteration 4\n",
      "Saved MCAR dataset flights iteration 5\n",
      "Saved MCAR dataset flights iteration 6\n",
      "Saved MCAR dataset flights iteration 7\n",
      "Saved MCAR dataset flights iteration 8\n",
      "Saved MCAR dataset flights iteration 9\n"
     ]
    }
   ],
   "source": [
    "df_clean = read_csv_dataset('../data/flights/clean.csv')\n",
    "df_dirty = read_csv_dataset('../data/flights/dirty.csv')\n",
    "\n",
    "df_clean_str = df_clean.copy().astype(str)\n",
    "df_dirty_str = df_dirty.copy().astype(str)\n",
    "\n",
    "error_percentages = (df_dirty_str != df_clean_str).sum() / df_dirty_str.shape[0]\n",
    "\n",
    "df_clean['sched_dep_time'] = df_clean['sched_dep_time'].astype('category')\n",
    "df_clean['act_dep_time'] = df_clean['act_dep_time'].astype('category')\n",
    "df_clean['sched_arr_time'] = df_clean['sched_arr_time'].astype('category')\n",
    "df_clean['act_arr_time'] = df_clean['act_arr_time'].astype('category')\n",
    "\n",
    "create_mcar('flights', df_clean, error_percentages)"
   ]
  },
  {
   "cell_type": "code",
   "execution_count": 148,
   "id": "4a7179ad-0c6c-466d-8626-96563b2445f1",
   "metadata": {},
   "outputs": [],
   "source": [
    "scenario_name = 'flights_scenario'\n",
    "\n",
    "for i in range(10):\n",
    "    base_seed = i * 1000  # Using 1000 ensures no overlap between iterations\n",
    "    seeds = [base_seed + (j+1) for j in range(len(df_clean.columns))]\n",
    "    \n",
    "    mid_lvl_config = {\n",
    "        \"sched_dep_time\": [ErrorModel(EAR(condition_to_column='flight', seed=seeds[0]), error_type.CategorySwap(), error_percentages['sched_dep_time'])],\n",
    "        \"act_dep_time\": [ErrorModel(EAR(condition_to_column='flight', seed=seeds[1]), error_type.CategorySwap(), error_percentages['act_dep_time'])],\n",
    "        \"sched_arr_time\": [ErrorModel(EAR(condition_to_column='flight', seed=seeds[2]), error_type.CategorySwap(), error_percentages['sched_arr_time'])],\n",
    "        \"act_arr_time\": [ErrorModel(EAR(condition_to_column='flight', seed=seeds[3]), error_type.CategorySwap(), error_percentages['act_arr_time'])],\n",
    "    }\n",
    "\n",
    "    scenario = MidLevelConfig(mid_lvl_config)\n",
    "    df_corrupted, error_mask = mid_level.create_errors(df_clean, scenario)\n",
    "    df_corrupted.to_csv(f'../export_data/flights/{scenario_name}_{i}.csv', index=False)\n",
    "df_clean_str.to_csv(f'../export_data/flights/{scenario_name}_clean.csv', index=False)"
   ]
  },
  {
   "cell_type": "markdown",
   "id": "7516c31f-3b45-46c8-89d7-1a0c07559ae6",
   "metadata": {},
   "source": [
    "## food"
   ]
  },
  {
   "cell_type": "code",
   "execution_count": 165,
   "id": "10f544ef-c3f3-4331-b24d-ce5ab6a2f044",
   "metadata": {},
   "outputs": [
    {
     "name": "stdout",
     "output_type": "stream",
     "text": [
      "Saved MCAR dataset food iteration 0\n",
      "Saved MCAR dataset food iteration 1\n",
      "Saved MCAR dataset food iteration 2\n",
      "Saved MCAR dataset food iteration 3\n",
      "Saved MCAR dataset food iteration 4\n",
      "Saved MCAR dataset food iteration 5\n",
      "Saved MCAR dataset food iteration 6\n",
      "Saved MCAR dataset food iteration 7\n",
      "Saved MCAR dataset food iteration 8\n",
      "Saved MCAR dataset food iteration 9\n"
     ]
    }
   ],
   "source": [
    "df_clean = read_csv_dataset('../data/food/clean.csv').iloc[:50000, :]\n",
    "df_dirty = read_csv_dataset('../data/food/dirty.csv').iloc[:50000, :]\n",
    "\n",
    "df_clean_str = df_clean.copy().astype(str)\n",
    "df_dirty_str = df_dirty.copy().astype(str)\n",
    "\n",
    "error_percentages = (df_dirty_str != df_clean_str).sum() / df_dirty_str.shape[0]\n",
    "\n",
    "df_clean['city'] = df_clean['city'].astype('category')\n",
    "df_clean['state'] = df_clean['state'].astype('string')\n",
    "df_clean['facilitytype'] = df_clean['facilitytype'].astype('category')\n",
    "df_clean['address'] = df_clean['address'].astype('category')\n",
    "df_clean['zip'] = df_clean['zip'].astype('category')\n",
    "\n",
    "create_mcar('food', df_clean, error_percentages)"
   ]
  },
  {
   "cell_type": "code",
   "execution_count": 166,
   "id": "b1f1c027-9cc3-44e4-a8e8-d86ae357f81d",
   "metadata": {},
   "outputs": [],
   "source": [
    "scenario_name = 'food_scenario'\n",
    "\n",
    "for i in range(10):\n",
    "    base_seed = i * 1000  # Using 1000 ensures no overlap between iterations\n",
    "    seeds = [base_seed + (j+1) for j in range(len(df_clean.columns))]\n",
    "    \n",
    "    mid_lvl_config = {\n",
    "        \"city\": [ErrorModel(EAR(condition_to_column='inspectiontype', seed=seeds[0]), error_type.CategorySwap(), error_percentages['city'])],\n",
    "        \"state\": [ErrorModel(EAR(condition_to_column='inspectiontype', seed=seeds[1]), error_type.Replace({'replace_what': 'IL', 'replace_with': 'WS'}), error_percentages['state'])],\n",
    "        \"facilitytype\": [ErrorModel(EAR(condition_to_column='inspectiontype', seed=seeds[2]), error_type.CategorySwap(), error_percentages['facilitytype'])],\n",
    "        \"address\": [ErrorModel(EAR(condition_to_column='inspectiontype', seed=seeds[3]), error_type.CategorySwap(), error_percentages['address'])],\n",
    "        \"zip\": [ErrorModel(EAR(condition_to_column='inspectiontype', seed=seeds[4]), error_type.CategorySwap(), error_percentages['zip'])],\n",
    "    }\n",
    "\n",
    "    scenario = MidLevelConfig(mid_lvl_config)\n",
    "    df_corrupted, error_mask = mid_level.create_errors(df_clean, scenario)\n",
    "    df_corrupted.to_csv(f'../export_data/food/{scenario_name}_{i}.csv', index=False)\n",
    "df_clean_str.to_csv(f'../export_data/food/{scenario_name}_clean.csv', index=False)"
   ]
  },
  {
   "cell_type": "markdown",
   "id": "8d0d7e33-fef1-47de-bc19-79fe4f070076",
   "metadata": {},
   "source": [
    "## rayyan"
   ]
  },
  {
   "cell_type": "code",
   "execution_count": 192,
   "id": "cebbe5e7-8128-4762-8f68-3dfb8ca7b1e5",
   "metadata": {},
   "outputs": [
    {
     "name": "stdout",
     "output_type": "stream",
     "text": [
      "Saved MCAR dataset rayyan iteration 0\n",
      "Saved MCAR dataset rayyan iteration 1\n",
      "Saved MCAR dataset rayyan iteration 2\n",
      "Saved MCAR dataset rayyan iteration 3\n",
      "Saved MCAR dataset rayyan iteration 4\n",
      "Saved MCAR dataset rayyan iteration 5\n",
      "Saved MCAR dataset rayyan iteration 6\n",
      "Saved MCAR dataset rayyan iteration 7\n",
      "Saved MCAR dataset rayyan iteration 8\n",
      "Saved MCAR dataset rayyan iteration 9\n"
     ]
    }
   ],
   "source": [
    "df_clean = read_csv_dataset('../data/rayyan/clean.csv')\n",
    "df_dirty = read_csv_dataset('../data/rayyan/dirty.csv')\n",
    "\n",
    "df_clean_str = df_clean.copy().astype(str)\n",
    "df_dirty_str = df_dirty.copy().astype(str)\n",
    "\n",
    "error_percentages = (df_dirty_str != df_clean_str).sum() / df_dirty_str.shape[0]\n",
    "\n",
    "df_clean['article_title'] = df_clean['article_title'].astype('string')\n",
    "df_clean['journal_title'] = df_clean['journal_title'].astype('string')\n",
    "df_clean['journal_issn'] = df_clean['journal_issn'].astype('string')\n",
    "df_clean['article_jvolumn'] = df_clean['article_jvolumn'].astype('category')\n",
    "df_clean['article_jissue'] = df_clean['article_jissue'].astype('category')\n",
    "df_clean['article_jcreated_at'] = df_clean['article_jcreated_at'].astype('category')\n",
    "df_clean['article_pagination'] = df_clean['article_pagination'].astype('string')\n",
    "df_clean['author_list'] = df_clean['author_list'].astype('category')\n",
    "\n",
    "\n",
    "create_mcar('rayyan', df_clean, error_percentages)"
   ]
  },
  {
   "cell_type": "code",
   "execution_count": 193,
   "id": "fc6f831a-37cb-4115-861c-5cf1b70823ab",
   "metadata": {},
   "outputs": [],
   "source": [
    "scenario_name = 'rayyan_scenario'\n",
    "\n",
    "for i in range(10):\n",
    "    base_seed = i * 1000  # Using 1000 ensures no overlap between iterations\n",
    "    seeds = [base_seed + (j+1) for j in range(len(df_clean.columns))]\n",
    "    \n",
    "    mid_lvl_config = {\n",
    "        \"article_title\": [ErrorModel(EAR(condition_to_column='journal_title', seed=seeds[0]), error_type.MissingValue({'missing_value': '?'}), error_percentages['article_title'])],\n",
    "        \"journal_title\": [ErrorModel(ENAR(seed=seeds[1]), error_type.MissingValue({'missing_value': '?'}), error_percentages['journal_title'])],\n",
    "        \"journal_issn\": [ErrorModel(EAR(condition_to_column='journal_issn', seed=seeds[2]), error_type.MissingValue({'missing_value': '?'}), error_percentages['journal_issn'])],\n",
    "        \"article_jvolumn\": [ErrorModel(EAR(condition_to_column='journal_title', seed=seeds[3]), error_type.CategorySwap(), error_percentages['article_jvolumn'])],\n",
    "        \"article_jissue\": [ErrorModel(EAR(condition_to_column='journal_title', seed=seeds[4]), error_type.CategorySwap(), error_percentages['article_jissue'])],\n",
    "        \"article_jcreated_at\": [ErrorModel(EAR(condition_to_column='journal_title', seed=seeds[5]), error_type.CategorySwap(), error_percentages['article_jcreated_at'])],\n",
    "        \"article_pagination\": [ErrorModel(EAR(condition_to_column='article_pagination', seed=seeds[6]), error_type.MissingValue({'missing_value': '?'}), error_percentages['article_pagination'])],\n",
    "        \"author_list\": [ErrorModel(EAR(condition_to_column='article_pagination', seed=seeds[7]), error_type.CategorySwap(), error_percentages['author_list'])],\n",
    "    }\n",
    "\n",
    "    scenario = MidLevelConfig(mid_lvl_config)\n",
    "    df_corrupted, error_mask = mid_level.create_errors(df_clean, scenario)\n",
    "    df_corrupted.to_csv(f'../export_data/rayyan/{scenario_name}_{i}.csv', index=False)\n",
    "df_clean_str.to_csv(f'../export_data/rayyan/{scenario_name}_clean.csv', index=False)"
   ]
  },
  {
   "cell_type": "markdown",
   "id": "d69d3d2a-c848-4525-a795-3700d2049b25",
   "metadata": {},
   "source": [
    "## restaurant"
   ]
  },
  {
   "cell_type": "code",
   "execution_count": 195,
   "id": "c1c0dfb0-aacd-4d5d-9d7c-6c36633f3780",
   "metadata": {},
   "outputs": [
    {
     "name": "stdout",
     "output_type": "stream",
     "text": [
      "Saved MCAR dataset restaurant iteration 0\n",
      "Saved MCAR dataset restaurant iteration 1\n",
      "Saved MCAR dataset restaurant iteration 2\n",
      "Saved MCAR dataset restaurant iteration 3\n",
      "Saved MCAR dataset restaurant iteration 4\n",
      "Saved MCAR dataset restaurant iteration 5\n",
      "Saved MCAR dataset restaurant iteration 6\n",
      "Saved MCAR dataset restaurant iteration 7\n",
      "Saved MCAR dataset restaurant iteration 8\n",
      "Saved MCAR dataset restaurant iteration 9\n"
     ]
    }
   ],
   "source": [
    "df_clean = read_csv_dataset('../data/restaurant/clean.csv')\n",
    "df_dirty = read_csv_dataset('../data/restaurant/restaurant_3_1.csv')\n",
    "\n",
    "df_clean_str = df_clean.copy().astype(str)\n",
    "df_dirty_str = df_dirty.copy().astype(str)\n",
    "\n",
    "error_percentages = (df_dirty_str != df_clean_str).sum() / df_dirty_str.shape[0]\n",
    "\n",
    "df_clean['city'] = df_clean['city'].astype('string')\n",
    "df_clean['phone'] = df_clean['phone'].astype('string')\n",
    "df_clean['type'] = df_clean['type'].astype('category')\n",
    "df_clean['class'] = df_clean['class'].astype('category')\n",
    "\n",
    "create_mcar('restaurant', df_clean, error_percentages)"
   ]
  },
  {
   "cell_type": "code",
   "execution_count": 196,
   "id": "a5a2f623-3f95-4cd0-8e58-dbf99f1ad807",
   "metadata": {},
   "outputs": [
    {
     "data": {
      "text/plain": [
       "name     0.000000\n",
       "addr     0.000000\n",
       "city     0.037037\n",
       "phone    0.045139\n",
       "type     0.062500\n",
       "class    0.034722\n",
       "dtype: float64"
      ]
     },
     "execution_count": 196,
     "metadata": {},
     "output_type": "execute_result"
    }
   ],
   "source": [
    "error_percentages"
   ]
  },
  {
   "cell_type": "code",
   "execution_count": 197,
   "id": "962b4b7e-1b24-422f-b151-20db1ddd46a9",
   "metadata": {},
   "outputs": [
    {
     "data": {
      "text/html": [
       "<div>\n",
       "<style scoped>\n",
       "    .dataframe tbody tr th:only-of-type {\n",
       "        vertical-align: middle;\n",
       "    }\n",
       "\n",
       "    .dataframe tbody tr th {\n",
       "        vertical-align: top;\n",
       "    }\n",
       "\n",
       "    .dataframe thead th {\n",
       "        text-align: right;\n",
       "    }\n",
       "</style>\n",
       "<table border=\"1\" class=\"dataframe\">\n",
       "  <thead>\n",
       "    <tr style=\"text-align: right;\">\n",
       "      <th></th>\n",
       "      <th>name</th>\n",
       "      <th>addr</th>\n",
       "      <th>city</th>\n",
       "      <th>phone</th>\n",
       "      <th>type</th>\n",
       "      <th>class</th>\n",
       "    </tr>\n",
       "  </thead>\n",
       "  <tbody>\n",
       "    <tr>\n",
       "      <th>0</th>\n",
       "      <td>arnie morton's of chicago</td>\n",
       "      <td>435 s. la cienega blv.</td>\n",
       "      <td>los angeles</td>\n",
       "      <td>310/246-1501</td>\n",
       "      <td>american</td>\n",
       "      <td>0</td>\n",
       "    </tr>\n",
       "    <tr>\n",
       "      <th>1</th>\n",
       "      <td>arnie morton's of chicago</td>\n",
       "      <td>435 s. la cienega blvd.</td>\n",
       "      <td>los angeles</td>\n",
       "      <td>310-246-1501</td>\n",
       "      <td>steakhouses</td>\n",
       "      <td>0</td>\n",
       "    </tr>\n",
       "    <tr>\n",
       "      <th>2</th>\n",
       "      <td>art's delicatessen</td>\n",
       "      <td>12224 ventura blvd.</td>\n",
       "      <td>studio city</td>\n",
       "      <td>818/762-1221</td>\n",
       "      <td>american</td>\n",
       "      <td>1</td>\n",
       "    </tr>\n",
       "    <tr>\n",
       "      <th>3</th>\n",
       "      <td>art's deli</td>\n",
       "      <td>12224 ventura blvd.</td>\n",
       "      <td>studio city</td>\n",
       "      <td>818-762-1221</td>\n",
       "      <td>delis</td>\n",
       "      <td>1</td>\n",
       "    </tr>\n",
       "    <tr>\n",
       "      <th>4</th>\n",
       "      <td>hotel bel-air</td>\n",
       "      <td>701 stone canyon rd.</td>\n",
       "      <td>bel air</td>\n",
       "      <td>310/472-1211</td>\n",
       "      <td>californian</td>\n",
       "      <td>2</td>\n",
       "    </tr>\n",
       "  </tbody>\n",
       "</table>\n",
       "</div>"
      ],
      "text/plain": [
       "                        name                     addr         city  \\\n",
       "0  arnie morton's of chicago   435 s. la cienega blv.  los angeles   \n",
       "1  arnie morton's of chicago  435 s. la cienega blvd.  los angeles   \n",
       "2         art's delicatessen      12224 ventura blvd.  studio city   \n",
       "3                 art's deli      12224 ventura blvd.  studio city   \n",
       "4              hotel bel-air     701 stone canyon rd.      bel air   \n",
       "\n",
       "          phone         type class  \n",
       "0  310/246-1501     american     0  \n",
       "1  310-246-1501  steakhouses     0  \n",
       "2  818/762-1221     american     1  \n",
       "3  818-762-1221        delis     1  \n",
       "4  310/472-1211  californian     2  "
      ]
     },
     "execution_count": 197,
     "metadata": {},
     "output_type": "execute_result"
    }
   ],
   "source": [
    "df_clean.head()"
   ]
  },
  {
   "cell_type": "code",
   "execution_count": 198,
   "id": "e5376981-2943-4556-ae65-fb9eca9903df",
   "metadata": {},
   "outputs": [],
   "source": [
    "scenario_name = 'restaurant_scenario'\n",
    "\n",
    "for i in range(10):\n",
    "    base_seed = i * 1000  # Using 1000 ensures no overlap between iterations\n",
    "    seeds = [base_seed + (j+1) for j in range(len(df_clean.columns))]\n",
    "    \n",
    "    mid_lvl_config = {\n",
    "        \"city\": [ErrorModel(EAR(condition_to_column='class', seed=seeds[0]), error_type.MissingValue({'missing_value': '?'}), error_percentages['city'])],\n",
    "        \"phone\": [ErrorModel(EAR(condition_to_column='class', seed=seeds[1]), error_type.Permutate({'permutation_separator': '-'}), error_percentages['phone'])],\n",
    "        \"type\": [ErrorModel(EAR(condition_to_column='class', seed=seeds[2]), error_type.CategorySwap(), error_percentages['type'])],\n",
    "        \"class\": [ErrorModel(ENAR(seed=seeds[3]), error_type.CategorySwap(), error_percentages['class'])],\n",
    "    }\n",
    "\n",
    "    scenario = MidLevelConfig(mid_lvl_config)\n",
    "    df_corrupted, error_mask = mid_level.create_errors(df_clean, scenario)\n",
    "    df_corrupted.to_csv(f'../export_data/restaurant/{scenario_name}_{i}.csv', index=False)\n",
    "df_clean_str.to_csv(f'../export_data/restaurant/{scenario_name}_clean.csv', index=False)"
   ]
  },
  {
   "cell_type": "markdown",
   "id": "8c629e17-15d5-44ac-82f7-a1515ab779bc",
   "metadata": {},
   "source": [
    "## tax"
   ]
  },
  {
   "cell_type": "code",
   "execution_count": 252,
   "id": "755a1934-1ae8-43c7-af0e-6510e98efded",
   "metadata": {},
   "outputs": [
    {
     "name": "stdout",
     "output_type": "stream",
     "text": [
      "Saved MCAR dataset tax iteration 0\n",
      "Saved MCAR dataset tax iteration 1\n",
      "Saved MCAR dataset tax iteration 2\n",
      "Saved MCAR dataset tax iteration 3\n",
      "Saved MCAR dataset tax iteration 4\n",
      "Saved MCAR dataset tax iteration 5\n",
      "Saved MCAR dataset tax iteration 6\n",
      "Saved MCAR dataset tax iteration 7\n",
      "Saved MCAR dataset tax iteration 8\n",
      "Saved MCAR dataset tax iteration 9\n"
     ]
    }
   ],
   "source": [
    "df_clean = read_csv_dataset('../data/tax/clean.csv')\n",
    "df_dirty = read_csv_dataset('../data/tax/dirty.csv')\n",
    "\n",
    "df_clean = df_clean.iloc[:50000, :]\n",
    "df_dirty = df_dirty.iloc[:50000, :]\n",
    "\n",
    "df_clean_str = df_clean.copy().astype(str)\n",
    "df_dirty_str = df_dirty.copy().astype(str)\n",
    "\n",
    "error_percentages = (df_dirty_str != df_clean_str).sum() / df_dirty_str.shape[0]\n",
    "\n",
    "df_clean['state'] = df_clean['state'].astype('category')\n",
    "df_clean['zip'] = df_clean['zip'].astype('category')\n",
    "df_clean['marital_status'] = df_clean['marital_status'].astype('category')\n",
    "df_clean['has_child'] = df_clean['has_child'].astype('category')\n",
    "df_clean['rate'] = df_clean['rate'].astype('float64')\n",
    "\n",
    "\n",
    "create_mcar('tax', df_clean, error_percentages)"
   ]
  },
  {
   "cell_type": "code",
   "execution_count": 253,
   "id": "e0a9eba8-0c88-49f6-b0ee-a0c2ece8ac23",
   "metadata": {},
   "outputs": [],
   "source": [
    "scenario_name = 'tax_scenario'\n",
    "\n",
    "for i in range(1):\n",
    "    base_seed = i * 1000  # Using 1000 ensures no overlap between iterations\n",
    "    seeds = [base_seed + (j+1) for j in range(len(df_clean.columns))]\n",
    "    \n",
    "    mid_lvl_config = {\n",
    "        \"f_name\": [ErrorModel(EAR(condition_to_column='city', seed=seeds[0]), error_type.MissingValue({'missing_value': '?'}), error_percentages['f_name'])],\n",
    "        \"l_name\": [ErrorModel(EAR(condition_to_column='city', seed=seeds[1]), error_type.MissingValue({'missing_value': '?'}), error_percentages['l_name'])],\n",
    "        \"state\": [ErrorModel(EAR(condition_to_column='city', seed=seeds[2]), error_type.CategorySwap({'mislabel_weighing': 'frequency'}), error_percentages['state'])],\n",
    "        \"zip\": [ErrorModel(ENAR(seed=seeds[3]), error_type.CategorySwap({'mislabel_weighing': 'frequency'}), error_percentages['zip'])],\n",
    "        \"marital_status\": [ErrorModel(ENAR(seed=seeds[4]), error_type.CategorySwap({'mislabel_weighing': 'frequency'}), error_percentages['marital_status'])],\n",
    "        \"has_child\": [ErrorModel(ENAR(seed=seeds[5]), error_type.CategorySwap({'mislabel_weighing': 'frequency'}), error_percentages['has_child'])],\n",
    "        \"rate\": [ErrorModel(ENAR(seed=seeds[6]), error_type.MissingValue(), error_percentages['rate'])],\n",
    "    }\n",
    "\n",
    "    scenario = MidLevelConfig(mid_lvl_config)\n",
    "    df_corrupted, error_mask = mid_level.create_errors(df_clean, scenario)\n",
    "    df_corrupted.to_csv(f'../export_data/tax/{scenario_name}_{i}.csv', index=False)\n",
    "df_clean_str.to_csv(f'../export_data/tax/{scenario_name}_clean.csv', index=False)"
   ]
  },
  {
   "cell_type": "code",
   "execution_count": 236,
   "id": "04faf4e4-dce7-426e-8f71-a82321575414",
   "metadata": {},
   "outputs": [],
   "source": [
    "scenario_name = 'tax_scenario'\n",
    "\n",
    "for i in range(10):\n",
    "    base_seed = i * 1000  # Using 1000 ensures no overlap between iterations\n",
    "    seeds = [base_seed + (j+1) for j in range(len(df_clean.columns))]\n",
    "    \n",
    "    mid_lvl_config = {\n",
    "        \"f_name\": [ErrorModel(EAR(condition_to_column='city', seed=seeds[0]), error_type.MissingValue({'missing_value': '?'}), error_percentages['f_name'])],\n",
    "        \"l_name\": [ErrorModel(EAR(condition_to_column='city', seed=seeds[1]), error_type.MissingValue({'missing_value': '?'}), error_percentages['l_name'])],\n",
    "        \"state\": [ErrorModel(EAR(condition_to_column='city', seed=seeds[2]), error_type.MissingValue({'missing_value': '?'}), error_percentages['state'])],\n",
    "        \"zip\": [ErrorModel(ENAR(seed=seeds[3]), error_type.MissingValue({'missing_value': '?'}), error_percentages['zip'])],\n",
    "        \"marital_status\": [ErrorModel(ENAR(seed=seeds[4]), error_type.MissingValue({'missing_value': '?'}), error_percentages['marital_status'])],\n",
    "        \"has_child\": [ErrorModel(ENAR(seed=seeds[5]), error_type.MissingValue({'missing_value': '?'}), error_percentages['has_child'])],\n",
    "        \"rate\": [ErrorModel(ENAR(seed=seeds[6]), error_type.MissingValue({'missing_value': '?'}), error_percentages['rate'])],\n",
    "    }\n",
    "\n",
    "    scenario = MidLevelConfig(mid_lvl_config)\n",
    "    df_corrupted, error_mask = mid_level.create_errors(df_clean, scenario)\n",
    "    df_corrupted.to_csv(f'../export_data/tax/{scenario_name}_{i}.csv', index=False)\n",
    "df_clean_str.to_csv(f'../export_data/tax/{scenario_name}_clean.csv', index=False)"
   ]
  },
  {
   "cell_type": "markdown",
   "id": "e4644774-0b81-47dc-a2d5-5123621794b2",
   "metadata": {},
   "source": [
    "## QA"
   ]
  },
  {
   "cell_type": "code",
   "execution_count": 254,
   "id": "5b060995-a51d-4245-a328-c1a8763146da",
   "metadata": {},
   "outputs": [],
   "source": [
    "df_clean = read_csv_dataset('../export_data/tax/tax_scenario_0.csv').astype(str).iloc[:50000, :]\n",
    "df_dirty = read_csv_dataset('../export_data/tax/tax_scenario_clean.csv').astype(str).iloc[:50000, :]\n",
    "\n",
    "df_clean_orig = read_csv_dataset('../data/tax/clean.csv').astype(str).iloc[:50000, :]\n",
    "df_dirty_orig = read_csv_dataset('../data/tax/dirty.csv').astype(str).iloc[:50000, :]"
   ]
  },
  {
   "cell_type": "code",
   "execution_count": 255,
   "id": "aa5fcf96-bf15-402f-8935-8108048b6b71",
   "metadata": {},
   "outputs": [
    {
     "data": {
      "text/plain": [
       "np.int64(30757)"
      ]
     },
     "execution_count": 255,
     "metadata": {},
     "output_type": "execute_result"
    }
   ],
   "source": [
    "(df_clean_orig != df_dirty_orig).sum().sum()"
   ]
  },
  {
   "cell_type": "code",
   "execution_count": 256,
   "id": "93e35a2b-b9b5-4feb-b74e-84a45e9a4992",
   "metadata": {},
   "outputs": [
    {
     "data": {
      "text/plain": [
       "np.int64(44216)"
      ]
     },
     "execution_count": 256,
     "metadata": {},
     "output_type": "execute_result"
    }
   ],
   "source": [
    "(df_clean != df_dirty).sum().sum()"
   ]
  },
  {
   "cell_type": "code",
   "execution_count": null,
   "id": "a8714742-98c1-426b-b02a-133347a328af",
   "metadata": {},
   "outputs": [],
   "source": []
  }
 ],
 "metadata": {
  "kernelspec": {
   "display_name": "Python 3 (ipykernel)",
   "language": "python",
   "name": "python3"
  },
  "language_info": {
   "codemirror_mode": {
    "name": "ipython",
    "version": 3
   },
   "file_extension": ".py",
   "mimetype": "text/x-python",
   "name": "python",
   "nbconvert_exporter": "python",
   "pygments_lexer": "ipython3",
   "version": "3.10.12"
  }
 },
 "nbformat": 4,
 "nbformat_minor": 5
}
