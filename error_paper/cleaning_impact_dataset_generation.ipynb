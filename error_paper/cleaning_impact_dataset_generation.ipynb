{
 "cells": [
  {
   "cell_type": "code",
   "execution_count": 14,
   "id": "89862937-b3e1-404d-8647-57003155fd6f",
   "metadata": {},
   "outputs": [
    {
     "name": "stdout",
     "output_type": "stream",
     "text": [
      "The autoreload extension is already loaded. To reload it, use:\n",
      "  %reload_ext autoreload\n"
     ]
    }
   ],
   "source": [
    "%load_ext autoreload\n",
    "%autoreload 2"
   ]
  },
  {
   "cell_type": "code",
   "execution_count": 15,
   "id": "542be6a5-8dc4-4a92-9371-3d0bc289d395",
   "metadata": {},
   "outputs": [],
   "source": [
    "import numpy as np\n",
    "import pandas as pd\n",
    "\n",
    "from utils import get_differences, read_csv_dataset, create_mcar, verify_error_pct"
   ]
  },
  {
   "cell_type": "code",
   "execution_count": 16,
   "id": "813e644c-95b3-410d-891b-41bab847e9a7",
   "metadata": {},
   "outputs": [],
   "source": [
    "from tab_err import ErrorModel, error_type\n",
    "from tab_err.error_mechanism import EAR, ENAR, ECAR\n",
    "from tab_err.error_type import ErrorTypeConfig\n",
    "from tab_err.api import mid_level, MidLevelConfig"
   ]
  },
  {
   "cell_type": "markdown",
   "id": "b3f7a7ed-3be6-417f-a412-57f4b6a3d078",
   "metadata": {},
   "source": [
    "## beers"
   ]
  },
  {
   "cell_type": "code",
   "execution_count": 17,
   "id": "9251a9d3-f62f-49f1-b805-19604e23e90d",
   "metadata": {},
   "outputs": [
    {
     "name": "stdout",
     "output_type": "stream",
     "text": [
      "Saved MCAR dataset beers iteration 0\n",
      "Saved MCAR dataset beers iteration 1\n",
      "Saved MCAR dataset beers iteration 2\n",
      "Saved MCAR dataset beers iteration 3\n",
      "Saved MCAR dataset beers iteration 4\n",
      "Saved MCAR dataset beers iteration 5\n",
      "Saved MCAR dataset beers iteration 6\n",
      "Saved MCAR dataset beers iteration 7\n",
      "Saved MCAR dataset beers iteration 8\n",
      "Saved MCAR dataset beers iteration 9\n"
     ]
    }
   ],
   "source": [
    "df_clean = read_csv_dataset('../data/beers/clean.csv')\n",
    "df_dirty = read_csv_dataset('../data/beers/dirty.csv')\n",
    "\n",
    "\n",
    "df_clean.to_csv(f'../export_data/beers/clean.csv', index=False)\n",
    "df_dirty.to_csv(f'../export_data/beers/beers_original.csv', index=False)\n",
    "\n",
    "error_percentages = (df_dirty != df_clean).sum() / df_dirty.shape[0]\n",
    "\n",
    "# In the original error distribution, all values in column 'ounces' are erroneous.\n",
    "# However, HoloClean will automatically drop empty columns, preventing us from measuring\n",
    "# a benchmark. We thus move two errors from the 'ounces' colum into the 'city' colum.\n",
    "error_percentages['ounces'] = 1 - 2/df_dirty.shape[0]\n",
    "error_percentages['city'] = error_percentages['city'] + 2/df_dirty.shape[0]\n",
    "\n",
    "create_mcar('beers', df_clean, error_percentages)\n",
    "\n",
    "df_clean['ounces'] = df_clean['ounces'].astype('category')\n",
    "df_clean['city'] = df_clean['city'].astype('category')\n",
    "df_clean['state'] = df_clean['state'].astype('category')"
   ]
  },
  {
   "cell_type": "code",
   "execution_count": 18,
   "id": "95e3e28d-c092-4dbc-9d97-fcc64f59fef1",
   "metadata": {},
   "outputs": [
    {
     "name": "stderr",
     "output_type": "stream",
     "text": [
      "/Users/philipp/Library/Caches/pypoetry/virtualenvs/error-paper-mf3FH1nM-py3.10/lib/python3.10/site-packages/tab_err/error_type/_error_type.py:67: UserWarning: self.config.extraneous_value_template is not set. Choosing a random string augmentation.\n",
      "  return self._apply(data, error_mask, column)\n",
      "/Users/philipp/Library/Caches/pypoetry/virtualenvs/error-paper-mf3FH1nM-py3.10/lib/python3.10/site-packages/tab_err/error_type/_error_type.py:67: UserWarning: self.config.extraneous_value_template is not set. Choosing a random string augmentation.\n",
      "  return self._apply(data, error_mask, column)\n",
      "/Users/philipp/Library/Caches/pypoetry/virtualenvs/error-paper-mf3FH1nM-py3.10/lib/python3.10/site-packages/tab_err/error_type/_error_type.py:67: UserWarning: self.config.extraneous_value_template is not set. Choosing a random string augmentation.\n",
      "  return self._apply(data, error_mask, column)\n",
      "/Users/philipp/Library/Caches/pypoetry/virtualenvs/error-paper-mf3FH1nM-py3.10/lib/python3.10/site-packages/tab_err/error_type/_error_type.py:67: UserWarning: self.config.extraneous_value_template is not set. Choosing a random string augmentation.\n",
      "  return self._apply(data, error_mask, column)\n",
      "/Users/philipp/Library/Caches/pypoetry/virtualenvs/error-paper-mf3FH1nM-py3.10/lib/python3.10/site-packages/tab_err/error_type/_error_type.py:67: UserWarning: self.config.extraneous_value_template is not set. Choosing a random string augmentation.\n",
      "  return self._apply(data, error_mask, column)\n",
      "/Users/philipp/Library/Caches/pypoetry/virtualenvs/error-paper-mf3FH1nM-py3.10/lib/python3.10/site-packages/tab_err/error_type/_error_type.py:67: UserWarning: self.config.extraneous_value_template is not set. Choosing a random string augmentation.\n",
      "  return self._apply(data, error_mask, column)\n",
      "/Users/philipp/Library/Caches/pypoetry/virtualenvs/error-paper-mf3FH1nM-py3.10/lib/python3.10/site-packages/tab_err/error_type/_error_type.py:67: UserWarning: self.config.extraneous_value_template is not set. Choosing a random string augmentation.\n",
      "  return self._apply(data, error_mask, column)\n",
      "/Users/philipp/Library/Caches/pypoetry/virtualenvs/error-paper-mf3FH1nM-py3.10/lib/python3.10/site-packages/tab_err/error_type/_error_type.py:67: UserWarning: self.config.extraneous_value_template is not set. Choosing a random string augmentation.\n",
      "  return self._apply(data, error_mask, column)\n",
      "/Users/philipp/Library/Caches/pypoetry/virtualenvs/error-paper-mf3FH1nM-py3.10/lib/python3.10/site-packages/tab_err/error_type/_error_type.py:67: UserWarning: self.config.extraneous_value_template is not set. Choosing a random string augmentation.\n",
      "  return self._apply(data, error_mask, column)\n",
      "/Users/philipp/Library/Caches/pypoetry/virtualenvs/error-paper-mf3FH1nM-py3.10/lib/python3.10/site-packages/tab_err/error_type/_error_type.py:67: UserWarning: self.config.extraneous_value_template is not set. Choosing a random string augmentation.\n",
      "  return self._apply(data, error_mask, column)\n",
      "/Users/philipp/Library/Caches/pypoetry/virtualenvs/error-paper-mf3FH1nM-py3.10/lib/python3.10/site-packages/tab_err/error_type/_error_type.py:67: UserWarning: self.config.extraneous_value_template is not set. Choosing a random string augmentation.\n",
      "  return self._apply(data, error_mask, column)\n",
      "/Users/philipp/Library/Caches/pypoetry/virtualenvs/error-paper-mf3FH1nM-py3.10/lib/python3.10/site-packages/tab_err/error_type/_error_type.py:67: UserWarning: self.config.extraneous_value_template is not set. Choosing a random string augmentation.\n",
      "  return self._apply(data, error_mask, column)\n",
      "/Users/philipp/Library/Caches/pypoetry/virtualenvs/error-paper-mf3FH1nM-py3.10/lib/python3.10/site-packages/tab_err/error_type/_error_type.py:67: UserWarning: self.config.extraneous_value_template is not set. Choosing a random string augmentation.\n",
      "  return self._apply(data, error_mask, column)\n",
      "/Users/philipp/Library/Caches/pypoetry/virtualenvs/error-paper-mf3FH1nM-py3.10/lib/python3.10/site-packages/tab_err/error_type/_error_type.py:67: UserWarning: self.config.extraneous_value_template is not set. Choosing a random string augmentation.\n",
      "  return self._apply(data, error_mask, column)\n",
      "/Users/philipp/Library/Caches/pypoetry/virtualenvs/error-paper-mf3FH1nM-py3.10/lib/python3.10/site-packages/tab_err/error_type/_error_type.py:67: UserWarning: self.config.extraneous_value_template is not set. Choosing a random string augmentation.\n",
      "  return self._apply(data, error_mask, column)\n",
      "/Users/philipp/Library/Caches/pypoetry/virtualenvs/error-paper-mf3FH1nM-py3.10/lib/python3.10/site-packages/tab_err/error_type/_error_type.py:67: UserWarning: self.config.extraneous_value_template is not set. Choosing a random string augmentation.\n",
      "  return self._apply(data, error_mask, column)\n",
      "/Users/philipp/Library/Caches/pypoetry/virtualenvs/error-paper-mf3FH1nM-py3.10/lib/python3.10/site-packages/tab_err/error_type/_error_type.py:67: UserWarning: self.config.extraneous_value_template is not set. Choosing a random string augmentation.\n",
      "  return self._apply(data, error_mask, column)\n",
      "/Users/philipp/Library/Caches/pypoetry/virtualenvs/error-paper-mf3FH1nM-py3.10/lib/python3.10/site-packages/tab_err/error_type/_error_type.py:67: UserWarning: self.config.extraneous_value_template is not set. Choosing a random string augmentation.\n",
      "  return self._apply(data, error_mask, column)\n",
      "/Users/philipp/Library/Caches/pypoetry/virtualenvs/error-paper-mf3FH1nM-py3.10/lib/python3.10/site-packages/tab_err/error_type/_error_type.py:67: UserWarning: self.config.extraneous_value_template is not set. Choosing a random string augmentation.\n",
      "  return self._apply(data, error_mask, column)\n",
      "/Users/philipp/Library/Caches/pypoetry/virtualenvs/error-paper-mf3FH1nM-py3.10/lib/python3.10/site-packages/tab_err/error_type/_error_type.py:67: UserWarning: self.config.extraneous_value_template is not set. Choosing a random string augmentation.\n",
      "  return self._apply(data, error_mask, column)\n"
     ]
    }
   ],
   "source": [
    "scenario_name = 'beers_scenario'\n",
    "\n",
    "for i in range(10):\n",
    "    base_seed = i * 1000  # Using 1000 ensures no overlap between iterations\n",
    "    seeds = [base_seed + 1, base_seed + 2, base_seed + 3, base_seed + 4, base_seed + 5]\n",
    "    \n",
    "    mid_lvl_config = {\n",
    "        'ounces': [ErrorModel(ECAR(seed=seeds[0]), error_type.CategorySwap(seed=seeds[0]), error_percentages['ounces'])],  # ECAR because error_percentage is 1.0 in 'ounces', mechanism doesn't matter\n",
    "        'abv': [ErrorModel(EAR(condition_to_column='brewery-name', seed=seeds[1]), error_type.Extraneous(seed=seeds[1]), error_percentages['abv'])],\n",
    "        'ibu': [ErrorModel(EAR(condition_to_column='brewery-name', seed=seeds[2]), error_type.Extraneous(seed=seeds[2]), error_percentages['ibu'])],\n",
    "        'city': [ErrorModel(EAR(condition_to_column='brewery-name', seed=seeds[3]), error_type.CategorySwap(seed=seeds[3]), error_percentages['city'])],\n",
    "        'state': [ErrorModel(EAR(condition_to_column='brewery-name', seed=seeds[4]), error_type.CategorySwap(seed=seeds[4]), error_percentages['state'])],\n",
    "    }\n",
    "    scenario = MidLevelConfig(mid_lvl_config)\n",
    "    df_corrupted, error_mask = mid_level.create_errors(df_clean, scenario)\n",
    "    df_corrupted.to_csv(f'../export_data/beers/{scenario_name}_{i}.csv', index=False)"
   ]
  },
  {
   "cell_type": "code",
   "execution_count": 19,
   "id": "a0e3342c",
   "metadata": {},
   "outputs": [
    {
     "name": "stdout",
     "output_type": "stream",
     "text": [
      "beers_missing_ecar_0.csv deviates from intended error_pct by absolute 0.0%.\n",
      "beers_missing_ecar_1.csv deviates from intended error_pct by absolute 0.0%.\n",
      "beers_missing_ecar_2.csv deviates from intended error_pct by absolute 0.0%.\n",
      "beers_missing_ecar_3.csv deviates from intended error_pct by absolute 0.0%.\n",
      "beers_missing_ecar_4.csv deviates from intended error_pct by absolute 0.0%.\n",
      "beers_missing_ecar_5.csv deviates from intended error_pct by absolute 0.0%.\n",
      "beers_missing_ecar_6.csv deviates from intended error_pct by absolute 0.0%.\n",
      "beers_missing_ecar_7.csv deviates from intended error_pct by absolute 0.0%.\n",
      "beers_missing_ecar_8.csv deviates from intended error_pct by absolute 0.0%.\n",
      "beers_missing_ecar_9.csv deviates from intended error_pct by absolute 0.0%.\n",
      "beers_scenario_0.csv deviates from intended error_pct by absolute 0.0%.\n",
      "beers_scenario_1.csv deviates from intended error_pct by absolute 0.0%.\n",
      "beers_scenario_2.csv deviates from intended error_pct by absolute 0.0%.\n",
      "beers_scenario_3.csv deviates from intended error_pct by absolute 0.0%.\n",
      "beers_scenario_4.csv deviates from intended error_pct by absolute 0.0%.\n",
      "beers_scenario_5.csv deviates from intended error_pct by absolute 0.0%.\n",
      "beers_scenario_6.csv deviates from intended error_pct by absolute 0.0%.\n",
      "beers_scenario_7.csv deviates from intended error_pct by absolute 0.0%.\n",
      "beers_scenario_8.csv deviates from intended error_pct by absolute 0.0%.\n",
      "beers_scenario_9.csv deviates from intended error_pct by absolute 0.0%.\n"
     ]
    }
   ],
   "source": [
    "for i in range(10):\n",
    "    verify_error_pct('../export_data/beers/clean.csv', f'../export_data/beers/beers_missing_ecar_{i}.csv', error_percentages)\n",
    "for i in range(10):\n",
    "    verify_error_pct('../export_data/beers/clean.csv', f'../export_data/beers/beers_scenario_{i}.csv', error_percentages)"
   ]
  },
  {
   "cell_type": "markdown",
   "id": "c33bbe1e-fdfb-40d4-b4ca-15967ed72a07",
   "metadata": {},
   "source": [
    "## bridges"
   ]
  },
  {
   "cell_type": "code",
   "execution_count": 20,
   "id": "4e4f1868-0fe2-4b3b-9d9b-7fa9c7475c04",
   "metadata": {},
   "outputs": [
    {
     "name": "stdout",
     "output_type": "stream",
     "text": [
      "Saved MCAR dataset bridges iteration 0\n",
      "Saved MCAR dataset bridges iteration 1\n",
      "Saved MCAR dataset bridges iteration 2\n",
      "Saved MCAR dataset bridges iteration 3\n",
      "Saved MCAR dataset bridges iteration 4\n",
      "Saved MCAR dataset bridges iteration 5\n",
      "Saved MCAR dataset bridges iteration 6\n",
      "Saved MCAR dataset bridges iteration 7\n",
      "Saved MCAR dataset bridges iteration 8\n",
      "Saved MCAR dataset bridges iteration 9\n"
     ]
    }
   ],
   "source": [
    "df_clean = read_csv_dataset('../data/bridges/clean.csv')\n",
    "df_dirty = read_csv_dataset('../data/bridges/bridges_3_1.csv')\n",
    "\n",
    "df_clean.to_csv(f'../export_data/bridges/clean.csv', index=False)\n",
    "df_dirty.to_csv(f'../export_data/bridges/bridges_original.csv', index=False)\n",
    "\n",
    "error_percentages = (df_dirty != df_clean).sum() / df_dirty.shape[0]\n",
    "\n",
    "create_mcar('bridges', df_clean, error_percentages)\n",
    "\n",
    "df_clean[\"PURPOSE\"] = df_clean[\"PURPOSE\"].astype('string')\n",
    "df_clean[\"LOCATION\"] = df_clean[\"LOCATION\"].astype('category')\n",
    "df_clean[\"LANES\"] = df_clean[\"LANES\"].astype('category')\n",
    "df_clean[\"CLEAR-G\"] = df_clean[\"CLEAR-G\"].astype('string')\n",
    "df_clean[\"T-OR-D\"] = df_clean[\"T-OR-D\"].astype('category')\n",
    "df_clean[\"MATERIAL\"] = df_clean[\"MATERIAL\"].astype('category')\n",
    "df_clean[\"SPAN\"] = df_clean[\"SPAN\"].astype('category')\n",
    "df_clean[\"REL-L\"] = df_clean[\"REL-L\"].astype('category')\n",
    "df_clean[\"TYPE\"] = df_clean[\"TYPE\"].astype('category')\n",
    "\n"
   ]
  },
  {
   "cell_type": "code",
   "execution_count": 21,
   "id": "3d6c9c00-c7ca-4aed-a5b3-7a6c61d619c7",
   "metadata": {},
   "outputs": [
    {
     "name": "stderr",
     "output_type": "stream",
     "text": [
      "/Users/philipp/Library/Caches/pypoetry/virtualenvs/error-paper-mf3FH1nM-py3.10/lib/python3.10/site-packages/tab_err/error_type/_error_type.py:67: UserWarning: self.config.extraneous_value_template is not set. Choosing a random string augmentation.\n",
      "  return self._apply(data, error_mask, column)\n",
      "/Users/philipp/Library/Caches/pypoetry/virtualenvs/error-paper-mf3FH1nM-py3.10/lib/python3.10/site-packages/tab_err/error_type/_error_type.py:67: UserWarning: self.config.extraneous_value_template is not set. Choosing a random string augmentation.\n",
      "  return self._apply(data, error_mask, column)\n",
      "/Users/philipp/Library/Caches/pypoetry/virtualenvs/error-paper-mf3FH1nM-py3.10/lib/python3.10/site-packages/tab_err/error_type/_error_type.py:67: UserWarning: self.config.extraneous_value_template is not set. Choosing a random string augmentation.\n",
      "  return self._apply(data, error_mask, column)\n",
      "/Users/philipp/Library/Caches/pypoetry/virtualenvs/error-paper-mf3FH1nM-py3.10/lib/python3.10/site-packages/tab_err/error_type/_error_type.py:67: UserWarning: self.config.extraneous_value_template is not set. Choosing a random string augmentation.\n",
      "  return self._apply(data, error_mask, column)\n",
      "/Users/philipp/Library/Caches/pypoetry/virtualenvs/error-paper-mf3FH1nM-py3.10/lib/python3.10/site-packages/tab_err/error_type/_error_type.py:67: UserWarning: self.config.extraneous_value_template is not set. Choosing a random string augmentation.\n",
      "  return self._apply(data, error_mask, column)\n",
      "/Users/philipp/Library/Caches/pypoetry/virtualenvs/error-paper-mf3FH1nM-py3.10/lib/python3.10/site-packages/tab_err/error_type/_error_type.py:67: UserWarning: self.config.extraneous_value_template is not set. Choosing a random string augmentation.\n",
      "  return self._apply(data, error_mask, column)\n",
      "/Users/philipp/Library/Caches/pypoetry/virtualenvs/error-paper-mf3FH1nM-py3.10/lib/python3.10/site-packages/tab_err/error_type/_error_type.py:67: UserWarning: self.config.extraneous_value_template is not set. Choosing a random string augmentation.\n",
      "  return self._apply(data, error_mask, column)\n",
      "/Users/philipp/Library/Caches/pypoetry/virtualenvs/error-paper-mf3FH1nM-py3.10/lib/python3.10/site-packages/tab_err/error_type/_error_type.py:67: UserWarning: self.config.extraneous_value_template is not set. Choosing a random string augmentation.\n",
      "  return self._apply(data, error_mask, column)\n",
      "/Users/philipp/Library/Caches/pypoetry/virtualenvs/error-paper-mf3FH1nM-py3.10/lib/python3.10/site-packages/tab_err/error_type/_error_type.py:67: UserWarning: self.config.extraneous_value_template is not set. Choosing a random string augmentation.\n",
      "  return self._apply(data, error_mask, column)\n",
      "/Users/philipp/Library/Caches/pypoetry/virtualenvs/error-paper-mf3FH1nM-py3.10/lib/python3.10/site-packages/tab_err/error_type/_error_type.py:67: UserWarning: self.config.extraneous_value_template is not set. Choosing a random string augmentation.\n",
      "  return self._apply(data, error_mask, column)\n",
      "/Users/philipp/Library/Caches/pypoetry/virtualenvs/error-paper-mf3FH1nM-py3.10/lib/python3.10/site-packages/tab_err/error_type/_error_type.py:67: UserWarning: self.config.extraneous_value_template is not set. Choosing a random string augmentation.\n",
      "  return self._apply(data, error_mask, column)\n",
      "/Users/philipp/Library/Caches/pypoetry/virtualenvs/error-paper-mf3FH1nM-py3.10/lib/python3.10/site-packages/tab_err/error_type/_error_type.py:67: UserWarning: self.config.extraneous_value_template is not set. Choosing a random string augmentation.\n",
      "  return self._apply(data, error_mask, column)\n",
      "/Users/philipp/Library/Caches/pypoetry/virtualenvs/error-paper-mf3FH1nM-py3.10/lib/python3.10/site-packages/tab_err/error_type/_error_type.py:67: UserWarning: self.config.extraneous_value_template is not set. Choosing a random string augmentation.\n",
      "  return self._apply(data, error_mask, column)\n",
      "/Users/philipp/Library/Caches/pypoetry/virtualenvs/error-paper-mf3FH1nM-py3.10/lib/python3.10/site-packages/tab_err/error_type/_error_type.py:67: UserWarning: self.config.extraneous_value_template is not set. Choosing a random string augmentation.\n",
      "  return self._apply(data, error_mask, column)\n",
      "/Users/philipp/Library/Caches/pypoetry/virtualenvs/error-paper-mf3FH1nM-py3.10/lib/python3.10/site-packages/tab_err/error_type/_error_type.py:67: UserWarning: self.config.extraneous_value_template is not set. Choosing a random string augmentation.\n",
      "  return self._apply(data, error_mask, column)\n",
      "/Users/philipp/Library/Caches/pypoetry/virtualenvs/error-paper-mf3FH1nM-py3.10/lib/python3.10/site-packages/tab_err/error_type/_error_type.py:67: UserWarning: self.config.extraneous_value_template is not set. Choosing a random string augmentation.\n",
      "  return self._apply(data, error_mask, column)\n",
      "/Users/philipp/Library/Caches/pypoetry/virtualenvs/error-paper-mf3FH1nM-py3.10/lib/python3.10/site-packages/tab_err/error_type/_error_type.py:67: UserWarning: self.config.extraneous_value_template is not set. Choosing a random string augmentation.\n",
      "  return self._apply(data, error_mask, column)\n",
      "/Users/philipp/Library/Caches/pypoetry/virtualenvs/error-paper-mf3FH1nM-py3.10/lib/python3.10/site-packages/tab_err/error_type/_error_type.py:67: UserWarning: self.config.extraneous_value_template is not set. Choosing a random string augmentation.\n",
      "  return self._apply(data, error_mask, column)\n",
      "/Users/philipp/Library/Caches/pypoetry/virtualenvs/error-paper-mf3FH1nM-py3.10/lib/python3.10/site-packages/tab_err/error_type/_error_type.py:67: UserWarning: self.config.extraneous_value_template is not set. Choosing a random string augmentation.\n",
      "  return self._apply(data, error_mask, column)\n",
      "/Users/philipp/Library/Caches/pypoetry/virtualenvs/error-paper-mf3FH1nM-py3.10/lib/python3.10/site-packages/tab_err/error_type/_error_type.py:67: UserWarning: self.config.extraneous_value_template is not set. Choosing a random string augmentation.\n",
      "  return self._apply(data, error_mask, column)\n"
     ]
    }
   ],
   "source": [
    "scenario_name = 'bridges_scenario'\n",
    "\n",
    "for i in range(10):\n",
    "    base_seed = i * 1000  # Using 1000 ensures no overlap between iterations\n",
    "    seeds = [base_seed + (j+1) for j in range(len(df_clean.columns))]\n",
    "    \n",
    "    mid_lvl_config = {\n",
    "        \"LOCATION\": [ErrorModel(ENAR(seed=seeds[0]), error_type.CategorySwap(seed=seeds[0]), error_percentages['LOCATION'])],\n",
    "        \"ERECTED\": [ErrorModel(EAR(condition_to_column='LOCATION', seed=seeds[1]), error_type.Extraneous(seed=seeds[1]), error_percentages['ERECTED'])],\n",
    "        \"PURPOSE\": [ErrorModel(EAR(condition_to_column='LOCATION', seed=seeds[2]), error_type.Extraneous({'extraneous_value_template': 'Purpose: {value}'}, seed=seeds[2]), error_percentages['PURPOSE'])],\n",
    "        \"LENGTH\": [ErrorModel(ENAR(seed=seeds[3]), error_type.Extraneous(seed=seeds[3]), error_percentages['LENGTH'])],\n",
    "        \"LANES\": [ErrorModel(EAR(condition_to_column='PURPOSE', seed=seeds[4]), error_type.CategorySwap(seed=seeds[4]), error_percentages['LANES'])],\n",
    "        \"CLEAR-G\": [ErrorModel(ENAR(seed=seeds[5]), error_type.MissingValue({'missing_value': '?'}, seed=seeds[5]), error_percentages['CLEAR-G'])],\n",
    "        \"T-OR-D\": [ErrorModel(EAR(condition_to_column='PURPOSE', seed=seeds[6]), error_type.CategorySwap(seed=seeds[6]), error_percentages['T-OR-D'])],\n",
    "        \"MATERIAL\": [ErrorModel(EAR(condition_to_column='ERECTED', seed=seeds[7]), error_type.CategorySwap(seed=seeds[7]), error_percentages['MATERIAL'])],\n",
    "        \"SPAN\": [ErrorModel(EAR(condition_to_column='PURPOSE', seed=seeds[8]), error_type.CategorySwap(seed=seeds[8]), error_percentages['SPAN'])],\n",
    "        \"REL-L\": [ErrorModel(EAR(condition_to_column='PURPOSE', seed=seeds[9]), error_type.CategorySwap(seed=seeds[9]), error_percentages['REL-L'])],\n",
    "        \"TYPE\": [ErrorModel(EAR(condition_to_column='PURPOSE', seed=seeds[10]), error_type.CategorySwap(seed=seeds[10]), error_percentages['TYPE'])],\n",
    "    }\n",
    "\n",
    "    scenario = MidLevelConfig(mid_lvl_config)\n",
    "    df_corrupted, error_mask = mid_level.create_errors(df_clean, scenario)\n",
    "    df_corrupted.to_csv(f'../export_data/bridges/{scenario_name}_{i}.csv', index=False)"
   ]
  },
  {
   "cell_type": "code",
   "execution_count": 22,
   "id": "fab3742c",
   "metadata": {},
   "outputs": [
    {
     "name": "stdout",
     "output_type": "stream",
     "text": [
      "bridges_missing_ecar_0.csv deviates from intended error_pct by absolute 0.9259259259259258%.\n",
      "bridges_missing_ecar_1.csv deviates from intended error_pct by absolute 1.8518518518518516%.\n",
      "bridges_missing_ecar_2.csv deviates from intended error_pct by absolute 2.7777777777777777%.\n",
      "bridges_missing_ecar_3.csv deviates from intended error_pct by absolute 0.0%.\n",
      "bridges_missing_ecar_4.csv deviates from intended error_pct by absolute 0.9259259259259258%.\n",
      "bridges_missing_ecar_5.csv deviates from intended error_pct by absolute 1.8518518518518516%.\n",
      "bridges_missing_ecar_6.csv deviates from intended error_pct by absolute 1.8518518518518516%.\n",
      "bridges_missing_ecar_7.csv deviates from intended error_pct by absolute 4.62962962962963%.\n",
      "bridges_missing_ecar_8.csv deviates from intended error_pct by absolute 1.8518518518518516%.\n",
      "bridges_missing_ecar_9.csv deviates from intended error_pct by absolute 1.8518518518518516%.\n",
      "bridges_scenario_0.csv deviates from intended error_pct by absolute 0.0%.\n",
      "bridges_scenario_1.csv deviates from intended error_pct by absolute 0.0%.\n",
      "bridges_scenario_2.csv deviates from intended error_pct by absolute 0.0%.\n",
      "bridges_scenario_3.csv deviates from intended error_pct by absolute 0.0%.\n",
      "bridges_scenario_4.csv deviates from intended error_pct by absolute 0.0%.\n",
      "bridges_scenario_5.csv deviates from intended error_pct by absolute 0.0%.\n",
      "bridges_scenario_6.csv deviates from intended error_pct by absolute 0.0%.\n",
      "bridges_scenario_7.csv deviates from intended error_pct by absolute 0.0%.\n",
      "bridges_scenario_8.csv deviates from intended error_pct by absolute 0.0%.\n",
      "bridges_scenario_9.csv deviates from intended error_pct by absolute 0.0%.\n"
     ]
    }
   ],
   "source": [
    "for i in range(10):\n",
    "    verify_error_pct('../export_data/bridges/clean.csv', f'../export_data/bridges/bridges_missing_ecar_{i}.csv', error_percentages)\n",
    "for i in range(10):\n",
    "    verify_error_pct('../export_data/bridges/clean.csv', f'../export_data/bridges/bridges_scenario_{i}.csv', error_percentages)"
   ]
  },
  {
   "cell_type": "markdown",
   "id": "99d3adae-e962-49e6-9586-17441e12b465",
   "metadata": {},
   "source": [
    "## cars"
   ]
  },
  {
   "cell_type": "code",
   "execution_count": 23,
   "id": "567730a6-af59-4708-9d45-ca674c0e8a11",
   "metadata": {},
   "outputs": [
    {
     "name": "stdout",
     "output_type": "stream",
     "text": [
      "Saved MCAR dataset cars iteration 0\n",
      "Saved MCAR dataset cars iteration 1\n",
      "Saved MCAR dataset cars iteration 2\n",
      "Saved MCAR dataset cars iteration 3\n",
      "Saved MCAR dataset cars iteration 4\n",
      "Saved MCAR dataset cars iteration 5\n",
      "Saved MCAR dataset cars iteration 6\n",
      "Saved MCAR dataset cars iteration 7\n",
      "Saved MCAR dataset cars iteration 8\n",
      "Saved MCAR dataset cars iteration 9\n"
     ]
    }
   ],
   "source": [
    "df_clean = read_csv_dataset('../data/cars/clean.csv')\n",
    "df_dirty = read_csv_dataset('../data/cars/cars_3_1.csv')\n",
    "\n",
    "df_clean.to_csv(f'../export_data/cars/clean.csv', index=False)\n",
    "df_dirty.to_csv(f'../export_data/cars/cars_original.csv', index=False)\n",
    "\n",
    "error_percentages = (df_dirty != df_clean).sum() / df_dirty.shape[0]\n",
    "create_mcar('cars', df_clean, error_percentages)\n",
    "\n",
    "df_clean['Cylinders'] = df_clean['Cylinders'].astype('category')\n",
    "df_clean['Acceleration'] = df_clean['Acceleration'].astype('category')\n",
    "df_clean['Model'] = df_clean['Model'].astype('category')\n",
    "df_clean['Origin'] = df_clean['Origin'].astype('category')\n",
    "df_clean['Displacement'] = df_clean['Displacement'].astype('Float64')\n",
    "df_clean['Horsepower'] = df_clean['Horsepower'].astype('Float64')\n",
    "df_clean['Weight'] = df_clean['Weight'].astype('Float64')\n"
   ]
  },
  {
   "cell_type": "code",
   "execution_count": 24,
   "id": "2b902845-074c-4630-907b-2693ae1cc484",
   "metadata": {},
   "outputs": [],
   "source": [
    "scenario_name = 'cars_scenario'\n",
    "\n",
    "for i in range(10):\n",
    "    base_seed = i * 1000  # Using 1000 ensures no overlap between iterations\n",
    "    seeds = [base_seed + (j+1) for j in range(len(df_clean.columns))]\n",
    "    \n",
    "    mid_lvl_config = {\n",
    "        \"Cylinders\": [ErrorModel(ENAR(seed=seeds[0]), error_type.CategorySwap(), error_percentages['Cylinders'])],\n",
    "        \"Displacement\": [ErrorModel(EAR(condition_to_column='Horsepower', seed=seeds[1]), error_type.Outlier(), error_percentages['Displacement'])],\n",
    "        \"Horsepower\": [ErrorModel(ENAR(seed=seeds[2]), error_type.Outlier(), error_percentages['Horsepower'])],\n",
    "        \"Weight\": [ErrorModel(EAR(condition_to_column=\"Horsepower\", seed=seeds[3]), error_type.Outlier(), error_percentages['Weight'])],\n",
    "        \"Acceleration\": [ErrorModel(EAR(condition_to_column=\"Horsepower\", seed=seeds[4]), error_type.CategorySwap(), error_percentages['Acceleration'])],\n",
    "        \"Model\": [ErrorModel(EAR(condition_to_column=\"Origin\", seed=seeds[5]), error_type.CategorySwap(), error_percentages['Model'])],\n",
    "        \"Origin\": [ErrorModel(ENAR(seed=seeds[6]), error_type.CategorySwap(), error_percentages['Origin'])],\n",
    "    }\n",
    "\n",
    "    scenario = MidLevelConfig(mid_lvl_config)\n",
    "    df_corrupted, error_mask = mid_level.create_errors(df_clean, scenario)\n",
    "    df_corrupted.to_csv(f'../export_data/cars/{scenario_name}_{i}.csv', index=False)"
   ]
  },
  {
   "cell_type": "code",
   "execution_count": 25,
   "id": "36018430",
   "metadata": {},
   "outputs": [
    {
     "name": "stdout",
     "output_type": "stream",
     "text": [
      "cars_missing_ecar_0.csv deviates from intended error_pct by absolute 0.0%.\n",
      "cars_missing_ecar_1.csv deviates from intended error_pct by absolute 0.0%.\n",
      "cars_missing_ecar_2.csv deviates from intended error_pct by absolute 0.0%.\n",
      "cars_missing_ecar_3.csv deviates from intended error_pct by absolute 0.0%.\n",
      "cars_missing_ecar_4.csv deviates from intended error_pct by absolute 0.0%.\n",
      "cars_missing_ecar_5.csv deviates from intended error_pct by absolute 0.0%.\n",
      "cars_missing_ecar_6.csv deviates from intended error_pct by absolute 0.0%.\n",
      "cars_missing_ecar_7.csv deviates from intended error_pct by absolute 0.0%.\n",
      "cars_missing_ecar_8.csv deviates from intended error_pct by absolute 0.0%.\n",
      "cars_missing_ecar_9.csv deviates from intended error_pct by absolute 0.0%.\n",
      "cars_scenario_0.csv deviates from intended error_pct by absolute 0.0%.\n",
      "cars_scenario_1.csv deviates from intended error_pct by absolute 0.0%.\n",
      "cars_scenario_2.csv deviates from intended error_pct by absolute 0.0%.\n",
      "cars_scenario_3.csv deviates from intended error_pct by absolute 0.0%.\n",
      "cars_scenario_4.csv deviates from intended error_pct by absolute 0.0%.\n",
      "cars_scenario_5.csv deviates from intended error_pct by absolute 0.0%.\n",
      "cars_scenario_6.csv deviates from intended error_pct by absolute 0.0%.\n",
      "cars_scenario_7.csv deviates from intended error_pct by absolute 0.0%.\n",
      "cars_scenario_8.csv deviates from intended error_pct by absolute 0.0%.\n",
      "cars_scenario_9.csv deviates from intended error_pct by absolute 0.0%.\n"
     ]
    }
   ],
   "source": [
    "for i in range(10):\n",
    "    verify_error_pct('../export_data/cars/clean.csv', f'../export_data/cars/cars_missing_ecar_{i}.csv', error_percentages)\n",
    "for i in range(10):\n",
    "    verify_error_pct('../export_data/cars/clean.csv', f'../export_data/cars/cars_scenario_{i}.csv', error_percentages)"
   ]
  },
  {
   "cell_type": "markdown",
   "id": "4ee1b0c2-4aaf-4ccd-bf08-bc255ac203b8",
   "metadata": {},
   "source": [
    "## flights"
   ]
  },
  {
   "cell_type": "code",
   "execution_count": 26,
   "id": "19734b08-00dc-40b9-b152-6b307e5d1547",
   "metadata": {},
   "outputs": [
    {
     "name": "stdout",
     "output_type": "stream",
     "text": [
      "Saved MCAR dataset flights iteration 0\n",
      "Saved MCAR dataset flights iteration 1\n",
      "Saved MCAR dataset flights iteration 2\n",
      "Saved MCAR dataset flights iteration 3\n",
      "Saved MCAR dataset flights iteration 4\n",
      "Saved MCAR dataset flights iteration 5\n",
      "Saved MCAR dataset flights iteration 6\n",
      "Saved MCAR dataset flights iteration 7\n",
      "Saved MCAR dataset flights iteration 8\n",
      "Saved MCAR dataset flights iteration 9\n"
     ]
    }
   ],
   "source": [
    "df_clean = read_csv_dataset('../data/flights/clean.csv')\n",
    "df_dirty = read_csv_dataset('../data/flights/dirty.csv')\n",
    "\n",
    "df_clean.to_csv(f'../export_data/flights/clean.csv', index=False)\n",
    "df_dirty.to_csv(f'../export_data/flights/flights_original.csv', index=False)\n",
    "\n",
    "error_percentages = (df_dirty != df_clean).sum() / df_dirty.shape[0]\n",
    "create_mcar('flights', df_clean, error_percentages)\n",
    "\n",
    "df_clean['sched_dep_time'] = df_clean['sched_dep_time'].astype('category')\n",
    "df_clean['act_dep_time'] = df_clean['act_dep_time'].astype('category')\n",
    "df_clean['sched_arr_time'] = df_clean['sched_arr_time'].astype('category')\n",
    "df_clean['act_arr_time'] = df_clean['act_arr_time'].astype('category')\n"
   ]
  },
  {
   "cell_type": "code",
   "execution_count": 27,
   "id": "4a7179ad-0c6c-466d-8626-96563b2445f1",
   "metadata": {},
   "outputs": [],
   "source": [
    "scenario_name = 'flights_scenario'\n",
    "\n",
    "for i in range(10):\n",
    "    base_seed = i * 1000  # Using 1000 ensures no overlap between iterations\n",
    "    seeds = [base_seed + (j+1) for j in range(len(df_clean.columns))]\n",
    "    \n",
    "    mid_lvl_config = {\n",
    "        \"sched_dep_time\": [ErrorModel(EAR(condition_to_column='flight', seed=seeds[0]), error_type.CategorySwap(), error_percentages['sched_dep_time'])],\n",
    "        \"act_dep_time\": [ErrorModel(EAR(condition_to_column='flight', seed=seeds[1]), error_type.CategorySwap(), error_percentages['act_dep_time'])],\n",
    "        \"sched_arr_time\": [ErrorModel(EAR(condition_to_column='flight', seed=seeds[2]), error_type.CategorySwap(), error_percentages['sched_arr_time'])],\n",
    "        \"act_arr_time\": [ErrorModel(EAR(condition_to_column='flight', seed=seeds[3]), error_type.CategorySwap(), error_percentages['act_arr_time'])],\n",
    "    }\n",
    "\n",
    "    scenario = MidLevelConfig(mid_lvl_config)\n",
    "    df_corrupted, error_mask = mid_level.create_errors(df_clean, scenario)\n",
    "    df_corrupted.to_csv(f'../export_data/flights/{scenario_name}_{i}.csv', index=False)"
   ]
  },
  {
   "cell_type": "code",
   "execution_count": 28,
   "id": "329df83e",
   "metadata": {},
   "outputs": [
    {
     "name": "stdout",
     "output_type": "stream",
     "text": [
      "flights_missing_ecar_0.csv deviates from intended error_pct by absolute 0.04208754208753218%.\n",
      "flights_missing_ecar_1.csv deviates from intended error_pct by absolute 0.04208754208753218%.\n",
      "flights_missing_ecar_2.csv deviates from intended error_pct by absolute 0.04208754208753218%.\n",
      "flights_missing_ecar_3.csv deviates from intended error_pct by absolute 0.04208754208753218%.\n",
      "flights_missing_ecar_4.csv deviates from intended error_pct by absolute 0.04208754208753218%.\n",
      "flights_missing_ecar_5.csv deviates from intended error_pct by absolute 0.04208754208753218%.\n",
      "flights_missing_ecar_6.csv deviates from intended error_pct by absolute 0.04208754208753218%.\n",
      "flights_missing_ecar_7.csv deviates from intended error_pct by absolute 0.04208754208753218%.\n",
      "flights_missing_ecar_8.csv deviates from intended error_pct by absolute 0.04208754208753218%.\n",
      "flights_missing_ecar_9.csv deviates from intended error_pct by absolute 0.04208754208753218%.\n",
      "flights_scenario_0.csv deviates from intended error_pct by absolute 0.04208754208753218%.\n",
      "flights_scenario_1.csv deviates from intended error_pct by absolute 0.04208754208753218%.\n",
      "flights_scenario_2.csv deviates from intended error_pct by absolute 0.04208754208753218%.\n",
      "flights_scenario_3.csv deviates from intended error_pct by absolute 0.04208754208753218%.\n",
      "flights_scenario_4.csv deviates from intended error_pct by absolute 0.04208754208753218%.\n",
      "flights_scenario_5.csv deviates from intended error_pct by absolute 0.04208754208753218%.\n",
      "flights_scenario_6.csv deviates from intended error_pct by absolute 0.04208754208753218%.\n",
      "flights_scenario_7.csv deviates from intended error_pct by absolute 0.04208754208753218%.\n",
      "flights_scenario_8.csv deviates from intended error_pct by absolute 0.04208754208753218%.\n",
      "flights_scenario_9.csv deviates from intended error_pct by absolute 0.04208754208753218%.\n"
     ]
    }
   ],
   "source": [
    "for i in range(10):\n",
    "    verify_error_pct('../export_data/flights/clean.csv', f'../export_data/flights/flights_missing_ecar_{i}.csv', error_percentages)\n",
    "for i in range(10):\n",
    "    verify_error_pct('../export_data/flights/clean.csv', f'../export_data/flights/flights_scenario_{i}.csv', error_percentages)"
   ]
  },
  {
   "cell_type": "markdown",
   "id": "7516c31f-3b45-46c8-89d7-1a0c07559ae6",
   "metadata": {},
   "source": [
    "## food"
   ]
  },
  {
   "cell_type": "code",
   "execution_count": 29,
   "id": "10f544ef-c3f3-4331-b24d-ce5ab6a2f044",
   "metadata": {},
   "outputs": [
    {
     "name": "stdout",
     "output_type": "stream",
     "text": [
      "Saved MCAR dataset food iteration 0\n",
      "Saved MCAR dataset food iteration 1\n",
      "Saved MCAR dataset food iteration 2\n",
      "Saved MCAR dataset food iteration 3\n",
      "Saved MCAR dataset food iteration 4\n",
      "Saved MCAR dataset food iteration 5\n",
      "Saved MCAR dataset food iteration 6\n",
      "Saved MCAR dataset food iteration 7\n",
      "Saved MCAR dataset food iteration 8\n",
      "Saved MCAR dataset food iteration 9\n"
     ]
    }
   ],
   "source": [
    "df_clean = read_csv_dataset('../data/food/clean.csv').iloc[:1000, :]\n",
    "df_dirty = read_csv_dataset('../data/food/dirty.csv').iloc[:1000, :]\n",
    "\n",
    "df_clean.to_csv(f'../export_data/food/clean.csv', index=False)\n",
    "df_dirty.to_csv(f'../export_data/food/food_original.csv', index=False)\n",
    "\n",
    "error_percentages = (df_dirty != df_clean).sum() / df_dirty.shape[0]\n",
    "create_mcar('food', df_clean, error_percentages)\n",
    "\n",
    "df_clean['city'] = df_clean['city'].astype('category')\n",
    "df_clean['state'] = df_clean['state'].astype('string')\n",
    "df_clean['facilitytype'] = df_clean['facilitytype'].astype('category')\n",
    "df_clean['address'] = df_clean['address'].astype('category')\n",
    "df_clean['zip'] = df_clean['zip'].astype('category')\n"
   ]
  },
  {
   "cell_type": "code",
   "execution_count": 30,
   "id": "b1f1c027-9cc3-44e4-a8e8-d86ae357f81d",
   "metadata": {},
   "outputs": [],
   "source": [
    "scenario_name = 'food_scenario'\n",
    "\n",
    "for i in range(10):\n",
    "    base_seed = i * 1000  # Using 1000 ensures no overlap between iterations\n",
    "    seeds = [base_seed + (j+1) for j in range(len(df_clean.columns))]\n",
    "    \n",
    "    mid_lvl_config = {\n",
    "        \"city\": [ErrorModel(EAR(condition_to_column='inspectiontype', seed=seeds[0]), error_type.CategorySwap(), error_percentages['city'])],\n",
    "        \"state\": [ErrorModel(EAR(condition_to_column='inspectiontype', seed=seeds[1]), error_type.Replace({'replace_what': 'IL', 'replace_with': 'WS'}), error_percentages['state'])],\n",
    "        \"facilitytype\": [ErrorModel(EAR(condition_to_column='inspectiontype', seed=seeds[2]), error_type.CategorySwap(), error_percentages['facilitytype'])],\n",
    "        \"address\": [ErrorModel(EAR(condition_to_column='inspectiontype', seed=seeds[3]), error_type.CategorySwap(), error_percentages['address'])],\n",
    "        \"zip\": [ErrorModel(EAR(condition_to_column='inspectiontype', seed=seeds[4]), error_type.CategorySwap(), error_percentages['zip'])],\n",
    "    }\n",
    "\n",
    "    scenario = MidLevelConfig(mid_lvl_config)\n",
    "    df_corrupted, error_mask = mid_level.create_errors(df_clean, scenario)\n",
    "    df_corrupted.to_csv(f'../export_data/food/{scenario_name}_{i}.csv', index=False)"
   ]
  },
  {
   "cell_type": "code",
   "execution_count": 31,
   "id": "1687d0bb",
   "metadata": {},
   "outputs": [
    {
     "name": "stdout",
     "output_type": "stream",
     "text": [
      "food_missing_ecar_0.csv deviates from intended error_pct by absolute 0.0%.\n",
      "food_missing_ecar_1.csv deviates from intended error_pct by absolute 0.0%.\n",
      "food_missing_ecar_2.csv deviates from intended error_pct by absolute 0.0%.\n",
      "food_missing_ecar_3.csv deviates from intended error_pct by absolute 0.0%.\n",
      "food_missing_ecar_4.csv deviates from intended error_pct by absolute 0.0%.\n",
      "food_missing_ecar_5.csv deviates from intended error_pct by absolute 0.0%.\n",
      "food_missing_ecar_6.csv deviates from intended error_pct by absolute 0.0%.\n",
      "food_missing_ecar_7.csv deviates from intended error_pct by absolute 0.0%.\n",
      "food_missing_ecar_8.csv deviates from intended error_pct by absolute 0.0%.\n",
      "food_missing_ecar_9.csv deviates from intended error_pct by absolute 0.0%.\n",
      "food_scenario_0.csv deviates from intended error_pct by absolute 0.0%.\n",
      "food_scenario_1.csv deviates from intended error_pct by absolute 0.0%.\n",
      "food_scenario_2.csv deviates from intended error_pct by absolute 0.0%.\n",
      "food_scenario_3.csv deviates from intended error_pct by absolute 0.0%.\n",
      "food_scenario_4.csv deviates from intended error_pct by absolute 0.0%.\n",
      "food_scenario_5.csv deviates from intended error_pct by absolute 0.0%.\n",
      "food_scenario_6.csv deviates from intended error_pct by absolute 0.0%.\n",
      "food_scenario_7.csv deviates from intended error_pct by absolute 0.0%.\n",
      "food_scenario_8.csv deviates from intended error_pct by absolute 0.0%.\n",
      "food_scenario_9.csv deviates from intended error_pct by absolute 0.0%.\n"
     ]
    }
   ],
   "source": [
    "for i in range(10):\n",
    "    verify_error_pct('../export_data/food/clean.csv', f'../export_data/food/food_missing_ecar_{i}.csv', error_percentages)\n",
    "for i in range(10):\n",
    "    verify_error_pct('../export_data/food/clean.csv', f'../export_data/food/food_scenario_{i}.csv', error_percentages)"
   ]
  },
  {
   "cell_type": "markdown",
   "id": "8d0d7e33-fef1-47de-bc19-79fe4f070076",
   "metadata": {},
   "source": [
    "## rayyan"
   ]
  },
  {
   "cell_type": "code",
   "execution_count": 32,
   "id": "cebbe5e7-8128-4762-8f68-3dfb8ca7b1e5",
   "metadata": {},
   "outputs": [
    {
     "name": "stdout",
     "output_type": "stream",
     "text": [
      "Saved MCAR dataset rayyan iteration 0\n",
      "Saved MCAR dataset rayyan iteration 1\n",
      "Saved MCAR dataset rayyan iteration 2\n",
      "Saved MCAR dataset rayyan iteration 3\n",
      "Saved MCAR dataset rayyan iteration 4\n",
      "Saved MCAR dataset rayyan iteration 5\n",
      "Saved MCAR dataset rayyan iteration 6\n",
      "Saved MCAR dataset rayyan iteration 7\n",
      "Saved MCAR dataset rayyan iteration 8\n",
      "Saved MCAR dataset rayyan iteration 9\n"
     ]
    }
   ],
   "source": [
    "df_clean = read_csv_dataset('../data/rayyan/clean.csv')\n",
    "df_dirty = read_csv_dataset('../data/rayyan/dirty.csv')\n",
    "\n",
    "df_clean.to_csv(f'../export_data/rayyan/clean.csv', index=False)\n",
    "df_dirty.to_csv(f'../export_data/rayyan/rayyan_original.csv', index=False)\n",
    "\n",
    "error_percentages = (df_dirty != df_clean).sum() / df_dirty.shape[0]\n",
    "create_mcar('rayyan', df_clean, error_percentages)\n",
    "\n",
    "df_clean['article_title'] = df_clean['article_title'].astype('string')\n",
    "df_clean['journal_title'] = df_clean['journal_title'].astype('string')\n",
    "df_clean['journal_issn'] = df_clean['journal_issn'].astype('string')\n",
    "df_clean['article_jvolumn'] = df_clean['article_jvolumn'].astype('category')\n",
    "df_clean['article_jissue'] = df_clean['article_jissue'].astype('category')\n",
    "df_clean['article_jcreated_at'] = df_clean['article_jcreated_at'].astype('category')\n",
    "df_clean['article_pagination'] = df_clean['article_pagination'].astype('string')\n",
    "df_clean['author_list'] = df_clean['author_list'].astype('category')\n",
    "\n"
   ]
  },
  {
   "cell_type": "code",
   "execution_count": 33,
   "id": "fc6f831a-37cb-4115-861c-5cf1b70823ab",
   "metadata": {},
   "outputs": [],
   "source": [
    "scenario_name = 'rayyan_scenario'\n",
    "\n",
    "for i in range(10):\n",
    "    base_seed = i * 1000  # Using 1000 ensures no overlap between iterations\n",
    "    seeds = [base_seed + (j+1) for j in range(len(df_clean.columns))]\n",
    "    \n",
    "    mid_lvl_config = {\n",
    "        \"article_title\": [ErrorModel(EAR(condition_to_column='journal_title', seed=seeds[0]), error_type.MissingValue({'missing_value': '?'}), error_percentages['article_title'])],\n",
    "        \"journal_title\": [ErrorModel(ENAR(seed=seeds[1]), error_type.MissingValue({'missing_value': '?'}), error_percentages['journal_title'])],\n",
    "        \"journal_issn\": [ErrorModel(EAR(condition_to_column='journal_issn', seed=seeds[2]), error_type.MissingValue({'missing_value': '?'}), error_percentages['journal_issn'])],\n",
    "        \"article_jvolumn\": [ErrorModel(EAR(condition_to_column='journal_title', seed=seeds[3]), error_type.CategorySwap(), error_percentages['article_jvolumn'])],\n",
    "        \"article_jissue\": [ErrorModel(EAR(condition_to_column='journal_title', seed=seeds[4]), error_type.CategorySwap(), error_percentages['article_jissue'])],\n",
    "        \"article_jcreated_at\": [ErrorModel(EAR(condition_to_column='journal_title', seed=seeds[5]), error_type.CategorySwap(), error_percentages['article_jcreated_at'])],\n",
    "        \"article_pagination\": [ErrorModel(EAR(condition_to_column='article_pagination', seed=seeds[6]), error_type.MissingValue({'missing_value': '?'}), error_percentages['article_pagination'])],\n",
    "        \"author_list\": [ErrorModel(EAR(condition_to_column='article_pagination', seed=seeds[7]), error_type.CategorySwap(), error_percentages['author_list'])],\n",
    "    }\n",
    "\n",
    "    scenario = MidLevelConfig(mid_lvl_config)\n",
    "    df_corrupted, error_mask = mid_level.create_errors(df_clean, scenario)\n",
    "    df_corrupted.to_csv(f'../export_data/rayyan/{scenario_name}_{i}.csv', index=False)"
   ]
  },
  {
   "cell_type": "code",
   "execution_count": 34,
   "id": "79a20c5f",
   "metadata": {},
   "outputs": [
    {
     "name": "stdout",
     "output_type": "stream",
     "text": [
      "rayyan_missing_ecar_0.csv deviates from intended error_pct by absolute 0.0%.\n",
      "rayyan_missing_ecar_1.csv deviates from intended error_pct by absolute 0.0%.\n",
      "rayyan_missing_ecar_2.csv deviates from intended error_pct by absolute 0.0%.\n",
      "rayyan_missing_ecar_3.csv deviates from intended error_pct by absolute 0.0%.\n",
      "rayyan_missing_ecar_4.csv deviates from intended error_pct by absolute 0.0%.\n",
      "rayyan_missing_ecar_5.csv deviates from intended error_pct by absolute 0.0%.\n",
      "rayyan_missing_ecar_6.csv deviates from intended error_pct by absolute 0.0%.\n",
      "rayyan_missing_ecar_7.csv deviates from intended error_pct by absolute 0.0%.\n",
      "rayyan_missing_ecar_8.csv deviates from intended error_pct by absolute 0.0%.\n",
      "rayyan_missing_ecar_9.csv deviates from intended error_pct by absolute 0.0%.\n",
      "rayyan_scenario_0.csv deviates from intended error_pct by absolute 0.0%.\n",
      "rayyan_scenario_1.csv deviates from intended error_pct by absolute 0.0%.\n",
      "rayyan_scenario_2.csv deviates from intended error_pct by absolute 0.0%.\n",
      "rayyan_scenario_3.csv deviates from intended error_pct by absolute 0.0%.\n",
      "rayyan_scenario_4.csv deviates from intended error_pct by absolute 0.0%.\n",
      "rayyan_scenario_5.csv deviates from intended error_pct by absolute 0.0%.\n",
      "rayyan_scenario_6.csv deviates from intended error_pct by absolute 0.0%.\n",
      "rayyan_scenario_7.csv deviates from intended error_pct by absolute 0.0%.\n",
      "rayyan_scenario_8.csv deviates from intended error_pct by absolute 0.0%.\n",
      "rayyan_scenario_9.csv deviates from intended error_pct by absolute 0.0%.\n"
     ]
    }
   ],
   "source": [
    "for i in range(10):\n",
    "    verify_error_pct('../export_data/rayyan/clean.csv', f'../export_data/rayyan/rayyan_missing_ecar_{i}.csv', error_percentages)\n",
    "for i in range(10):\n",
    "    verify_error_pct('../export_data/rayyan/clean.csv', f'../export_data/rayyan/rayyan_scenario_{i}.csv', error_percentages)"
   ]
  },
  {
   "cell_type": "markdown",
   "id": "d69d3d2a-c848-4525-a795-3700d2049b25",
   "metadata": {},
   "source": [
    "## restaurant"
   ]
  },
  {
   "cell_type": "code",
   "execution_count": 35,
   "id": "c1c0dfb0-aacd-4d5d-9d7c-6c36633f3780",
   "metadata": {},
   "outputs": [
    {
     "name": "stdout",
     "output_type": "stream",
     "text": [
      "Saved MCAR dataset restaurant iteration 0\n",
      "Saved MCAR dataset restaurant iteration 1\n",
      "Saved MCAR dataset restaurant iteration 2\n",
      "Saved MCAR dataset restaurant iteration 3\n",
      "Saved MCAR dataset restaurant iteration 4\n",
      "Saved MCAR dataset restaurant iteration 5\n",
      "Saved MCAR dataset restaurant iteration 6\n",
      "Saved MCAR dataset restaurant iteration 7\n",
      "Saved MCAR dataset restaurant iteration 8\n",
      "Saved MCAR dataset restaurant iteration 9\n"
     ]
    }
   ],
   "source": [
    "df_clean = read_csv_dataset('../data/restaurant/clean.csv')\n",
    "df_dirty = read_csv_dataset('../data/restaurant/restaurant_3_1.csv')\n",
    "\n",
    "df_clean.to_csv(f'../export_data/restaurant/clean.csv', index=False)\n",
    "df_dirty.to_csv(f'../export_data/restaurant/restaurant_original.csv', index=False)\n",
    "\n",
    "error_percentages = (df_dirty != df_clean).sum() / df_dirty.shape[0]\n",
    "create_mcar('restaurant', df_clean, error_percentages)\n",
    "\n",
    "df_clean['city'] = df_clean['city'].astype('string')\n",
    "df_clean['phone'] = df_clean['phone'].astype('string')\n",
    "df_clean['type'] = df_clean['type'].astype('category')\n",
    "df_clean['class'] = df_clean['class'].astype('category')\n"
   ]
  },
  {
   "cell_type": "code",
   "execution_count": 36,
   "id": "e5376981-2943-4556-ae65-fb9eca9903df",
   "metadata": {},
   "outputs": [],
   "source": [
    "scenario_name = 'restaurant_scenario'\n",
    "\n",
    "for i in range(10):\n",
    "    base_seed = i * 1000  # Using 1000 ensures no overlap between iterations\n",
    "    seeds = [base_seed + (j+1) for j in range(len(df_clean.columns))]\n",
    "    \n",
    "    mid_lvl_config = {\n",
    "        \"city\": [ErrorModel(EAR(condition_to_column='class', seed=seeds[0]), error_type.MissingValue({'missing_value': '?'}), error_percentages['city'])],\n",
    "        \"phone\": [ErrorModel(EAR(condition_to_column='class', seed=seeds[1]), error_type.Permutate({'permutation_separator': '-'}), error_percentages['phone'])],\n",
    "        \"type\": [ErrorModel(EAR(condition_to_column='class', seed=seeds[2]), error_type.CategorySwap(), error_percentages['type'])],\n",
    "        \"class\": [ErrorModel(ENAR(seed=seeds[3]), error_type.CategorySwap(), error_percentages['class'])],\n",
    "    }\n",
    "\n",
    "    scenario = MidLevelConfig(mid_lvl_config)\n",
    "    df_corrupted, error_mask = mid_level.create_errors(df_clean, scenario)\n",
    "    df_corrupted.to_csv(f'../export_data/restaurant/{scenario_name}_{i}.csv', index=False)"
   ]
  },
  {
   "cell_type": "code",
   "execution_count": 37,
   "id": "daff2c81",
   "metadata": {},
   "outputs": [
    {
     "name": "stdout",
     "output_type": "stream",
     "text": [
      "restaurant_missing_ecar_0.csv deviates from intended error_pct by absolute 0.0%.\n",
      "restaurant_missing_ecar_1.csv deviates from intended error_pct by absolute 0.0%.\n",
      "restaurant_missing_ecar_2.csv deviates from intended error_pct by absolute 0.0%.\n",
      "restaurant_missing_ecar_3.csv deviates from intended error_pct by absolute 0.0%.\n",
      "restaurant_missing_ecar_4.csv deviates from intended error_pct by absolute 0.0%.\n",
      "restaurant_missing_ecar_5.csv deviates from intended error_pct by absolute 0.0%.\n",
      "restaurant_missing_ecar_6.csv deviates from intended error_pct by absolute 0.0%.\n",
      "restaurant_missing_ecar_7.csv deviates from intended error_pct by absolute 0.0%.\n",
      "restaurant_missing_ecar_8.csv deviates from intended error_pct by absolute 0.0%.\n",
      "restaurant_missing_ecar_9.csv deviates from intended error_pct by absolute 0.0%.\n",
      "restaurant_scenario_0.csv deviates from intended error_pct by absolute 0.0%.\n",
      "restaurant_scenario_1.csv deviates from intended error_pct by absolute 0.0%.\n",
      "restaurant_scenario_2.csv deviates from intended error_pct by absolute 0.0%.\n",
      "restaurant_scenario_3.csv deviates from intended error_pct by absolute 0.0%.\n",
      "restaurant_scenario_4.csv deviates from intended error_pct by absolute 0.0%.\n",
      "restaurant_scenario_5.csv deviates from intended error_pct by absolute 0.0%.\n",
      "restaurant_scenario_6.csv deviates from intended error_pct by absolute 0.0%.\n",
      "restaurant_scenario_7.csv deviates from intended error_pct by absolute 0.0%.\n",
      "restaurant_scenario_8.csv deviates from intended error_pct by absolute 0.0%.\n",
      "restaurant_scenario_9.csv deviates from intended error_pct by absolute 0.0%.\n"
     ]
    }
   ],
   "source": [
    "for i in range(10):\n",
    "    verify_error_pct('../export_data/restaurant/clean.csv', f'../export_data/restaurant/restaurant_missing_ecar_{i}.csv', error_percentages)\n",
    "for i in range(10):\n",
    "    verify_error_pct('../export_data/restaurant/clean.csv', f'../export_data/restaurant/restaurant_scenario_{i}.csv', error_percentages)"
   ]
  },
  {
   "cell_type": "markdown",
   "id": "8c629e17-15d5-44ac-82f7-a1515ab779bc",
   "metadata": {},
   "source": [
    "## tax"
   ]
  },
  {
   "cell_type": "code",
   "execution_count": 38,
   "id": "755a1934-1ae8-43c7-af0e-6510e98efded",
   "metadata": {},
   "outputs": [
    {
     "name": "stdout",
     "output_type": "stream",
     "text": [
      "Saved MCAR dataset tax iteration 0\n",
      "Saved MCAR dataset tax iteration 1\n",
      "Saved MCAR dataset tax iteration 2\n",
      "Saved MCAR dataset tax iteration 3\n",
      "Saved MCAR dataset tax iteration 4\n",
      "Saved MCAR dataset tax iteration 5\n",
      "Saved MCAR dataset tax iteration 6\n",
      "Saved MCAR dataset tax iteration 7\n",
      "Saved MCAR dataset tax iteration 8\n",
      "Saved MCAR dataset tax iteration 9\n"
     ]
    }
   ],
   "source": [
    "df_clean = read_csv_dataset('../data/tax/clean.csv').iloc[:1000, :]\n",
    "df_dirty = read_csv_dataset('../data/tax/dirty.csv').iloc[:1000, :]\n",
    "\n",
    "df_clean.to_csv(f'../export_data/tax/clean.csv', index=False)\n",
    "df_dirty.to_csv(f'../export_data/tax/tax_original.csv', index=False)\n",
    "\n",
    "error_percentages = (df_dirty != df_clean).sum() / df_dirty.shape[0]\n",
    "create_mcar('tax', df_clean, error_percentages)\n",
    "\n",
    "df_clean['state'] = df_clean['state'].astype('category')\n",
    "df_clean['zip'] = df_clean['zip'].astype('category')\n",
    "df_clean['marital_status'] = df_clean['marital_status'].astype('category')\n",
    "df_clean['has_child'] = df_clean['has_child'].astype('category')\n",
    "df_clean['rate'] = df_clean['rate'].astype('string')\n"
   ]
  },
  {
   "cell_type": "code",
   "execution_count": 39,
   "id": "e0a9eba8-0c88-49f6-b0ee-a0c2ece8ac23",
   "metadata": {},
   "outputs": [],
   "source": [
    "scenario_name = 'tax_scenario'\n",
    "\n",
    "for i in range(10):\n",
    "    base_seed = i * 1000  # Using 1000 ensures no overlap between iterations\n",
    "    seeds = [base_seed + (j+1) for j in range(len(df_clean.columns))]\n",
    "    \n",
    "    mid_lvl_config = {\n",
    "        \"f_name\": [ErrorModel(EAR(condition_to_column='city', seed=seeds[0]), error_type.MissingValue({'missing_value': '?'}), error_percentages['f_name'])],\n",
    "        \"l_name\": [ErrorModel(EAR(condition_to_column='city', seed=seeds[1]), error_type.MissingValue({'missing_value': '?'}), error_percentages['l_name'])],\n",
    "        \"state\": [ErrorModel(EAR(condition_to_column='city', seed=seeds[2]), error_type.CategorySwap(), error_percentages['state'])],\n",
    "        \"zip\": [ErrorModel(ENAR(seed=seeds[3]), error_type.CategorySwap(), error_percentages['zip'])],\n",
    "        \"marital_status\": [ErrorModel(ENAR(seed=seeds[4]), error_type.CategorySwap(), error_percentages['marital_status'])],\n",
    "        \"has_child\": [ErrorModel(ENAR(seed=seeds[5]), error_type.CategorySwap(), error_percentages['has_child'])],\n",
    "        \"rate\": [ErrorModel(ENAR(seed=seeds[6]), error_type.Typo(), error_percentages['rate'])],\n",
    "    }\n",
    "\n",
    "    scenario = MidLevelConfig(mid_lvl_config)\n",
    "    df_corrupted, error_mask = mid_level.create_errors(df_clean, scenario)\n",
    "    df_corrupted.to_csv(f'../export_data/tax/{scenario_name}_{i}.csv', index=False)"
   ]
  },
  {
   "cell_type": "code",
   "execution_count": 40,
   "id": "8422f099-e317-4f44-9d4f-6ffab5119bb2",
   "metadata": {},
   "outputs": [
    {
     "name": "stdout",
     "output_type": "stream",
     "text": [
      "tax_missing_ecar_0.csv deviates from intended error_pct by absolute 0.0%.\n",
      "tax_missing_ecar_1.csv deviates from intended error_pct by absolute 0.0%.\n",
      "tax_missing_ecar_2.csv deviates from intended error_pct by absolute 0.0%.\n",
      "tax_missing_ecar_3.csv deviates from intended error_pct by absolute 0.0%.\n",
      "tax_missing_ecar_4.csv deviates from intended error_pct by absolute 0.0%.\n",
      "tax_missing_ecar_5.csv deviates from intended error_pct by absolute 0.0%.\n",
      "tax_missing_ecar_6.csv deviates from intended error_pct by absolute 0.0%.\n",
      "tax_missing_ecar_7.csv deviates from intended error_pct by absolute 0.0%.\n",
      "tax_missing_ecar_8.csv deviates from intended error_pct by absolute 0.0%.\n",
      "tax_missing_ecar_9.csv deviates from intended error_pct by absolute 0.0%.\n",
      "tax_scenario_0.csv deviates from intended error_pct by absolute 0.0%.\n",
      "tax_scenario_1.csv deviates from intended error_pct by absolute 0.0%.\n",
      "tax_scenario_2.csv deviates from intended error_pct by absolute 0.0%.\n",
      "tax_scenario_3.csv deviates from intended error_pct by absolute 0.0%.\n",
      "tax_scenario_4.csv deviates from intended error_pct by absolute 0.0%.\n",
      "tax_scenario_5.csv deviates from intended error_pct by absolute 0.0%.\n",
      "tax_scenario_6.csv deviates from intended error_pct by absolute 0.0%.\n",
      "tax_scenario_7.csv deviates from intended error_pct by absolute 0.0%.\n",
      "tax_scenario_8.csv deviates from intended error_pct by absolute 0.0%.\n",
      "tax_scenario_9.csv deviates from intended error_pct by absolute 0.0%.\n"
     ]
    }
   ],
   "source": [
    "for i in range(10):\n",
    "    verify_error_pct('../export_data/tax/clean.csv', f'../export_data/tax/tax_missing_ecar_{i}.csv', error_percentages)\n",
    "for i in range(10):\n",
    "    verify_error_pct('../export_data/tax/clean.csv', f'../export_data/tax/tax_scenario_{i}.csv', error_percentages)"
   ]
  },
  {
   "cell_type": "markdown",
   "id": "b9e8564b",
   "metadata": {},
   "source": [
    "## Hospital"
   ]
  },
  {
   "cell_type": "code",
   "execution_count": 43,
   "id": "aae916fb",
   "metadata": {},
   "outputs": [
    {
     "name": "stdout",
     "output_type": "stream",
     "text": [
      "Saved MCAR dataset hospital iteration 0\n",
      "Saved MCAR dataset hospital iteration 1\n",
      "Saved MCAR dataset hospital iteration 2\n",
      "Saved MCAR dataset hospital iteration 3\n",
      "Saved MCAR dataset hospital iteration 4\n",
      "Saved MCAR dataset hospital iteration 5\n",
      "Saved MCAR dataset hospital iteration 6\n",
      "Saved MCAR dataset hospital iteration 7\n",
      "Saved MCAR dataset hospital iteration 8\n",
      "Saved MCAR dataset hospital iteration 9\n"
     ]
    }
   ],
   "source": [
    "# load data\n",
    "df_clean = read_csv_dataset('../data/hospital/clean.csv')\n",
    "df_dirty = read_csv_dataset('../data/hospital/dirty.csv')\n",
    "\n",
    "\n",
    "df_clean = df_clean.rename(columns={'StateAverage': 'Stateavg'})\n",
    "df_dirty = df_dirty.rename(columns={'StateAverage': 'Stateavg'})\n",
    "\n",
    "df_clean = df_clean.drop('index', axis=1)\n",
    "df_dirty = df_dirty.drop('index', axis=1)\n",
    "\n",
    "df_dirty.to_csv(f'../export_data/hospital/hospital_original.csv', index=False)\n",
    "\n",
    "# export mcar scenario\n",
    "error_percentages = (df_dirty != df_clean).sum() / df_dirty.shape[0]\n",
    "create_mcar('hospital', df_clean, error_percentages)\n",
    "\n",
    "# apply realistic dtypes\n",
    "df_clean['ProviderNumber'] = df_clean['ProviderNumber'].astype('category')\n",
    "df_clean['HospitalName'] = df_clean['HospitalName'].astype('str')\n",
    "df_clean['Address1'] = df_clean['Address1'].astype('str')\n",
    "df_clean['Address2'] = df_clean['Address2'].astype('str')\n",
    "df_clean['Address3'] = df_clean['Address3'].astype('str')\n",
    "df_clean['City'] = df_clean['City'].astype('str')\n",
    "df_clean['State'] = df_clean['State'].astype('category')\n",
    "df_clean['ZipCode'] = df_clean['ZipCode'].astype('category')\n",
    "df_clean['CountyName'] = df_clean['CountyName'].astype('str')\n",
    "df_clean['PhoneNumber'] = df_clean['PhoneNumber'].astype('str')\n",
    "df_clean['HospitalType'] = df_clean['HospitalType'].astype('str')\n",
    "df_clean['HospitalOwner'] = df_clean['HospitalOwner'].astype('category')\n",
    "df_clean['EmergencyService'] = df_clean['EmergencyService'].astype('category')\n",
    "df_clean['Condition'] = df_clean['Condition'].astype('category')\n",
    "df_clean['MeasureCode'] = df_clean['MeasureCode'].astype('category')\n",
    "df_clean['MeasureName'] = df_clean['MeasureName'].astype('str')\n",
    "df_clean['Score'] = df_clean['Score'].astype('str')\n",
    "df_clean['Sample'] = df_clean['Sample'].astype('str')\n",
    "df_clean['Stateavg'] = df_clean['Stateavg'].astype('str')\n",
    "\n",
    "df_clean.to_csv(f'../export_data/hospital/clean.csv', index=False)"
   ]
  },
  {
   "cell_type": "code",
   "execution_count": 44,
   "id": "14650382",
   "metadata": {},
   "outputs": [],
   "source": [
    "scenario_name = 'hospital_scenario'\n",
    "\n",
    "for i in range(10):\n",
    "    base_seed = i * 1000  # Using 1000 ensures no overlap between iterations\n",
    "    seeds = [base_seed + (j+1) for j in range(len(df_clean.columns))]\n",
    "    \n",
    "    mid_lvl_config = {\n",
    "        \"ProviderNumber\": [ErrorModel(EAR(condition_to_column='State', seed=seeds[0]), error_type.MissingValue(seed=seeds[0]), error_percentages['ProviderNumber'])],\n",
    "        \"HospitalName\": [ErrorModel(EAR(condition_to_column='State', seed=seeds[1]), error_type.MissingValue(seed=seeds[1]), error_percentages['HospitalName'])],\n",
    "        \"Address1\": [ErrorModel(EAR(condition_to_column='State', seed=seeds[2]), error_type.Typo(seed=seeds[2]), error_percentages['Address1'])],\n",
    "        \"City\": [ErrorModel(EAR(condition_to_column='State', seed=seeds[3]), error_type.Typo(seed=seeds[3]), error_percentages['City'])],\n",
    "        \"State\": [ErrorModel(ENAR(seed=seeds[4]), error_type.CategorySwap(seed=seeds[4]), error_percentages['State'])],\n",
    "        \"ZipCode\": [ErrorModel(EAR(condition_to_column='State', seed=seeds[5]), error_type.CategorySwap(seed=seeds[5]), error_percentages['ZipCode'])],\n",
    "        \"CountyName\": [ErrorModel(EAR(condition_to_column='State', seed=seeds[6]), error_type.Typo(seed=seeds[6]), error_percentages['CountyName'])],\n",
    "        \"PhoneNumber\": [ErrorModel(EAR(condition_to_column='State', seed=seeds[7]), error_type.MissingValue(seed=seeds[7]), error_percentages['PhoneNumber'])],\n",
    "        \"HospitalType\": [ErrorModel(EAR(condition_to_column='State', seed=seeds[8]), error_type.Typo(seed=seeds[8]), error_percentages['HospitalType'])],\n",
    "        \"HospitalOwner\": [ErrorModel(EAR(condition_to_column='State', seed=seeds[9]), error_type.CategorySwap(seed=seeds[9]), error_percentages['HospitalOwner'])],\n",
    "        \"EmergencyService\": [ErrorModel(EAR(condition_to_column='State', seed=seeds[10]), error_type.CategorySwap(seed=seeds[10]), error_percentages['EmergencyService'])],\n",
    "        \"Condition\": [ErrorModel(EAR(condition_to_column='State', seed=seeds[11]), error_type.CategorySwap(seed=seeds[11]), error_percentages['Condition'])],\n",
    "        \"MeasureCode\": [ErrorModel(EAR(condition_to_column='State', seed=seeds[12]), error_type.CategorySwap(seed=seeds[12]), error_percentages['MeasureCode'])],\n",
    "        \"MeasureName\": [ErrorModel(EAR(condition_to_column='State', seed=seeds[13]), error_type.Typo(seed=seeds[13]), error_percentages['MeasureName'])],\n",
    "        \"Score\": [ErrorModel(EAR(condition_to_column='State', seed=seeds[14]), error_type.Typo(seed=seeds[14]), error_percentages['Score'])],\n",
    "        \"Sample\": [ErrorModel(EAR(condition_to_column='State', seed=seeds[15]), error_type.Typo(seed=seeds[15]), error_percentages['Sample'])],\n",
    "        \"Stateavg\": [ErrorModel(EAR(condition_to_column='State', seed=seeds[16]), error_type.MissingValue(seed=seeds[16]), error_percentages['Stateavg'])],\n",
    "    }\n",
    "\n",
    "    scenario = MidLevelConfig(mid_lvl_config)\n",
    "    df_corrupted, error_mask = mid_level.create_errors(df_clean, scenario)\n",
    "    df_corrupted.to_csv(f'../export_data/hospital/{scenario_name}_{i}.csv', index=False)"
   ]
  },
  {
   "cell_type": "code",
   "execution_count": 45,
   "id": "c49f7728",
   "metadata": {},
   "outputs": [
    {
     "name": "stdout",
     "output_type": "stream",
     "text": [
      "hospital_missing_ecar_0.csv deviates from intended error_pct by absolute 0.0%.\n",
      "hospital_missing_ecar_1.csv deviates from intended error_pct by absolute 0.0%.\n",
      "hospital_missing_ecar_2.csv deviates from intended error_pct by absolute 0.0%.\n",
      "hospital_missing_ecar_3.csv deviates from intended error_pct by absolute 0.0%.\n",
      "hospital_missing_ecar_4.csv deviates from intended error_pct by absolute 0.0%.\n",
      "hospital_missing_ecar_5.csv deviates from intended error_pct by absolute 0.0%.\n",
      "hospital_missing_ecar_6.csv deviates from intended error_pct by absolute 0.0%.\n",
      "hospital_missing_ecar_7.csv deviates from intended error_pct by absolute 0.0%.\n",
      "hospital_missing_ecar_8.csv deviates from intended error_pct by absolute 0.0%.\n",
      "hospital_missing_ecar_9.csv deviates from intended error_pct by absolute 0.0%.\n",
      "hospital_scenario_0.csv deviates from intended error_pct by absolute 0.19999999999999984%.\n",
      "hospital_scenario_1.csv deviates from intended error_pct by absolute 0.8999999999999999%.\n",
      "hospital_scenario_2.csv deviates from intended error_pct by absolute 0.5999999999999999%.\n",
      "hospital_scenario_3.csv deviates from intended error_pct by absolute 0.7%.\n",
      "hospital_scenario_4.csv deviates from intended error_pct by absolute 0.5000000000000001%.\n",
      "hospital_scenario_5.csv deviates from intended error_pct by absolute 0.7%.\n",
      "hospital_scenario_6.csv deviates from intended error_pct by absolute 0.3999999999999993%.\n",
      "hospital_scenario_7.csv deviates from intended error_pct by absolute 0.5999999999999999%.\n",
      "hospital_scenario_8.csv deviates from intended error_pct by absolute 0.4%.\n",
      "hospital_scenario_9.csv deviates from intended error_pct by absolute 1.0%.\n"
     ]
    }
   ],
   "source": [
    "for i in range(10):\n",
    "    verify_error_pct('../export_data/hospital/clean.csv', f'../export_data/hospital/hospital_missing_ecar_{i}.csv', error_percentages)\n",
    "for i in range(10):\n",
    "    verify_error_pct('../export_data/hospital/clean.csv', f'../export_data/hospital/hospital_scenario_{i}.csv', error_percentages)"
   ]
  }
 ],
 "metadata": {
  "kernelspec": {
   "display_name": "error-paper-mf3FH1nM-py3.10",
   "language": "python",
   "name": "python3"
  },
  "language_info": {
   "codemirror_mode": {
    "name": "ipython",
    "version": 3
   },
   "file_extension": ".py",
   "mimetype": "text/x-python",
   "name": "python",
   "nbconvert_exporter": "python",
   "pygments_lexer": "ipython3",
   "version": "3.10.12"
  }
 },
 "nbformat": 4,
 "nbformat_minor": 5
}
