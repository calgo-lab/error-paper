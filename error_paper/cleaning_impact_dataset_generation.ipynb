{
 "cells": [
  {
   "cell_type": "code",
   "execution_count": 1,
   "id": "89862937-b3e1-404d-8647-57003155fd6f",
   "metadata": {},
   "outputs": [],
   "source": [
    "%load_ext autoreload\n",
    "%autoreload 2"
   ]
  },
  {
   "cell_type": "code",
   "execution_count": 3,
   "id": "542be6a5-8dc4-4a92-9371-3d0bc289d395",
   "metadata": {},
   "outputs": [],
   "source": [
    "import numpy as np\n",
    "import pandas as pd\n",
    "from collections import Counter\n",
    "\n",
    "from utils import get_differences, read_csv_dataset, create_mcar"
   ]
  },
  {
   "cell_type": "code",
   "execution_count": 4,
   "id": "813e644c-95b3-410d-891b-41bab847e9a7",
   "metadata": {},
   "outputs": [],
   "source": [
    "from tab_err import ErrorModel, error_type\n",
    "from tab_err.error_mechanism import EAR, ENAR, ECAR\n",
    "from tab_err.error_type import ErrorTypeConfig\n",
    "from tab_err.api import mid_level, MidLevelConfig"
   ]
  },
  {
   "cell_type": "markdown",
   "id": "b3f7a7ed-3be6-417f-a412-57f4b6a3d078",
   "metadata": {},
   "source": [
    "## beers"
   ]
  },
  {
   "cell_type": "code",
   "execution_count": 5,
   "id": "9251a9d3-f62f-49f1-b805-19604e23e90d",
   "metadata": {},
   "outputs": [],
   "source": [
    "df_clean = read_csv_dataset('../data/beers/clean.csv')\n",
    "df_dirty = read_csv_dataset('../data/beers/dirty.csv')\n",
    "\n",
    "df_clean_str = df_clean.copy().astype(str)\n",
    "df_dirty_str = df_dirty.copy().astype(str)\n",
    "\n",
    "error_percentages = (df_dirty_str != df_clean_str).sum() / df_dirty_str.shape[0]\n",
    "\n",
    "create_mcar('beers', df_clean, error_percentages)"
   ]
  },
  {
   "cell_type": "markdown",
   "id": "c33bbe1e-fdfb-40d4-b4ca-15967ed72a07",
   "metadata": {},
   "source": [
    "## bridges"
   ]
  },
  {
   "cell_type": "code",
   "execution_count": 10,
   "id": "4e4f1868-0fe2-4b3b-9d9b-7fa9c7475c04",
   "metadata": {},
   "outputs": [
    {
     "name": "stdout",
     "output_type": "stream",
     "text": [
      "Saved MCAR dataset bridges iteration 0\n",
      "Saved MCAR dataset bridges iteration 1\n",
      "Saved MCAR dataset bridges iteration 2\n",
      "Saved MCAR dataset bridges iteration 3\n",
      "Saved MCAR dataset bridges iteration 4\n",
      "Saved MCAR dataset bridges iteration 5\n",
      "Saved MCAR dataset bridges iteration 6\n",
      "Saved MCAR dataset bridges iteration 7\n",
      "Saved MCAR dataset bridges iteration 8\n",
      "Saved MCAR dataset bridges iteration 9\n"
     ]
    }
   ],
   "source": [
    "df_clean = read_csv_dataset('../data/bridges/clean.csv')\n",
    "df_dirty = read_csv_dataset('../data/bridges/bridges_3_1.csv')\n",
    "\n",
    "df_clean_str = df_clean.copy().astype(str)\n",
    "df_dirty_str = df_dirty.copy().astype(str)\n",
    "\n",
    "error_percentages = (df_dirty_str != df_clean_str).sum() / df_dirty_str.shape[0]\n",
    "\n",
    "create_mcar('bridges', df_clean, error_percentages)"
   ]
  },
  {
   "cell_type": "markdown",
   "id": "99d3adae-e962-49e6-9586-17441e12b465",
   "metadata": {},
   "source": [
    "## cars"
   ]
  },
  {
   "cell_type": "code",
   "execution_count": 11,
   "id": "567730a6-af59-4708-9d45-ca674c0e8a11",
   "metadata": {},
   "outputs": [
    {
     "name": "stdout",
     "output_type": "stream",
     "text": [
      "Saved MCAR dataset cars iteration 0\n",
      "Saved MCAR dataset cars iteration 1\n",
      "Saved MCAR dataset cars iteration 2\n",
      "Saved MCAR dataset cars iteration 3\n",
      "Saved MCAR dataset cars iteration 4\n",
      "Saved MCAR dataset cars iteration 5\n",
      "Saved MCAR dataset cars iteration 6\n",
      "Saved MCAR dataset cars iteration 7\n",
      "Saved MCAR dataset cars iteration 8\n",
      "Saved MCAR dataset cars iteration 9\n"
     ]
    }
   ],
   "source": [
    "df_clean = read_csv_dataset('../data/cars/clean.csv')\n",
    "df_dirty = read_csv_dataset('../data/cars/cars_3_1.csv')\n",
    "\n",
    "df_clean_str = df_clean.copy().astype(str)\n",
    "df_dirty_str = df_dirty.copy().astype(str)\n",
    "\n",
    "error_percentages = (df_dirty_str != df_clean_str).sum() / df_dirty_str.shape[0]\n",
    "\n",
    "create_mcar('cars', df_clean, error_percentages)"
   ]
  },
  {
   "cell_type": "markdown",
   "id": "4ee1b0c2-4aaf-4ccd-bf08-bc255ac203b8",
   "metadata": {},
   "source": [
    "## flights"
   ]
  },
  {
   "cell_type": "code",
   "execution_count": 12,
   "id": "19734b08-00dc-40b9-b152-6b307e5d1547",
   "metadata": {},
   "outputs": [
    {
     "name": "stdout",
     "output_type": "stream",
     "text": [
      "Saved MCAR dataset flights iteration 0\n",
      "Saved MCAR dataset flights iteration 1\n",
      "Saved MCAR dataset flights iteration 2\n",
      "Saved MCAR dataset flights iteration 3\n",
      "Saved MCAR dataset flights iteration 4\n",
      "Saved MCAR dataset flights iteration 5\n",
      "Saved MCAR dataset flights iteration 6\n",
      "Saved MCAR dataset flights iteration 7\n",
      "Saved MCAR dataset flights iteration 8\n",
      "Saved MCAR dataset flights iteration 9\n"
     ]
    }
   ],
   "source": [
    "df_clean = read_csv_dataset('../data/flights/clean.csv')\n",
    "df_dirty = read_csv_dataset('../data/flights/dirty.csv')\n",
    "\n",
    "df_clean_str = df_clean.copy().astype(str)\n",
    "df_dirty_str = df_dirty.copy().astype(str)\n",
    "\n",
    "error_percentages = (df_dirty_str != df_clean_str).sum() / df_dirty_str.shape[0]\n",
    "\n",
    "create_mcar('flights', df_clean, error_percentages)"
   ]
  },
  {
   "cell_type": "markdown",
   "id": "7516c31f-3b45-46c8-89d7-1a0c07559ae6",
   "metadata": {},
   "source": [
    "## food"
   ]
  },
  {
   "cell_type": "code",
   "execution_count": 15,
   "id": "10f544ef-c3f3-4331-b24d-ce5ab6a2f044",
   "metadata": {},
   "outputs": [
    {
     "name": "stdout",
     "output_type": "stream",
     "text": [
      "Saved MCAR dataset food iteration 0\n",
      "Saved MCAR dataset food iteration 1\n",
      "Saved MCAR dataset food iteration 2\n",
      "Saved MCAR dataset food iteration 3\n",
      "Saved MCAR dataset food iteration 4\n",
      "Saved MCAR dataset food iteration 5\n",
      "Saved MCAR dataset food iteration 6\n",
      "Saved MCAR dataset food iteration 7\n",
      "Saved MCAR dataset food iteration 8\n",
      "Saved MCAR dataset food iteration 9\n"
     ]
    }
   ],
   "source": [
    "df_clean = read_csv_dataset('../data/food/clean.csv').iloc[:50000, :]\n",
    "df_dirty = read_csv_dataset('../data/food/dirty.csv').iloc[:50000, :]\n",
    "\n",
    "df_clean_str = df_clean.copy().astype(str)\n",
    "df_dirty_str = df_dirty.copy().astype(str)\n",
    "\n",
    "error_percentages = (df_dirty_str != df_clean_str).sum() / df_dirty_str.shape[0]\n",
    "\n",
    "create_mcar('food', df_clean, error_percentages)"
   ]
  },
  {
   "cell_type": "markdown",
   "id": "8d0d7e33-fef1-47de-bc19-79fe4f070076",
   "metadata": {},
   "source": [
    "## rayyan"
   ]
  },
  {
   "cell_type": "code",
   "execution_count": 16,
   "id": "cebbe5e7-8128-4762-8f68-3dfb8ca7b1e5",
   "metadata": {},
   "outputs": [
    {
     "name": "stdout",
     "output_type": "stream",
     "text": [
      "Saved MCAR dataset rayyan iteration 0\n",
      "Saved MCAR dataset rayyan iteration 1\n",
      "Saved MCAR dataset rayyan iteration 2\n",
      "Saved MCAR dataset rayyan iteration 3\n",
      "Saved MCAR dataset rayyan iteration 4\n",
      "Saved MCAR dataset rayyan iteration 5\n",
      "Saved MCAR dataset rayyan iteration 6\n",
      "Saved MCAR dataset rayyan iteration 7\n",
      "Saved MCAR dataset rayyan iteration 8\n",
      "Saved MCAR dataset rayyan iteration 9\n"
     ]
    }
   ],
   "source": [
    "df_clean = read_csv_dataset('../data/rayyan/clean.csv')\n",
    "df_dirty = read_csv_dataset('../data/rayyan/dirty.csv')\n",
    "\n",
    "df_clean_str = df_clean.copy().astype(str)\n",
    "df_dirty_str = df_dirty.copy().astype(str)\n",
    "\n",
    "error_percentages = (df_dirty_str != df_clean_str).sum() / df_dirty_str.shape[0]\n",
    "\n",
    "create_mcar('rayyan', df_clean, error_percentages)"
   ]
  },
  {
   "cell_type": "markdown",
   "id": "d69d3d2a-c848-4525-a795-3700d2049b25",
   "metadata": {},
   "source": [
    "## restaurant"
   ]
  },
  {
   "cell_type": "code",
   "execution_count": 17,
   "id": "c1c0dfb0-aacd-4d5d-9d7c-6c36633f3780",
   "metadata": {},
   "outputs": [
    {
     "name": "stdout",
     "output_type": "stream",
     "text": [
      "Saved MCAR dataset restaurant iteration 0\n",
      "Saved MCAR dataset restaurant iteration 1\n",
      "Saved MCAR dataset restaurant iteration 2\n",
      "Saved MCAR dataset restaurant iteration 3\n",
      "Saved MCAR dataset restaurant iteration 4\n",
      "Saved MCAR dataset restaurant iteration 5\n",
      "Saved MCAR dataset restaurant iteration 6\n",
      "Saved MCAR dataset restaurant iteration 7\n",
      "Saved MCAR dataset restaurant iteration 8\n",
      "Saved MCAR dataset restaurant iteration 9\n"
     ]
    }
   ],
   "source": [
    "df_clean = read_csv_dataset('../data/restaurant/clean.csv')\n",
    "df_dirty = read_csv_dataset('../data/restaurant/restaurant_3_1.csv')\n",
    "\n",
    "df_clean_str = df_clean.copy().astype(str)\n",
    "df_dirty_str = df_dirty.copy().astype(str)\n",
    "\n",
    "error_percentages = (df_dirty_str != df_clean_str).sum() / df_dirty_str.shape[0]\n",
    "\n",
    "create_mcar('restaurant', df_clean, error_percentages)"
   ]
  },
  {
   "cell_type": "markdown",
   "id": "8c629e17-15d5-44ac-82f7-a1515ab779bc",
   "metadata": {},
   "source": [
    "## tax"
   ]
  },
  {
   "cell_type": "code",
   "execution_count": 18,
   "id": "755a1934-1ae8-43c7-af0e-6510e98efded",
   "metadata": {},
   "outputs": [
    {
     "name": "stdout",
     "output_type": "stream",
     "text": [
      "Saved MCAR dataset tax iteration 0\n",
      "Saved MCAR dataset tax iteration 1\n",
      "Saved MCAR dataset tax iteration 2\n",
      "Saved MCAR dataset tax iteration 3\n",
      "Saved MCAR dataset tax iteration 4\n",
      "Saved MCAR dataset tax iteration 5\n",
      "Saved MCAR dataset tax iteration 6\n",
      "Saved MCAR dataset tax iteration 7\n",
      "Saved MCAR dataset tax iteration 8\n",
      "Saved MCAR dataset tax iteration 9\n"
     ]
    }
   ],
   "source": [
    "df_clean = read_csv_dataset('../data/tax/clean.csv')\n",
    "df_dirty = read_csv_dataset('../data/tax/dirty.csv')\n",
    "\n",
    "df_clean_str = df_clean.copy().astype(str)\n",
    "df_dirty_str = df_dirty.copy().astype(str)\n",
    "\n",
    "error_percentages = (df_dirty_str != df_clean_str).sum() / df_dirty_str.shape[0]\n",
    "\n",
    "create_mcar('tax', df_clean, error_percentages)"
   ]
  },
  {
   "cell_type": "code",
   "execution_count": null,
   "id": "8569a125-20e7-4a83-afba-b2e2ef1a1fe4",
   "metadata": {},
   "outputs": [],
   "source": []
  }
 ],
 "metadata": {
  "kernelspec": {
   "display_name": "Python 3 (ipykernel)",
   "language": "python",
   "name": "python3"
  },
  "language_info": {
   "codemirror_mode": {
    "name": "ipython",
    "version": 3
   },
   "file_extension": ".py",
   "mimetype": "text/x-python",
   "name": "python",
   "nbconvert_exporter": "python",
   "pygments_lexer": "ipython3",
   "version": "3.10.12"
  }
 },
 "nbformat": 4,
 "nbformat_minor": 5
}
