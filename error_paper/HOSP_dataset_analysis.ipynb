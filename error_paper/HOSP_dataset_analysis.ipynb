{
 "cells": [
  {
   "cell_type": "markdown",
   "id": "ea351fe7-3b15-4420-b864-b0310a03da5c",
   "metadata": {},
   "source": [
    "# Analysis"
   ]
  },
  {
   "cell_type": "markdown",
   "id": "5dea9452-c917-4b41-817b-bb2d9c60e784",
   "metadata": {},
   "source": [
    "I analyze the `HOSP` datasets in this notebook."
   ]
  },
  {
   "cell_type": "code",
   "execution_count": 1,
   "id": "6ef62aac-0c22-41b1-8f67-6b5b72a7233e",
   "metadata": {},
   "outputs": [],
   "source": [
    "import pandas as pd\n",
    "from collections import Counter\n",
    "\n",
    "from utils import get_differences"
   ]
  },
  {
   "cell_type": "markdown",
   "id": "486a37dd-ad26-42f2-b455-8ab64a1f417e",
   "metadata": {},
   "source": [
    "# Hospital"
   ]
  },
  {
   "cell_type": "code",
   "execution_count": 2,
   "id": "853aae38-fcd1-4bfe-8213-02154738fcd0",
   "metadata": {},
   "outputs": [],
   "source": [
    "df_clean = pd.read_csv('../data/hospital/clean.csv')\n",
    "df_dirty = pd.read_csv('../data/hospital/dirty.csv')"
   ]
  },
  {
   "cell_type": "code",
   "execution_count": 3,
   "id": "b3266523-a655-46c4-995d-92199f024315",
   "metadata": {},
   "outputs": [],
   "source": [
    "def find_replacement_rules(df, column):\n",
    "    # Initialize a Counter to store rules and their counts\n",
    "    replacement_rules = Counter()\n",
    "    \n",
    "    # Iterate over each row in the DataFrame\n",
    "    for _, row in df.iterrows():\n",
    "        clean = row[f'{column}_clean']\n",
    "        dirty = row[f'{column}_dirty']\n",
    "        \n",
    "        # Check character-by-character for differences\n",
    "        i = 0\n",
    "        while i <= len(clean):\n",
    "            if dirty[i] == 'x' and clean[i] != 'x':  # Found a character in clean replaced by 'x'\n",
    "                replacement_rules[clean[i]] += 1\n",
    "                i = len(clean)\n",
    "            i += 1\n",
    "    \n",
    "    return replacement_rules"
   ]
  },
  {
   "cell_type": "code",
   "execution_count": 4,
   "id": "503fc6a8-f83f-497d-9c67-1c752531cfa3",
   "metadata": {},
   "outputs": [
    {
     "data": {
      "text/plain": [
       "Index(['index', 'ProviderNumber', 'HospitalName', 'Address1', 'Address2',\n",
       "       'Address3', 'City', 'State', 'ZipCode', 'CountyName', 'PhoneNumber',\n",
       "       'HospitalType', 'HospitalOwner', 'EmergencyService', 'Condition',\n",
       "       'MeasureCode', 'MeasureName', 'Score', 'Sample', 'StateAverage'],\n",
       "      dtype='object')"
      ]
     },
     "execution_count": 4,
     "metadata": {},
     "output_type": "execute_result"
    }
   ],
   "source": [
    "df_clean.columns"
   ]
  },
  {
   "cell_type": "markdown",
   "id": "2dad3508-b039-40e2-b694-79f2caceb643",
   "metadata": {},
   "source": [
    "- `index`: error-free.\n",
    "- `ProviderNumber`: 28 errors, randomly replacing chars with `x` with frequencies, e.g.: `10115` becomes `101x5`.\n",
    "- `HospitalName`: 24 errors, randomly replacing chars with `x` with frequencies:\n",
    "    - `i`: 3\n",
    "    - `o`: 1\n",
    "    - `t`: 2\n",
    "    - `k`: 1\n",
    "    - `w`: 1\n",
    "    - `f`: 1\n",
    "    - `u`: 1\n",
    "    - `a`: 2\n",
    "    - `n`: 2\n",
    "    - `c`: 2\n",
    "    - `p`: 1\n",
    "    - `y`: 1\n",
    "    - `l`: 2\n",
    "    - `s`: 1\n",
    "    - `e`: 1\n",
    "    - `r`: 1\n",
    "    - `g`: 1\n",
    "- `Address1`: 31 errors, randomly replacing chars with `x` with frequencies:\n",
    "    - ` `: 11\n",
    "    - `n`: 2\n",
    "    - `t`: 3\n",
    "    - `h`: 1\n",
    "    - `i`: 2\n",
    "    - `4`: 1\n",
    "    - `r`: 1\n",
    "    - `e`: 2\n",
    "    - `o`: 2\n",
    "    - `2`: 1\n",
    "    - `8`: 1\n",
    "    - `1`: 1\n",
    "    - `d`: 1\n",
    "    - `a`: 1\n",
    "    - `b`: 1\n",
    "- `Address2`: error-free.\n",
    "- `Address3`: error-free.\n",
    "- `City`: 33 errors, randomly replacing chars with `x` with frequencies:\n",
    "    - 'e': 5,\n",
    "    - 'a': 4,\n",
    "    - 'i': 4,\n",
    "    - 'l': 3,\n",
    "    - 'n': 3,\n",
    "    - 'g': 3,\n",
    "    - 'o': 2,\n",
    "    - 'y': 2,\n",
    "    - 's': 2,\n",
    "    - 'h': 1,\n",
    "    - 'd': 1,\n",
    "    - 'k': 1,\n",
    "    - 't': 1,\n",
    "    - 'r': 1\n",
    "- `State`: 26 errors, randomly replacing chars with `x` with frequencies\n",
    "    - 'a': 16,\n",
    "    - 'l': 10\n",
    "- `ZipCode`: 30 errors, randomly replacing chars with `x` with frequencies\n",
    "    - {'3': 9, '5': 8, '6': 4, '1': 3, '0': 3, '7': 1, '4': 1, '2': 1}\n",
    "- `CountyName`: 39 errors, randomly replacing chars with `x` with frequencies\n",
    "    - 'e': 9,\n",
    "     't': 4,\n",
    "     'r': 3,\n",
    "     'o': 3,\n",
    "     'd': 3,\n",
    "     'u': 3,\n",
    "     'l': 3,\n",
    "     'a': 2,\n",
    "     'c': 2,\n",
    "     'f': 2,\n",
    "     'm': 2,\n",
    "     'j': 1,\n",
    "     'v': 1,\n",
    "     'n': 1\n",
    "- `PhoneNumber`: 34 errors, randomly replacing chars with `x` with frequencies\n",
    "    - '2': 7,\n",
    "         '1': 5,\n",
    "         '4': 5,\n",
    "         '3': 4,\n",
    "         '5': 3,\n",
    "         '0': 3,\n",
    "         '9': 2,\n",
    "         '6': 2,\n",
    "         '8': 2,\n",
    "         '7': 1\n",
    "- `HospitalType`: 32 errors, randomly replacing chars with `x` with frequencies\n",
    "    - 't': 8,\n",
    "         ' ': 7,\n",
    "         'p': 5,\n",
    "         'e': 2,\n",
    "         'l': 2,\n",
    "         'r': 2,\n",
    "         'c': 2,\n",
    "         'u': 1,\n",
    "         'o': 1,\n",
    "         'a': 1,\n",
    "         's': 1\n",
    "- `EmergencyService`: 27 errors, randomly replacing chars with `x` with frequencies\n",
    "- {'e': 11, 's': 9, 'y': 5, 'n': 2}\n",
    "\n",
    "**... and so on**. Rules can be read programmatically, the error type appears to be always the same."
   ]
  },
  {
   "cell_type": "code",
   "execution_count": 5,
   "id": "26fedc41-52ca-4538-96b4-1e09a43a8d9a",
   "metadata": {},
   "outputs": [
    {
     "data": {
      "text/plain": [
       "28"
      ]
     },
     "execution_count": 5,
     "metadata": {},
     "output_type": "execute_result"
    }
   ],
   "source": [
    "df_diff = get_differences(df_clean, df_dirty, 'ProviderNumber')\n",
    "df_diff_nona = df_diff[~df_diff['ProviderNumber_dirty'].isna()]\n",
    "len(df_diff[df_diff_nona['ProviderNumber_dirty'].str.contains('x')])"
   ]
  },
  {
   "cell_type": "code",
   "execution_count": 6,
   "id": "34cced88-abd3-4313-b71e-5bbbe8640de5",
   "metadata": {},
   "outputs": [
    {
     "data": {
      "text/plain": [
       "24"
      ]
     },
     "execution_count": 6,
     "metadata": {},
     "output_type": "execute_result"
    }
   ],
   "source": [
    "df_diff = get_differences(df_clean, df_dirty, 'HospitalName')\n",
    "df_diff_nona = df_diff[~df_diff['HospitalName_dirty'].isna()]\n",
    "len(df_diff)"
   ]
  },
  {
   "cell_type": "code",
   "execution_count": 7,
   "id": "0a1c4e80-4ddd-453b-9acb-2daa03f6ed07",
   "metadata": {},
   "outputs": [
    {
     "data": {
      "text/plain": [
       "31"
      ]
     },
     "execution_count": 7,
     "metadata": {},
     "output_type": "execute_result"
    }
   ],
   "source": [
    "df_diff = get_differences(df_clean, df_dirty, 'Address1')\n",
    "df_diff_nona = df_diff[~df_diff['Address1_dirty'].isna()]\n",
    "len(df_diff)"
   ]
  },
  {
   "cell_type": "code",
   "execution_count": 8,
   "id": "cf22d885-dfde-4615-81e0-1507d3385c51",
   "metadata": {
    "scrolled": true
   },
   "outputs": [
    {
     "data": {
      "text/plain": [
       "Counter({'e': 5,\n",
       "         'a': 4,\n",
       "         'i': 4,\n",
       "         'l': 3,\n",
       "         'n': 3,\n",
       "         'g': 3,\n",
       "         'o': 2,\n",
       "         'y': 2,\n",
       "         's': 2,\n",
       "         'h': 1,\n",
       "         'd': 1,\n",
       "         'k': 1,\n",
       "         't': 1,\n",
       "         'r': 1})"
      ]
     },
     "execution_count": 8,
     "metadata": {},
     "output_type": "execute_result"
    }
   ],
   "source": [
    "col = 'City'\n",
    "df_diff = get_differences(df_clean, df_dirty, col)\n",
    "df_diff_nona = df_diff[~df_diff[f'{col}_dirty'].isna()]\n",
    "find_replacement_rules(df_diff, col)"
   ]
  },
  {
   "cell_type": "code",
   "execution_count": 9,
   "id": "04f0e05d-7c52-43e5-a211-7890cb81d41f",
   "metadata": {},
   "outputs": [
    {
     "data": {
      "text/plain": [
       "Counter({'3': 9, '5': 8, '6': 4, '1': 3, '0': 3, '7': 1, '4': 1, '2': 1})"
      ]
     },
     "execution_count": 9,
     "metadata": {},
     "output_type": "execute_result"
    }
   ],
   "source": [
    "col = 'ZipCode'\n",
    "df_clean[col] = df_clean[col].astype('str')\n",
    "df_diff = get_differences(df_clean, df_dirty, col)\n",
    "find_replacement_rules(df_diff, col)"
   ]
  },
  {
   "cell_type": "code",
   "execution_count": 10,
   "id": "b6c1473c-ba4c-4d59-986f-e76178bd1772",
   "metadata": {},
   "outputs": [
    {
     "data": {
      "text/plain": [
       "39"
      ]
     },
     "execution_count": 10,
     "metadata": {},
     "output_type": "execute_result"
    }
   ],
   "source": [
    "col = 'CountyName'\n",
    "df_diff = get_differences(df_clean, df_dirty, col)\n",
    "find_replacement_rules(df_diff, col)\n",
    "len(df_diff)"
   ]
  },
  {
   "cell_type": "code",
   "execution_count": 11,
   "id": "ef624f56-2599-48f8-a32c-1fddbdd83f6a",
   "metadata": {},
   "outputs": [
    {
     "data": {
      "text/plain": [
       "34"
      ]
     },
     "execution_count": 11,
     "metadata": {},
     "output_type": "execute_result"
    }
   ],
   "source": [
    "col = 'PhoneNumber'\n",
    "df_clean[col] = df_clean[col].astype('str')\n",
    "df_diff = get_differences(df_clean, df_dirty, col)\n",
    "find_replacement_rules(df_diff, col)\n",
    "len(df_diff)"
   ]
  },
  {
   "cell_type": "code",
   "execution_count": 12,
   "id": "ab3eb463-866b-410c-8965-c48f5d953268",
   "metadata": {},
   "outputs": [
    {
     "data": {
      "text/plain": [
       "32"
      ]
     },
     "execution_count": 12,
     "metadata": {},
     "output_type": "execute_result"
    }
   ],
   "source": [
    "col = 'HospitalType'\n",
    "df_diff = get_differences(df_clean, df_dirty, col)\n",
    "find_replacement_rules(df_diff, col)\n",
    "len(df_diff)"
   ]
  },
  {
   "cell_type": "code",
   "execution_count": 13,
   "id": "25527056-d198-447b-bc57-b245325e5f51",
   "metadata": {},
   "outputs": [
    {
     "data": {
      "text/plain": [
       "27"
      ]
     },
     "execution_count": 13,
     "metadata": {},
     "output_type": "execute_result"
    }
   ],
   "source": [
    "col = 'EmergencyService'\n",
    "df_diff = get_differences(df_clean, df_dirty, col)\n",
    "find_replacement_rules(df_diff, col)\n",
    "len(df_diff)"
   ]
  },
  {
   "cell_type": "code",
   "execution_count": 14,
   "id": "3cc9947c-9a3f-4737-86ae-78dd19e4436d",
   "metadata": {},
   "outputs": [],
   "source": [
    "col = 'StateAverage'\n",
    "df_diff = get_differences(df_clean, df_dirty, col)\n"
   ]
  },
  {
   "cell_type": "code",
   "execution_count": 15,
   "id": "059e7238-9733-4949-8c93-a902b91225c1",
   "metadata": {},
   "outputs": [
    {
     "data": {
      "text/html": [
       "<div>\n",
       "<style scoped>\n",
       "    .dataframe tbody tr th:only-of-type {\n",
       "        vertical-align: middle;\n",
       "    }\n",
       "\n",
       "    .dataframe tbody tr th {\n",
       "        vertical-align: top;\n",
       "    }\n",
       "\n",
       "    .dataframe thead th {\n",
       "        text-align: right;\n",
       "    }\n",
       "</style>\n",
       "<table border=\"1\" class=\"dataframe\">\n",
       "  <thead>\n",
       "    <tr style=\"text-align: right;\">\n",
       "      <th></th>\n",
       "      <th>StateAverage_clean</th>\n",
       "      <th>StateAverage_dirty</th>\n",
       "    </tr>\n",
       "  </thead>\n",
       "  <tbody>\n",
       "    <tr>\n",
       "      <th>56</th>\n",
       "      <td>al_pn-3b</td>\n",
       "      <td>al_pn-xb</td>\n",
       "    </tr>\n",
       "    <tr>\n",
       "      <th>69</th>\n",
       "      <td>al_ami-1</td>\n",
       "      <td>al_amx-1</td>\n",
       "    </tr>\n",
       "    <tr>\n",
       "      <th>193</th>\n",
       "      <td>al_scip-vte-2</td>\n",
       "      <td>al_scix-vte-2</td>\n",
       "    </tr>\n",
       "    <tr>\n",
       "      <th>213</th>\n",
       "      <td>al_scip-inf-2</td>\n",
       "      <td>al_sxip-inf-2</td>\n",
       "    </tr>\n",
       "    <tr>\n",
       "      <th>244</th>\n",
       "      <td>al_ami-1</td>\n",
       "      <td>ax_ami-1</td>\n",
       "    </tr>\n",
       "    <tr>\n",
       "      <th>248</th>\n",
       "      <td>al_ami-5</td>\n",
       "      <td>xl_xmi-5</td>\n",
       "    </tr>\n",
       "    <tr>\n",
       "      <th>269</th>\n",
       "      <td>al_ami-1</td>\n",
       "      <td>al_axi-1</td>\n",
       "    </tr>\n",
       "    <tr>\n",
       "      <th>334</th>\n",
       "      <td>al_pn-2</td>\n",
       "      <td>al_pnx2</td>\n",
       "    </tr>\n",
       "    <tr>\n",
       "      <th>347</th>\n",
       "      <td>al_scip-vte-2</td>\n",
       "      <td>al_scipxvtex2</td>\n",
       "    </tr>\n",
       "    <tr>\n",
       "      <th>370</th>\n",
       "      <td>al_pn-7</td>\n",
       "      <td>alxpn-7</td>\n",
       "    </tr>\n",
       "    <tr>\n",
       "      <th>373</th>\n",
       "      <td>al_scip-inf-2</td>\n",
       "      <td>al_sxip-inf-2</td>\n",
       "    </tr>\n",
       "    <tr>\n",
       "      <th>387</th>\n",
       "      <td>al_hf-2</td>\n",
       "      <td>al_hx-2</td>\n",
       "    </tr>\n",
       "    <tr>\n",
       "      <th>477</th>\n",
       "      <td>al_pn-2</td>\n",
       "      <td>ax_pn-2</td>\n",
       "    </tr>\n",
       "    <tr>\n",
       "      <th>555</th>\n",
       "      <td>al_pn-5c</td>\n",
       "      <td>al_pn-5x</td>\n",
       "    </tr>\n",
       "    <tr>\n",
       "      <th>564</th>\n",
       "      <td>al_scip-vte-1</td>\n",
       "      <td>al_scipxvtex1</td>\n",
       "    </tr>\n",
       "    <tr>\n",
       "      <th>567</th>\n",
       "      <td>al_ami-2</td>\n",
       "      <td>xl_xmi-2</td>\n",
       "    </tr>\n",
       "    <tr>\n",
       "      <th>622</th>\n",
       "      <td>al_ami-8a</td>\n",
       "      <td>al_amix8a</td>\n",
       "    </tr>\n",
       "    <tr>\n",
       "      <th>646</th>\n",
       "      <td>al_ami-7a</td>\n",
       "      <td>alxami-7a</td>\n",
       "    </tr>\n",
       "    <tr>\n",
       "      <th>678</th>\n",
       "      <td>al_pn-3b</td>\n",
       "      <td>alxpn-3b</td>\n",
       "    </tr>\n",
       "    <tr>\n",
       "      <th>721</th>\n",
       "      <td>al_ami-7a</td>\n",
       "      <td>al_amx-7a</td>\n",
       "    </tr>\n",
       "    <tr>\n",
       "      <th>760</th>\n",
       "      <td>al_scip-inf-2</td>\n",
       "      <td>al_scipxinfx2</td>\n",
       "    </tr>\n",
       "    <tr>\n",
       "      <th>764</th>\n",
       "      <td>al_scip-vte-1</td>\n",
       "      <td>al_scix-vte-1</td>\n",
       "    </tr>\n",
       "    <tr>\n",
       "      <th>787</th>\n",
       "      <td>al_hf-4</td>\n",
       "      <td>al_hf-x</td>\n",
       "    </tr>\n",
       "    <tr>\n",
       "      <th>796</th>\n",
       "      <td>al_scip-inf-2</td>\n",
       "      <td>xl_scip-inf-2</td>\n",
       "    </tr>\n",
       "    <tr>\n",
       "      <th>827</th>\n",
       "      <td>al_ami-1</td>\n",
       "      <td>xl_xmi-1</td>\n",
       "    </tr>\n",
       "    <tr>\n",
       "      <th>842</th>\n",
       "      <td>al_pn-6</td>\n",
       "      <td>al_pnx6</td>\n",
       "    </tr>\n",
       "    <tr>\n",
       "      <th>920</th>\n",
       "      <td>al_pn-6</td>\n",
       "      <td>alxpn-6</td>\n",
       "    </tr>\n",
       "  </tbody>\n",
       "</table>\n",
       "</div>"
      ],
      "text/plain": [
       "    StateAverage_clean StateAverage_dirty\n",
       "56            al_pn-3b           al_pn-xb\n",
       "69            al_ami-1           al_amx-1\n",
       "193      al_scip-vte-2      al_scix-vte-2\n",
       "213      al_scip-inf-2      al_sxip-inf-2\n",
       "244           al_ami-1           ax_ami-1\n",
       "248           al_ami-5           xl_xmi-5\n",
       "269           al_ami-1           al_axi-1\n",
       "334            al_pn-2            al_pnx2\n",
       "347      al_scip-vte-2      al_scipxvtex2\n",
       "370            al_pn-7            alxpn-7\n",
       "373      al_scip-inf-2      al_sxip-inf-2\n",
       "387            al_hf-2            al_hx-2\n",
       "477            al_pn-2            ax_pn-2\n",
       "555           al_pn-5c           al_pn-5x\n",
       "564      al_scip-vte-1      al_scipxvtex1\n",
       "567           al_ami-2           xl_xmi-2\n",
       "622          al_ami-8a          al_amix8a\n",
       "646          al_ami-7a          alxami-7a\n",
       "678           al_pn-3b           alxpn-3b\n",
       "721          al_ami-7a          al_amx-7a\n",
       "760      al_scip-inf-2      al_scipxinfx2\n",
       "764      al_scip-vte-1      al_scix-vte-1\n",
       "787            al_hf-4            al_hf-x\n",
       "796      al_scip-inf-2      xl_scip-inf-2\n",
       "827           al_ami-1           xl_xmi-1\n",
       "842            al_pn-6            al_pnx6\n",
       "920            al_pn-6            alxpn-6"
      ]
     },
     "execution_count": 15,
     "metadata": {},
     "output_type": "execute_result"
    }
   ],
   "source": [
    "df_diff"
   ]
  }
 ],
 "metadata": {
  "kernelspec": {
   "display_name": "Python 3 (ipykernel)",
   "language": "python",
   "name": "python3"
  },
  "language_info": {
   "codemirror_mode": {
    "name": "ipython",
    "version": 3
   },
   "file_extension": ".py",
   "mimetype": "text/x-python",
   "name": "python",
   "nbconvert_exporter": "python",
   "pygments_lexer": "ipython3",
   "version": "3.9.20"
  }
 },
 "nbformat": 4,
 "nbformat_minor": 5
}
