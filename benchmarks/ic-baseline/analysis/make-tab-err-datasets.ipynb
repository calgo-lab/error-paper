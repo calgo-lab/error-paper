{
 "cells": [
  {
   "cell_type": "markdown",
   "id": "b12fefc6",
   "metadata": {},
   "source": [
    "This notebook generates the perturbed datasets from clean hosp\n",
    "\n",
    "The outputs will be the three datasets:\n",
    "- ../output/ecar_typo_hosp_tab_err\n",
    "- ../output/enar_typo_hosp_tab_err\n",
    "- ../output/ear_typo_hosp_tab_err\n",
    "\n",
    "The error rate matches the BART error rate of 0.172 -- could change...\n",
    "\n",
    "Typo is similar to the add 3 *s from BART's \"dirty strategies\""
   ]
  },
  {
   "cell_type": "code",
   "execution_count": 6,
   "id": "4cc1ba17",
   "metadata": {},
   "outputs": [],
   "source": [
    "import pandas as pd\n",
    "\n",
    "from tab_err import error_type\n",
    "from tab_err import error_mechanism\n",
    "\n",
    "from tab_err.api import high_level"
   ]
  },
  {
   "cell_type": "markdown",
   "id": "8b210cf4",
   "metadata": {},
   "source": [
    "General Setup"
   ]
  },
  {
   "cell_type": "code",
   "execution_count": 7,
   "id": "9c10886f",
   "metadata": {},
   "outputs": [],
   "source": [
    "clean_df = pd.read_csv(\"../../../data/hospital/clean.csv\").astype(str)\n",
    "\n",
    "seed = 1234\n",
    "\n",
    "error_rate = 0.172\n",
    "\n",
    "error_types_to_include = [error_type.Typo()]"
   ]
  },
  {
   "cell_type": "markdown",
   "id": "eb01164c",
   "metadata": {},
   "source": [
    "ECAR"
   ]
  },
  {
   "cell_type": "code",
   "execution_count": 8,
   "id": "d020c4df",
   "metadata": {},
   "outputs": [],
   "source": [
    "error_mechanisms_to_exclude=[error_mechanism.EAR(), error_mechanism.ENAR()]\n",
    "\n",
    "ecar_df, _ = high_level.create_errors(\n",
    "    clean_df,\n",
    "    error_rate=error_rate,\n",
    "    error_types_to_include=error_types_to_include,\n",
    "    error_mechanisms_to_exclude=error_mechanisms_to_exclude,\n",
    "    seed=seed\n",
    ")\n",
    "\n",
    "ecar_df.to_csv(\"../output/ecar_typo_hosp_tab_err\")"
   ]
  },
  {
   "cell_type": "markdown",
   "id": "fa4ea4b4",
   "metadata": {},
   "source": [
    "ENAR"
   ]
  },
  {
   "cell_type": "code",
   "execution_count": 9,
   "id": "87e1c85f",
   "metadata": {},
   "outputs": [],
   "source": [
    "error_mechanisms_to_exclude=[error_mechanism.EAR(), error_mechanism.ECAR()]\n",
    "\n",
    "enar_df, _ = high_level.create_errors(\n",
    "    clean_df,\n",
    "    error_rate=error_rate,\n",
    "    error_types_to_include=error_types_to_include,\n",
    "    error_mechanisms_to_exclude=error_mechanisms_to_exclude,\n",
    "    seed=seed\n",
    ")\n",
    "\n",
    "enar_df.to_csv(\"../output/enar_typo_hosp_tab_err\")"
   ]
  },
  {
   "cell_type": "markdown",
   "id": "229ad27e",
   "metadata": {},
   "source": [
    "EAR"
   ]
  },
  {
   "cell_type": "code",
   "execution_count": 10,
   "id": "fe2542a9",
   "metadata": {},
   "outputs": [],
   "source": [
    "error_mechanisms_to_exclude=[error_mechanism.ECAR(), error_mechanism.ENAR()]\n",
    "\n",
    "ear_df, _ = high_level.create_errors(\n",
    "    clean_df,\n",
    "    error_rate=error_rate,\n",
    "    error_types_to_include=error_types_to_include,\n",
    "    error_mechanisms_to_exclude=error_mechanisms_to_exclude,\n",
    "    seed=seed\n",
    ")\n",
    "\n",
    "ear_df.to_csv(\"../output/ear_typo_hosp_tab_err\")"
   ]
  }
 ],
 "metadata": {
  "kernelspec": {
   "display_name": "error-paper-MYaTkgjI-py3.10",
   "language": "python",
   "name": "python3"
  },
  "language_info": {
   "codemirror_mode": {
    "name": "ipython",
    "version": 3
   },
   "file_extension": ".py",
   "mimetype": "text/x-python",
   "name": "python",
   "nbconvert_exporter": "python",
   "pygments_lexer": "ipython3",
   "version": "3.10.12"
  }
 },
 "nbformat": 4,
 "nbformat_minor": 5
}
