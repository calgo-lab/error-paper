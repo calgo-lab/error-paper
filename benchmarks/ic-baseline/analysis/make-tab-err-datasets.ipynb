{
 "cells": [
  {
   "cell_type": "markdown",
   "id": "b12fefc6",
   "metadata": {},
   "source": [
    "This notebook generates the perturbed datasets from clean hosp\n",
    "\n",
    "The outputs will be the three datasets:\n",
    "- ../output/ecar_typo_hosp_tab_err.csv\n",
    "- ../output/enar_typo_hosp_tab_err.csv\n",
    "- ../output/ear_typo_hosp_tab_err.csv\n",
    "\n",
    "The error rate matches the BART error rate of 0.172 -- could change...\n",
    "\n",
    "Typo is similar to the add 3 *s from BART's \"dirty strategies\""
   ]
  },
  {
   "cell_type": "code",
   "execution_count": 20,
   "id": "4cc1ba17",
   "metadata": {},
   "outputs": [],
   "source": [
    "import pandas as pd\n",
    "\n",
    "from tab_err import error_type\n",
    "from tab_err import error_mechanism\n",
    "\n",
    "from tab_err.api import high_level"
   ]
  },
  {
   "cell_type": "markdown",
   "id": "8b210cf4",
   "metadata": {},
   "source": [
    "General Setup"
   ]
  },
  {
   "cell_type": "code",
   "execution_count": 21,
   "id": "9c10886f",
   "metadata": {},
   "outputs": [],
   "source": [
    "clean_df = pd.read_csv(\"../../../data/hospital/clean.csv\")\n",
    "\n",
    "# Convert all columns except the first by name\n",
    "cols_to_convert = clean_df.columns[1:]\n",
    "clean_df[cols_to_convert] = clean_df[cols_to_convert].astype(str)\n",
    "\n",
    "seed = 1234\n",
    "\n",
    "error_rate = 0.18  # Adjust as necessary\n",
    "\n",
    "error_types_to_include = [error_type.Typo()]"
   ]
  },
  {
   "cell_type": "markdown",
   "id": "eb01164c",
   "metadata": {},
   "source": [
    "ECAR"
   ]
  },
  {
   "cell_type": "code",
   "execution_count": 22,
   "id": "d020c4df",
   "metadata": {},
   "outputs": [
    {
     "name": "stdout",
     "output_type": "stream",
     "text": [
      "Actual error rate: 0.171\n"
     ]
    },
    {
     "name": "stderr",
     "output_type": "stream",
     "text": [
      "/home/chandlernick/.cache/pypoetry/virtualenvs/error-paper-MYaTkgjI-py3.10/lib/python3.10/site-packages/tab_err/api/high_level.py:224: UserWarning: The column index has no valid error models. 0 errors will be introduced to this column\n",
      "  col_num_models = _build_column_number_of_models_dictionary(data=data, column_types=col_type, column_mechanisms=col_mechanisms)\n"
     ]
    }
   ],
   "source": [
    "error_mechanisms_to_exclude=[error_mechanism.EAR(), error_mechanism.ENAR()]\n",
    "\n",
    "ecar_df, m = high_level.create_errors(\n",
    "    clean_df,\n",
    "    error_rate=error_rate,\n",
    "    error_types_to_include=error_types_to_include,\n",
    "    error_mechanisms_to_exclude=error_mechanisms_to_exclude,\n",
    "    seed=seed\n",
    ")\n",
    "\n",
    "print(f\"Actual error rate: {m.mean(axis=None)}\")\n",
    "\n",
    "ecar_df.to_csv(\"../output/ecar_typo_hosp_tab_err.csv\")\n",
    "m.to_csv(\"../output/ecar_typo_mask.csv\")"
   ]
  },
  {
   "cell_type": "markdown",
   "id": "fa4ea4b4",
   "metadata": {},
   "source": [
    "ENAR"
   ]
  },
  {
   "cell_type": "code",
   "execution_count": 23,
   "id": "87e1c85f",
   "metadata": {},
   "outputs": [
    {
     "name": "stdout",
     "output_type": "stream",
     "text": [
      "Actual error rate: 0.171\n"
     ]
    },
    {
     "name": "stderr",
     "output_type": "stream",
     "text": [
      "/home/chandlernick/.cache/pypoetry/virtualenvs/error-paper-MYaTkgjI-py3.10/lib/python3.10/site-packages/tab_err/api/high_level.py:224: UserWarning: The column index has no valid error models. 0 errors will be introduced to this column\n",
      "  col_num_models = _build_column_number_of_models_dictionary(data=data, column_types=col_type, column_mechanisms=col_mechanisms)\n"
     ]
    }
   ],
   "source": [
    "error_mechanisms_to_exclude=[error_mechanism.EAR(), error_mechanism.ECAR()]\n",
    "\n",
    "enar_df, m = high_level.create_errors(\n",
    "    clean_df,\n",
    "    error_rate=error_rate,\n",
    "    error_types_to_include=error_types_to_include,\n",
    "    error_mechanisms_to_exclude=error_mechanisms_to_exclude,\n",
    "    seed=seed\n",
    ")\n",
    "\n",
    "print(f\"Actual error rate: {m.mean(axis=None)}\")\n",
    "\n",
    "enar_df.to_csv(\"../output/enar_typo_hosp_tab_err.csv\")\n",
    "m.to_csv(\"../output/enar_typo_mask.csv\")"
   ]
  },
  {
   "cell_type": "markdown",
   "id": "229ad27e",
   "metadata": {},
   "source": [
    "EAR"
   ]
  },
  {
   "cell_type": "code",
   "execution_count": 24,
   "id": "fe2542a9",
   "metadata": {},
   "outputs": [
    {
     "name": "stderr",
     "output_type": "stream",
     "text": [
      "/home/chandlernick/.cache/pypoetry/virtualenvs/error-paper-MYaTkgjI-py3.10/lib/python3.10/site-packages/tab_err/api/high_level.py:224: UserWarning: The column index has no valid error models. 0 errors will be introduced to this column\n",
      "  col_num_models = _build_column_number_of_models_dictionary(data=data, column_types=col_type, column_mechanisms=col_mechanisms)\n"
     ]
    },
    {
     "name": "stdout",
     "output_type": "stream",
     "text": [
      "Actual error rate: 0.171\n"
     ]
    }
   ],
   "source": [
    "error_mechanisms_to_exclude=[error_mechanism.ECAR(), error_mechanism.ENAR()]\n",
    "\n",
    "ear_df, m = high_level.create_errors(\n",
    "    clean_df,\n",
    "    error_rate=error_rate,\n",
    "    error_types_to_include=error_types_to_include,\n",
    "    error_mechanisms_to_exclude=error_mechanisms_to_exclude,\n",
    "    seed=seed\n",
    ")\n",
    "\n",
    "print(f\"Actual error rate: {m.mean(axis=None)}\")\n",
    "\n",
    "ear_df.to_csv(\"../output/ear_typo_hosp_tab_err.csv\")\n",
    "m.to_csv(\"../output/ear_typo_mask.csv\")"
   ]
  },
  {
   "cell_type": "markdown",
   "id": "83cef16f",
   "metadata": {},
   "source": [
    "ECAR with midlevel config\n",
    "\n",
    "BART run 1 error proportions\n",
    "index               0.000\n",
    "providernumber      0.000\n",
    "hospitalname        0.188\n",
    "address1            0.275\n",
    "address2            0.000\n",
    "address3            0.000\n",
    "city                0.311\n",
    "state               0.759\n",
    "zipcode             0.103\n",
    "countyname          0.529\n",
    "phonenumber         0.201\n",
    "hospitaltype        0.000\n",
    "hospitalowner       0.112\n",
    "emergencyservice    0.640\n",
    "condition           0.300\n",
    "measurecode         0.030\n",
    "measurename         0.100\n",
    "score               0.000\n",
    "sample              0.000\n",
    "stateaverage        0.069"
   ]
  },
  {
   "cell_type": "code",
   "execution_count": 25,
   "id": "718f7a10",
   "metadata": {},
   "outputs": [
    {
     "data": {
      "text/html": [
       "<div>\n",
       "<style scoped>\n",
       "    .dataframe tbody tr th:only-of-type {\n",
       "        vertical-align: middle;\n",
       "    }\n",
       "\n",
       "    .dataframe tbody tr th {\n",
       "        vertical-align: top;\n",
       "    }\n",
       "\n",
       "    .dataframe thead th {\n",
       "        text-align: right;\n",
       "    }\n",
       "</style>\n",
       "<table border=\"1\" class=\"dataframe\">\n",
       "  <thead>\n",
       "    <tr style=\"text-align: right;\">\n",
       "      <th></th>\n",
       "      <th>index</th>\n",
       "      <th>ProviderNumber</th>\n",
       "      <th>HospitalName</th>\n",
       "      <th>Address1</th>\n",
       "      <th>Address2</th>\n",
       "      <th>Address3</th>\n",
       "      <th>City</th>\n",
       "      <th>State</th>\n",
       "      <th>ZipCode</th>\n",
       "      <th>CountyName</th>\n",
       "      <th>PhoneNumber</th>\n",
       "      <th>HospitalType</th>\n",
       "      <th>HospitalOwner</th>\n",
       "      <th>EmergencyService</th>\n",
       "      <th>Condition</th>\n",
       "      <th>MeasureCode</th>\n",
       "      <th>MeasureName</th>\n",
       "      <th>Score</th>\n",
       "      <th>Sample</th>\n",
       "      <th>StateAverage</th>\n",
       "    </tr>\n",
       "  </thead>\n",
       "  <tbody>\n",
       "    <tr>\n",
       "      <th>0</th>\n",
       "      <td>1</td>\n",
       "      <td>10018</td>\n",
       "      <td>callahan eye foundation hospital</td>\n",
       "      <td>1720 university blvd</td>\n",
       "      <td>empty</td>\n",
       "      <td>empty</td>\n",
       "      <td>birmingham</td>\n",
       "      <td>al</td>\n",
       "      <td>35233</td>\n",
       "      <td>jefferson</td>\n",
       "      <td>2053258100</td>\n",
       "      <td>acute care hospitals</td>\n",
       "      <td>voluntary non-profit - private</td>\n",
       "      <td>yes</td>\n",
       "      <td>surgical infection prevention</td>\n",
       "      <td>scip-card-2</td>\n",
       "      <td>surgery patients who were taking heart drugs c...</td>\n",
       "      <td>empty</td>\n",
       "      <td>empty</td>\n",
       "      <td>al_scip-card-2</td>\n",
       "    </tr>\n",
       "    <tr>\n",
       "      <th>1</th>\n",
       "      <td>2</td>\n",
       "      <td>10018</td>\n",
       "      <td>callahan eye foundation hospital</td>\n",
       "      <td>1720 university blvd</td>\n",
       "      <td>empty</td>\n",
       "      <td>empty</td>\n",
       "      <td>birmingham</td>\n",
       "      <td>al</td>\n",
       "      <td>35233</td>\n",
       "      <td>jefferson</td>\n",
       "      <td>2053258100</td>\n",
       "      <td>acute care hospitals</td>\n",
       "      <td>voluntary non-profit - private</td>\n",
       "      <td>yes</td>\n",
       "      <td>surgical infection prevention</td>\n",
       "      <td>scip-inf-1</td>\n",
       "      <td>surgery patients who were given an antibiotic ...</td>\n",
       "      <td>empty</td>\n",
       "      <td>empty</td>\n",
       "      <td>al_scip-inf-1</td>\n",
       "    </tr>\n",
       "  </tbody>\n",
       "</table>\n",
       "</div>"
      ],
      "text/plain": [
       "   index ProviderNumber  ... Sample    StateAverage\n",
       "0      1          10018  ...  empty  al_scip-card-2\n",
       "1      2          10018  ...  empty   al_scip-inf-1\n",
       "\n",
       "[2 rows x 20 columns]"
      ]
     },
     "execution_count": 25,
     "metadata": {},
     "output_type": "execute_result"
    }
   ],
   "source": [
    "clean_df.head(2)"
   ]
  },
  {
   "cell_type": "code",
   "execution_count": 26,
   "id": "7062e449",
   "metadata": {},
   "outputs": [
    {
     "name": "stdout",
     "output_type": "stream",
     "text": [
      "Actual error rate: 0.18085\n"
     ]
    }
   ],
   "source": [
    "from tab_err import ErrorModel, error_mechanism, error_type\n",
    "from tab_err.api import MidLevelConfig, mid_level\n",
    "\n",
    "config = MidLevelConfig(\n",
    "    {\n",
    "        \"HospitalName\":[\n",
    "            ErrorModel(\n",
    "                error_mechanism=error_mechanism.ECAR(),\n",
    "                error_type=error_type.Typo(),\n",
    "                error_rate=0.188\n",
    "            )\n",
    "        ],\n",
    "        \"Address1\":[\n",
    "            ErrorModel(\n",
    "                error_mechanism=error_mechanism.ECAR(),\n",
    "                error_type=error_type.Typo(),\n",
    "                error_rate=0.275\n",
    "            )\n",
    "        ],\n",
    "        \"City\":[\n",
    "            ErrorModel(\n",
    "                error_mechanism=error_mechanism.ECAR(),\n",
    "                error_type=error_type.Typo(),\n",
    "                error_rate=0.311\n",
    "            )\n",
    "        ],\n",
    "        \"State\":[\n",
    "            ErrorModel(\n",
    "                error_mechanism=error_mechanism.ECAR(),\n",
    "                error_type=error_type.Typo(),\n",
    "                error_rate=0.759\n",
    "            )\n",
    "        ],\n",
    "        \"ZipCode\":[\n",
    "            ErrorModel(\n",
    "                error_mechanism=error_mechanism.ECAR(),\n",
    "                error_type=error_type.Typo(),\n",
    "                error_rate=0.103\n",
    "            )\n",
    "        ],\n",
    "        \"CountyName\":[\n",
    "            ErrorModel(\n",
    "                error_mechanism=error_mechanism.ECAR(),\n",
    "                error_type=error_type.Typo(),\n",
    "                error_rate=0.529\n",
    "            )\n",
    "        ],\n",
    "        \"PhoneNumber\":[\n",
    "            ErrorModel(\n",
    "                error_mechanism=error_mechanism.ECAR(),\n",
    "                error_type=error_type.Typo(),\n",
    "                error_rate=0.201\n",
    "            )\n",
    "        ],\n",
    "        \"HospitalOwner\":[\n",
    "            ErrorModel(\n",
    "                error_mechanism=error_mechanism.ECAR(),\n",
    "                error_type=error_type.Typo(),\n",
    "                error_rate=0.112\n",
    "            )\n",
    "        ],\n",
    "        \"EmergencyService\":[\n",
    "            ErrorModel(\n",
    "                error_mechanism=error_mechanism.ECAR(),\n",
    "                error_type=error_type.Typo(),\n",
    "                error_rate=0.640\n",
    "            )\n",
    "        ],\n",
    "        \"Condition\":[\n",
    "            ErrorModel(\n",
    "                error_mechanism=error_mechanism.ECAR(),\n",
    "                error_type=error_type.Typo(),\n",
    "                error_rate=0.300\n",
    "            )\n",
    "        ],\n",
    "        \"MeasureCode\":[\n",
    "            ErrorModel(\n",
    "                error_mechanism=error_mechanism.ECAR(),\n",
    "                error_type=error_type.Typo(),\n",
    "                error_rate=0.030\n",
    "            )\n",
    "        ],\n",
    "        \"MeasureName\":[\n",
    "            ErrorModel(\n",
    "                error_mechanism=error_mechanism.ECAR(),\n",
    "                error_type=error_type.Typo(),\n",
    "                error_rate=0.100\n",
    "            )\n",
    "        ],\n",
    "        \"StateAverage\":[\n",
    "            ErrorModel(\n",
    "                error_mechanism=error_mechanism.ECAR(),\n",
    "                error_type=error_type.Typo(),\n",
    "                error_rate=0.069\n",
    "            )\n",
    "        ]\n",
    "    }\n",
    ")\n",
    "\n",
    "corrupted_data, m = mid_level.create_errors(data=clean_df, config=config)\n",
    "\n",
    "print(f\"Actual error rate: {m.mean(axis=None)}\")\n",
    "\n",
    "corrupted_data.to_csv(\"../output/mid_level_HOSP.csv\")\n",
    "m.to_csv(\"../output/mid_level_HOSP_mask.csv\")"
   ]
  }
 ],
 "metadata": {
  "kernelspec": {
   "display_name": "error-paper-MYaTkgjI-py3.10",
   "language": "python",
   "name": "python3"
  },
  "language_info": {
   "codemirror_mode": {
    "name": "ipython",
    "version": 3
   },
   "file_extension": ".py",
   "mimetype": "text/x-python",
   "name": "python",
   "nbconvert_exporter": "python",
   "pygments_lexer": "ipython3",
   "version": "3.10.12"
  }
 },
 "nbformat": 4,
 "nbformat_minor": 5
}
