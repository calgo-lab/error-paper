{
 "cells": [
  {
   "cell_type": "markdown",
   "id": "9f7fe203",
   "metadata": {},
   "source": [
    "This notebook compares the BART errored data and that errored by tab-err\n",
    "\n",
    "All data comes from clean HOSP"
   ]
  },
  {
   "cell_type": "code",
   "execution_count": 1,
   "id": "07428acd",
   "metadata": {},
   "outputs": [],
   "source": [
    "import pandas as pd"
   ]
  },
  {
   "cell_type": "code",
   "execution_count": null,
   "id": "1604793b",
   "metadata": {},
   "outputs": [
    {
     "name": "stdout",
     "output_type": "stream",
     "text": [
      "Number of cells with exactly 3 '*' characters: 172\n"
     ]
    }
   ],
   "source": [
    "# Count errors in BART dataset\n",
    "\n",
    "# Load your CSV\n",
    "bart_df = pd.read_csv(\"../output/dirty_person.csv\")\n",
    "\n",
    "# Function to count cells with exactly 3 asterisks\n",
    "def count_three_asterisks(cell):\n",
    "    cell_str = str(cell)  # Convert everything to string\n",
    "    return 1 if cell_str.count('*') == 3 else 0\n",
    "\n",
    "# Apply function to all cells\n",
    "bart_error_count = bart_df.stack().map(lambda x: str(x).count('*') == 3).sum()\n",
    "\n",
    "print(f\"Number of cells with exactly 3 '*' characters: {bart_error_count}\")\n",
    "\n",
    "# 172 errors ~ 17.2% error rate"
   ]
  }
 ],
 "metadata": {
  "kernelspec": {
   "display_name": "error-paper-MYaTkgjI-py3.10",
   "language": "python",
   "name": "python3"
  },
  "language_info": {
   "codemirror_mode": {
    "name": "ipython",
    "version": 3
   },
   "file_extension": ".py",
   "mimetype": "text/x-python",
   "name": "python",
   "nbconvert_exporter": "python",
   "pygments_lexer": "ipython3",
   "version": "3.10.12"
  }
 },
 "nbformat": 4,
 "nbformat_minor": 5
}
