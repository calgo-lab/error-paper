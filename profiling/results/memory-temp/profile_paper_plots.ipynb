{
 "cells": [
  {
   "cell_type": "markdown",
   "id": "d6dc2587",
   "metadata": {},
   "source": [
    "# Memory Profiling plots\n",
    "\n",
    "We plot the runtime and memory allocation as a function of the number of rows in the dataframe used in tab_err\n",
    "\n",
    "We look at the following error types for numeric and string data:\n",
    "\n",
    "- Numeric: MissingValue (numeric), AddDelta\n",
    "\n",
    "- String: MissingValue (string), Typo\n"
   ]
  },
  {
   "cell_type": "markdown",
   "id": "44eaf72b",
   "metadata": {},
   "source": [
    "## Read in data"
   ]
  },
  {
   "cell_type": "code",
   "execution_count": null,
   "id": "9d9bab06",
   "metadata": {},
   "outputs": [],
   "source": [
    "import pandas as pd\n",
    "import json\n",
    "import seaborn as sns"
   ]
  },
  {
   "cell_type": "markdown",
   "id": "118a4cd9",
   "metadata": {},
   "source": [
    "### Read in memory"
   ]
  },
  {
   "cell_type": "code",
   "execution_count": null,
   "id": "dc07d283",
   "metadata": {},
   "outputs": [],
   "source": []
  },
  {
   "cell_type": "markdown",
   "id": "c1c23971",
   "metadata": {},
   "source": [
    "### Read in time"
   ]
  },
  {
   "cell_type": "code",
   "execution_count": null,
   "id": "fd009e09",
   "metadata": {},
   "outputs": [],
   "source": []
  }
 ],
 "metadata": {
  "kernelspec": {
   "display_name": "general",
   "language": "python",
   "name": "python3"
  },
  "language_info": {
   "name": "python",
   "version": "3.10.16"
  }
 },
 "nbformat": 4,
 "nbformat_minor": 5
}
