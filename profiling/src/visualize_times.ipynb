{
 "cells": [
  {
   "cell_type": "markdown",
   "id": "652d484d",
   "metadata": {},
   "source": [
    "# Visualization of time/space complexity of `tab_err`\n",
    "\n",
    "This notebook visualizes the runtime and memory usage of various error models in the tab err library\n"
   ]
  },
  {
   "cell_type": "code",
   "execution_count": 5,
   "id": "477817ac",
   "metadata": {},
   "outputs": [],
   "source": [
    "# Imports\n",
    "import pandas as pd\n",
    "import numpy as np\n",
    "import matplotlib.pyplot as plt\n",
    "from matplotlib import cm\n",
    "import re\n",
    "import os"
   ]
  },
  {
   "cell_type": "code",
   "execution_count": null,
   "id": "839bd0f0",
   "metadata": {},
   "outputs": [],
   "source": [
    "# Read in data\n",
    "num_path = \"../results/numeric_times_new.csv\"  # change this if you want to use the old data -- remove \"_new\"\n",
    "num_data = pd.read_csv(num_path)\n",
    "\n",
    "str_path = \"../results/string_times_new.csv\"  # change this if you want to use the old data -- remove \"_new\"\n",
    "str_data = pd.read_csv(str_path)"
   ]
  },
  {
   "cell_type": "code",
   "execution_count": 7,
   "id": "b6c5b2e5",
   "metadata": {},
   "outputs": [],
   "source": [
    "def plot_timing_by_model(df: pd.DataFrame, out_dir: str = \"../plots\", use_median: bool = False):\n",
    "    \"\"\"\n",
    "    Plots execution time vs. number of rows for each unique error model descriptor.\n",
    "\n",
    "    Args:\n",
    "        df (pd.DataFrame): A DataFrame where each column represents timing results\n",
    "            for a unique (error_mechanism-error_type-error_rate-n_rows) combination.\n",
    "    \"\"\"\n",
    "    \n",
    "    # Parse and group by base descriptor\n",
    "    pattern = re.compile(r\"(.+)-(\\d+)-(\\d+)(?:-mem_MB)?$\")\n",
    "    groups = {}\n",
    "    \n",
    "    for col in df.columns:\n",
    "        match = pattern.match(col)\n",
    "        if not match:\n",
    "            continue\n",
    "        base_desc, n_rows, n_col = match.groups()\n",
    "        is_mem = col.endswith(\"-mem_MB\")\n",
    "        \n",
    "        key = base_desc\n",
    "        if key not in groups:\n",
    "            groups[key] = {\"time\": [], \"memory\": []}\n",
    "        \n",
    "        entry = (int(n_rows), int(n_col), col)\n",
    "        \n",
    "        if is_mem:\n",
    "            groups[key][\"memory\"].append(entry)\n",
    "        else:\n",
    "            groups[key][\"time\"].append(entry)\n",
    "\n",
    "    for base_desc, data in groups.items():\n",
    "        for kind in [\"time\", \"memory\"]:\n",
    "            entries = data[kind]\n",
    "        \n",
    "            if not entries:\n",
    "                continue\n",
    "            \n",
    "            # sort by rows and cols\n",
    "            entries.sort()\n",
    "            n_rows_set = sorted(set([r for r, c, _ in entries]))\n",
    "            n_cols_set = sorted(set([c for r, c, _ in entries]))\n",
    "            \n",
    "            Z = np.full((len(n_rows_set), len(n_cols_set)), np.nan)\n",
    "            for r, c, col in entries:\n",
    "                i = n_rows_set.index(r)\n",
    "                j = n_cols_set.index(c)\n",
    "                val = df[col].median() if use_median else df[col].mean()\n",
    "                Z[i,j] = val\n",
    "            \n",
    "            \n",
    "            # create meshgrid\n",
    "            X, Y = np.meshgrid(n_cols_set, n_rows_set)\n",
    "\n",
    "            fig = plt.figure(figsize=(10, 8))\n",
    "            ax = fig.add_subplot(111, projection='3d')\n",
    "            ax.plot_surface(X, Y, Z, cmap=cm.viridis, edgecolor='k')\n",
    "\n",
    "            ax.set_xlabel(\"Number of Columns\")\n",
    "            ax.set_ylabel(\"Number of Rows\")\n",
    "            zlabel = \"Memory (MB)\" if kind == \"memory\" else \"Runtime (s)\"\n",
    "            ax.set_zlabel(zlabel)\n",
    "            ax.set_title(f\"{zlabel} as a Function of n_cols and n_rows \\n({' '.join(base_desc.split('-'))})\")\n",
    "            \n",
    "            \n",
    "            # Save\n",
    "            safe_name = base_desc.replace(\"/\", \"_\").replace(\" \", \"_\")\n",
    "            suffix = \"mem\" if kind == \"memory\" else \"time\"\n",
    "            plt.savefig(os.path.join(out_dir, f\"new_{safe_name}_surface_{suffix}.pdf\"))\n",
    "            plt.close()\n"
   ]
  },
  {
   "cell_type": "markdown",
   "id": "cff78002",
   "metadata": {},
   "source": [
    "### Plot Numeric Error Model Profiling"
   ]
  },
  {
   "cell_type": "code",
   "execution_count": null,
   "id": "8662ca0c",
   "metadata": {},
   "outputs": [],
   "source": [
    "plot_timing_by_model(num_data)"
   ]
  },
  {
   "cell_type": "markdown",
   "id": "a82cc1db",
   "metadata": {},
   "source": [
    "### Plot String Error Model Profiling"
   ]
  },
  {
   "cell_type": "code",
   "execution_count": 6,
   "id": "baa7f80a",
   "metadata": {},
   "outputs": [],
   "source": [
    "plot_timing_by_model(str_data)"
   ]
  }
 ],
 "metadata": {
  "kernelspec": {
   "display_name": "error-paper-yAKNRbvI-py3.10",
   "language": "python",
   "name": "python3"
  },
  "language_info": {
   "codemirror_mode": {
    "name": "ipython",
    "version": 3
   },
   "file_extension": ".py",
   "mimetype": "text/x-python",
   "name": "python",
   "nbconvert_exporter": "python",
   "pygments_lexer": "ipython3",
   "version": "3.10.15"
  }
 },
 "nbformat": 4,
 "nbformat_minor": 5
}
